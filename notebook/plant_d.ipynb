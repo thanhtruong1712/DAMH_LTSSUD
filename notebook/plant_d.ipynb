{
  "metadata": {
    "kernelspec": {
      "language": "python",
      "display_name": "Python 3",
      "name": "python3"
    },
    "language_info": {
      "name": "python",
      "version": "3.7.12",
      "mimetype": "text/x-python",
      "codemirror_mode": {
        "name": "ipython",
        "version": 3
      },
      "pygments_lexer": "ipython3",
      "nbconvert_exporter": "python",
      "file_extension": ".py"
    },
    "colab": {
      "name": "plant-d.ipynb",
      "provenance": [],
      "include_colab_link": true
    }
  },
  "nbformat_minor": 0,
  "nbformat": 4,
  "cells": [
    {
      "cell_type": "markdown",
      "metadata": {
        "id": "view-in-github",
        "colab_type": "text"
      },
      "source": [
        "<a href=\"https://colab.research.google.com/github/XQuyTran/APP-CQ18/blob/main/notebook/plant_d.ipynb\" target=\"_parent\"><img src=\"https://colab.research.google.com/assets/colab-badge.svg\" alt=\"Open In Colab\"/></a>"
      ]
    },
    {
      "cell_type": "markdown",
      "source": [
        "Chạy trên kaggle"
      ],
      "metadata": {
        "id": "0TKmWrZp4UrU"
      }
    },
    {
      "cell_type": "code",
      "source": [
        "from math import e\n",
        "import pandas as pd\n",
        "import numpy as np\n",
        "import cv2 as cv\n",
        "import random\n",
        "import matplotlib.pyplot as plt\n",
        "import random\n",
        "from xgboost import XGBRegressor\n",
        "import xgboost as xgb\n",
        "import pickle\n",
        "from sklearn.model_selection import GridSearchCV"
      ],
      "metadata": {
        "id": "74Z2Euancc7y",
        "execution": {
          "iopub.status.busy": "2022-04-11T08:25:17.409960Z",
          "iopub.execute_input": "2022-04-11T08:25:17.410343Z",
          "iopub.status.idle": "2022-04-11T08:25:18.928321Z",
          "shell.execute_reply.started": "2022-04-11T08:25:17.410247Z",
          "shell.execute_reply": "2022-04-11T08:25:18.927299Z"
        },
        "trusted": true
      },
      "execution_count": null,
      "outputs": []
    },
    {
      "cell_type": "code",
      "source": [
        "test_table= pd.read_csv('../input/plant-pathology-2020-fgvc7/test.csv')\n",
        "train_table = pd.read_csv('../input/plant-pathology-2020-fgvc7/train.csv')"
      ],
      "metadata": {
        "id": "geUmoEIAeG5m",
        "execution": {
          "iopub.status.busy": "2022-04-11T08:25:18.930343Z",
          "iopub.execute_input": "2022-04-11T08:25:18.930939Z",
          "iopub.status.idle": "2022-04-11T08:25:18.959009Z",
          "shell.execute_reply.started": "2022-04-11T08:25:18.930882Z",
          "shell.execute_reply": "2022-04-11T08:25:18.958257Z"
        },
        "trusted": true
      },
      "execution_count": null,
      "outputs": []
    },
    {
      "cell_type": "markdown",
      "source": [
        "### Khám phá dữ liệu"
      ],
      "metadata": {
        "id": "Swh-SaPDpzTQ"
      }
    },
    {
      "cell_type": "code",
      "source": [
        "train_table.head()"
      ],
      "metadata": {
        "id": "svsbGfvfp20f",
        "execution": {
          "iopub.status.busy": "2022-04-11T08:25:18.960873Z",
          "iopub.execute_input": "2022-04-11T08:25:18.961365Z",
          "iopub.status.idle": "2022-04-11T08:25:18.982667Z",
          "shell.execute_reply.started": "2022-04-11T08:25:18.961317Z",
          "shell.execute_reply": "2022-04-11T08:25:18.981885Z"
        },
        "trusted": true
      },
      "execution_count": null,
      "outputs": []
    },
    {
      "cell_type": "markdown",
      "source": [
        "- Số dòng, số cột của dữ liệu?"
      ],
      "metadata": {
        "id": "imHgmAB7qijw"
      }
    },
    {
      "cell_type": "code",
      "source": [
        "train_table.shape"
      ],
      "metadata": {
        "id": "SaDtL-f2qTJ7",
        "execution": {
          "iopub.status.busy": "2022-04-11T08:25:18.984646Z",
          "iopub.execute_input": "2022-04-11T08:25:18.984911Z",
          "iopub.status.idle": "2022-04-11T08:25:18.991148Z",
          "shell.execute_reply.started": "2022-04-11T08:25:18.984878Z",
          "shell.execute_reply": "2022-04-11T08:25:18.990174Z"
        },
        "trusted": true
      },
      "execution_count": null,
      "outputs": []
    },
    {
      "cell_type": "markdown",
      "source": [
        "- Kiểu dữ liệu ?\n",
        "\n",
        "\n"
      ],
      "metadata": {
        "id": "XPu2XGTiqru_"
      }
    },
    {
      "cell_type": "code",
      "source": [
        "train_table.dtypes"
      ],
      "metadata": {
        "id": "kMOSDR6Cqv3W",
        "execution": {
          "iopub.status.busy": "2022-04-11T08:25:18.992993Z",
          "iopub.execute_input": "2022-04-11T08:25:18.993277Z",
          "iopub.status.idle": "2022-04-11T08:25:19.006801Z",
          "shell.execute_reply.started": "2022-04-11T08:25:18.993244Z",
          "shell.execute_reply": "2022-04-11T08:25:19.005869Z"
        },
        "trusted": true
      },
      "execution_count": null,
      "outputs": []
    },
    {
      "cell_type": "markdown",
      "source": [
        "- Có ảnh nào bị trùng không ?"
      ],
      "metadata": {
        "id": "2rbEMRS106G5"
      }
    },
    {
      "cell_type": "code",
      "source": [
        "train_table.index.duplicated().sum()"
      ],
      "metadata": {
        "id": "_t5cgZOguiyB",
        "execution": {
          "iopub.status.busy": "2022-04-11T08:25:19.007992Z",
          "iopub.execute_input": "2022-04-11T08:25:19.008870Z",
          "iopub.status.idle": "2022-04-11T08:25:19.018716Z",
          "shell.execute_reply.started": "2022-04-11T08:25:19.008808Z",
          "shell.execute_reply": "2022-04-11T08:25:19.017833Z"
        },
        "trusted": true
      },
      "execution_count": null,
      "outputs": []
    },
    {
      "cell_type": "markdown",
      "source": [
        "- Phân bố dữ liệu trong cùng một lớp?"
      ],
      "metadata": {
        "id": "Zr0LxhIHuYnC"
      }
    },
    {
      "cell_type": "code",
      "source": [
        "LABELS = [\"healthy\", \"multiple_diseases\", \"rust\", \"scab\"]\n",
        "_, axes = plt.subplots(ncols=4, nrows=1, constrained_layout=True, figsize=(10, 3))\n",
        "for ax, column in zip(axes, LABELS):\n",
        "    train_table[column].value_counts().plot.bar(title=column, ax=ax)\n",
        "plt.show()"
      ],
      "metadata": {
        "id": "UmmQM723uozZ",
        "execution": {
          "iopub.status.busy": "2022-04-11T08:25:19.020262Z",
          "iopub.execute_input": "2022-04-11T08:25:19.020825Z",
          "iopub.status.idle": "2022-04-11T08:25:19.619194Z",
          "shell.execute_reply.started": "2022-04-11T08:25:19.020750Z",
          "shell.execute_reply": "2022-04-11T08:25:19.618069Z"
        },
        "trusted": true
      },
      "execution_count": null,
      "outputs": []
    },
    {
      "cell_type": "markdown",
      "source": [
        "- Tỉ lệ dữ liệu giữa các lớp?"
      ],
      "metadata": {
        "id": "SrHZEFsku0SM"
      }
    },
    {
      "cell_type": "code",
      "source": [
        "# ADD\n",
        "plt.title('Label dist')\n",
        "train_table[LABELS].idxmax(axis=1).value_counts().plot.bar()"
      ],
      "metadata": {
        "id": "a32NDf-7uzH4",
        "execution": {
          "iopub.status.busy": "2022-04-11T08:25:19.620570Z",
          "iopub.execute_input": "2022-04-11T08:25:19.622986Z",
          "iopub.status.idle": "2022-04-11T08:25:19.838637Z",
          "shell.execute_reply.started": "2022-04-11T08:25:19.622926Z",
          "shell.execute_reply": "2022-04-11T08:25:19.837720Z"
        },
        "trusted": true
      },
      "execution_count": null,
      "outputs": []
    },
    {
      "cell_type": "markdown",
      "source": [
        "## 1. Trích xuất dữ liệu màu sắc và huấn luyện mô hình mạng neuron với 1 layer ẩn và activation là hàm softmax"
      ],
      "metadata": {
        "id": "mlrnDB1Mu4x1"
      }
    },
    {
      "cell_type": "markdown",
      "source": [
        "### 1.1 Trực quan hoá các hình ảnh về bênh tật để đưa ra kết luận"
      ],
      "metadata": {
        "id": "_wYly3V1noSw"
      }
    },
    {
      "cell_type": "code",
      "source": [
        "def getSampleToShow(keyColumn, sample):\n",
        "    list_sample_image = []\n",
        "    sample_train = train_table[train_table[keyColumn] == 1].sample(n = sample)\n",
        "    for image_id in sample_train['image_id']:\n",
        "        name = \"../input/plant-pathology-2020-fgvc7/images/\" + image_id + \".jpg\"\n",
        "        image = cv.imread(name)\n",
        "        im_rgb = cv.cvtColor(image, cv.COLOR_BGR2RGB)\n",
        "        list_sample_image.append(im_rgb)\n",
        "    return np.array(list_sample_image)\n",
        "\n",
        "def showImages(images):\n",
        "    plt.figure(figsize=(15,15))\n",
        "    for i in range(9):\n",
        "        plt.subplot(3,3,i+1)\n",
        "        plt.imshow(images[i])\n",
        "        \n",
        "def getImageToTest():\n",
        "    return cv.imread(\"../input/plant-pathology-2020-fgvc7/images/Train_382.jpg\")"
      ],
      "metadata": {
        "id": "CSYZXfDNnnSb",
        "execution": {
          "iopub.status.busy": "2022-04-11T08:25:19.839831Z",
          "iopub.execute_input": "2022-04-11T08:25:19.840136Z",
          "iopub.status.idle": "2022-04-11T08:25:19.847941Z",
          "shell.execute_reply.started": "2022-04-11T08:25:19.840104Z",
          "shell.execute_reply": "2022-04-11T08:25:19.847070Z"
        },
        "trusted": true
      },
      "execution_count": null,
      "outputs": []
    },
    {
      "cell_type": "markdown",
      "source": [
        "#### Hình ảnh từ sample của class rust"
      ],
      "metadata": {
        "id": "sZgnqhdtns7A"
      }
    },
    {
      "cell_type": "code",
      "source": [
        "# Xuat ra anh cua class rust\n",
        "rust_iamges = getSampleToShow('rust', 9)\n",
        "showImages(rust_iamges)"
      ],
      "metadata": {
        "id": "vKfoUYqun1ed",
        "execution": {
          "iopub.status.busy": "2022-04-11T08:25:19.851510Z",
          "iopub.execute_input": "2022-04-11T08:25:19.852359Z",
          "iopub.status.idle": "2022-04-11T08:25:25.675033Z",
          "shell.execute_reply.started": "2022-04-11T08:25:19.852319Z",
          "shell.execute_reply": "2022-04-11T08:25:25.673852Z"
        },
        "trusted": true
      },
      "execution_count": null,
      "outputs": []
    },
    {
      "cell_type": "markdown",
      "source": [
        "#### Hình ảnh từ sample của class scab"
      ],
      "metadata": {
        "id": "GH4dtseBn6GD"
      }
    },
    {
      "cell_type": "code",
      "source": [
        "# Xuat ra anh cua class scab\n",
        "rust_iamges = getSampleToShow('scab', 9)\n",
        "showImages(rust_iamges)"
      ],
      "metadata": {
        "id": "NE86YTp8n7Nx",
        "execution": {
          "iopub.status.busy": "2022-04-11T08:25:25.676522Z",
          "iopub.execute_input": "2022-04-11T08:25:25.677281Z",
          "iopub.status.idle": "2022-04-11T08:25:31.127858Z",
          "shell.execute_reply.started": "2022-04-11T08:25:25.677236Z",
          "shell.execute_reply": "2022-04-11T08:25:31.126980Z"
        },
        "trusted": true
      },
      "execution_count": null,
      "outputs": []
    },
    {
      "cell_type": "markdown",
      "source": [
        "#### Kết luận:\n",
        "- Ở đây chúng ta có thể thấy rằng ở class rust thì lá thường sẽ có màu các đốm màu vàng và class scab thì thường sẽ có các đốm màu đen.\n",
        "- Từ đó vấn đề về màu sắc là một thuộc tính rõ ràng để chúng ta trích xuất dữ liệu cho các class này\n",
        "- Vậy nên chúng em quyết định chọn 2 figure chính cho model thứ nhất này là color histogram và hue monents hai figure liên quan đến màu sắc.\n",
        "\n",
        "#### Vấn đề gặp phải:\n",
        "- Bachground của các ảnh chứa quá nhiều chi tiết về màu sắc thừa cần phải loại bỏ những chi tiết này để mô hình có thể dự đoán tốt hơn."
      ],
      "metadata": {
        "id": "NCXtm90Un_FN"
      }
    },
    {
      "cell_type": "markdown",
      "source": [
        "### 1.2 Tìm ra một số hàm để trích xuất background của ảnh."
      ],
      "metadata": {
        "id": "EC4lwfl-oEnb"
      }
    },
    {
      "cell_type": "markdown",
      "source": [
        "#### 1.2.1 Load một ảnh để trích xuất"
      ],
      "metadata": {
        "id": "Mz84XFh1oJn6"
      }
    },
    {
      "cell_type": "code",
      "source": [
        "image = getImageToTest()\n",
        "plt.imshow(cv.cvtColor(image, cv.COLOR_BGR2RGB))"
      ],
      "metadata": {
        "id": "T6w54zT1oNvO",
        "execution": {
          "iopub.status.busy": "2022-04-11T08:25:31.129244Z",
          "iopub.execute_input": "2022-04-11T08:25:31.129548Z",
          "iopub.status.idle": "2022-04-11T08:25:31.877318Z",
          "shell.execute_reply.started": "2022-04-11T08:25:31.129510Z",
          "shell.execute_reply": "2022-04-11T08:25:31.876665Z"
        },
        "trusted": true
      },
      "execution_count": null,
      "outputs": []
    },
    {
      "cell_type": "markdown",
      "source": [
        "#### 1.2.2 Sử dụng đạo hàm ảnh bằng phương pháp candy"
      ],
      "metadata": {
        "id": "neyJhdgFoQEc"
      }
    },
    {
      "cell_type": "code",
      "source": [
        "def applyCannyThreshold( frame, val):\n",
        "    ratio = 1.2\n",
        "    kernel_size = 3\n",
        "    low_threshold = val\n",
        "    img_blur = cv.GaussianBlur(frame, (3, 3), 0)\n",
        "    detected_edges = cv.Canny(img_blur, low_threshold, low_threshold*ratio, kernel_size)\n",
        "    mask = detected_edges != 0\n",
        "    dst = frame * (mask[:,:].astype(frame.dtype))\n",
        "    return dst\n",
        "\n",
        "gray_image = cv.cvtColor(image, cv.COLOR_BGR2GRAY)\n",
        "drivative_image = applyCannyThreshold(gray_image, 12)\n",
        "plt.imshow(drivative_image)"
      ],
      "metadata": {
        "id": "8hJZoblboV1A",
        "execution": {
          "iopub.status.busy": "2022-04-11T08:25:31.878542Z",
          "iopub.execute_input": "2022-04-11T08:25:31.878959Z",
          "iopub.status.idle": "2022-04-11T08:25:32.628460Z",
          "shell.execute_reply.started": "2022-04-11T08:25:31.878914Z",
          "shell.execute_reply": "2022-04-11T08:25:32.627252Z"
        },
        "trusted": true
      },
      "execution_count": null,
      "outputs": []
    },
    {
      "cell_type": "markdown",
      "source": [
        "- Sau khi lấy đạo hàm ảnh thì chúng ta có thể thấy các chi tiết của lá được dữ lại khá nhiều với lá ở chính giữa với threshold là 10"
      ],
      "metadata": {
        "id": "S9BrMZT4oYyX"
      }
    },
    {
      "cell_type": "markdown",
      "source": [
        "#### 1.2.3 Sử dụng phương pháp nén ảnh với threshold và liên kết các ô xung quanh để lấp khuyết ảnh."
      ],
      "metadata": {
        "id": "6XMtq3N1obdj"
      }
    },
    {
      "cell_type": "code",
      "source": [
        "# Hàm dùng để nén ảnh với threshold là ratio sẽ trả ra kết quả là ảnh với block tương ứng với zip x zip\n",
        "# và nếu block nào không đủ pixel yêu cầu thì là 0 còn ngược lại thì là 1\n",
        "def zipImage(src, zip_x, zip_y, ratio):\n",
        "    rs, cs = src.shape\n",
        "    zip_rs = int(rs / zip_y)\n",
        "    zip_cs = int(cs / zip_x)\n",
        "    \n",
        "    for idx in range(0, zip_rs * zip_y, zip_y):\n",
        "        for jdx in range(0, zip_cs * zip_x, zip_x):\n",
        "            block_img = src[idx : idx + zip_y, jdx : jdx + zip_x]\n",
        "            num_pixel = np.sum(block_img > 0)\n",
        "            if num_pixel >= zip_x*zip_y * ratio:\n",
        "                block_img[:,:] = 1\n",
        "            else:\n",
        "                block_img[:,:] = 0\n",
        "\n",
        "    return src\n",
        "\n",
        "mask_image = zipImage(drivative_image, 8, 8, 0.12)\n",
        "mask_image = zipImage(mask_image, 16, 16, 0.2)\n",
        "\n",
        "plt.imshow(mask_image * 255)"
      ],
      "metadata": {
        "id": "YdhFeTagoYGN",
        "execution": {
          "iopub.status.busy": "2022-04-11T08:25:32.630001Z",
          "iopub.execute_input": "2022-04-11T08:25:32.630254Z",
          "iopub.status.idle": "2022-04-11T08:25:34.182410Z",
          "shell.execute_reply.started": "2022-04-11T08:25:32.630222Z",
          "shell.execute_reply": "2022-04-11T08:25:34.181363Z"
        },
        "trusted": true
      },
      "execution_count": null,
      "outputs": []
    },
    {
      "cell_type": "markdown",
      "source": [
        "- Kết quả của ảnh test sau khi được nén và lấy theo tỉ lệ threshold."
      ],
      "metadata": {
        "id": "uUbUNX68omMm"
      }
    },
    {
      "cell_type": "code",
      "source": [
        "# Hàm dùng để liên kết các ô xung quanh để lấp khuyết sẽ trả ra kết quả là một ma trận mask\n",
        "def joinNeiboorPixel(src, zip_x, zip_y, mask_size, ratio):\n",
        "    rs, cs = src.shape\n",
        "    zip_rs = int(rs / zip_y)\n",
        "    zip_cs = int(cs / zip_x)\n",
        "    half = int(mask_size / 2)\n",
        "    dst = src.copy()\n",
        "    for idx in range(half , zip_rs - half):\n",
        "        for jdx in range(half, zip_cs - half):\n",
        "            start_row_mask = (idx - half ) * zip_y\n",
        "            end_row_mask = (idx + half + 1) * zip_y\n",
        "            start_col_mask = (jdx - half) * zip_x\n",
        "            end_col_mask = (jdx + half + 1) * zip_x\n",
        "            mask_block = src[start_row_mask : end_row_mask, start_col_mask : end_col_mask]\n",
        "            block_img = dst[idx * zip_y : (idx + 1) * zip_y, jdx * zip_x : (jdx + 1) * zip_x]\n",
        "            num_pixel = np.sum(mask_block > 0)\n",
        "            if num_pixel >= mask_size * mask_size * zip_x * zip_y * ratio:\n",
        "                block_img[:,:] = 1\n",
        "    return dst\n",
        "\n",
        "mask_image = joinNeiboorPixel(mask_image, 8, 8, 3, 0.2)\n",
        "mask_image = joinNeiboorPixel(mask_image, 16, 16, 3, 1 / 3)\n",
        "\n",
        "plt.imshow(mask_image * 255)"
      ],
      "metadata": {
        "id": "cHOOJkq7or9I",
        "execution": {
          "iopub.status.busy": "2022-04-11T08:25:34.183749Z",
          "iopub.execute_input": "2022-04-11T08:25:34.184044Z",
          "iopub.status.idle": "2022-04-11T08:25:35.827718Z",
          "shell.execute_reply.started": "2022-04-11T08:25:34.184011Z",
          "shell.execute_reply": "2022-04-11T08:25:35.826992Z"
        },
        "trusted": true
      },
      "execution_count": null,
      "outputs": []
    },
    {
      "cell_type": "markdown",
      "source": [
        "- Kết quả của ảnh test sau khi được lấp đầy."
      ],
      "metadata": {
        "id": "EeMefx8gouFM"
      }
    },
    {
      "cell_type": "code",
      "source": [
        "# Chạy mỗi hàm 2 lần để có một mask nén tốt\n",
        "# và có sự liên kết giữa các pixel tốt hơn\n",
        "mask_image = zipImage(drivative_image, 8, 8, 0.12)\n",
        "mask_image = zipImage(mask_image, 16, 16, 0.2)\n",
        "mask_image = joinNeiboorPixel(mask_image, 8, 8, 3, 0.2)\n",
        "mask_image = joinNeiboorPixel(mask_image, 16, 16, 3, 1 / 3)\n",
        "for chanel in range(0, 3):\n",
        "    image[:,:,chanel] = image[:,:,chanel] * mask_image\n",
        "\n",
        "plt.imshow(cv.cvtColor(image, cv.COLOR_BGR2RGB))"
      ],
      "metadata": {
        "id": "jFHpVK9IoxQu",
        "execution": {
          "iopub.status.busy": "2022-04-11T08:25:35.828851Z",
          "iopub.execute_input": "2022-04-11T08:25:35.829577Z",
          "iopub.status.idle": "2022-04-11T08:25:38.359862Z",
          "shell.execute_reply.started": "2022-04-11T08:25:35.829537Z",
          "shell.execute_reply": "2022-04-11T08:25:38.358847Z"
        },
        "trusted": true
      },
      "execution_count": null,
      "outputs": []
    },
    {
      "cell_type": "markdown",
      "source": [
        "- Kết quả sau khi loại bỏ bớt background của anh test đã giữ lại gần như chiếc lá gốc."
      ],
      "metadata": {
        "id": "oz3ZMOQRoz0u"
      }
    },
    {
      "cell_type": "markdown",
      "source": [
        "#### 1.2.4 Hàm dùng để trích xuất color histogram và hue monents"
      ],
      "metadata": {
        "id": "WMacYJ3To2D0"
      }
    },
    {
      "cell_type": "code",
      "source": [
        "def fd_histogram(image, mask=None):\n",
        "    bins = 8\n",
        "    # convert the image to HSV color-space\n",
        "    image = cv.cvtColor(image, cv.COLOR_BGR2HSV)\n",
        "    # compute the color histogram\n",
        "    hist  = cv.calcHist([image], [0, 1, 2], None, [bins, bins, bins], [1, 256, 1, 256, 1, 256])\n",
        "    # normalize the histogram\n",
        "    cv.normalize(hist, hist)\n",
        "    # return the histogram\n",
        "    return hist.flatten()\n",
        "\n",
        "def fd_hu_moments(image):\n",
        "    image = cv.cvtColor(image, cv.COLOR_BGR2GRAY)\n",
        "    feature = cv.HuMoments(cv.moments(image)).flatten()\n",
        "    return feature"
      ],
      "metadata": {
        "id": "UGklUDHYo4ZS",
        "execution": {
          "iopub.status.busy": "2022-04-11T08:25:38.361540Z",
          "iopub.execute_input": "2022-04-11T08:25:38.362117Z",
          "iopub.status.idle": "2022-04-11T08:25:38.368677Z",
          "shell.execute_reply.started": "2022-04-11T08:25:38.362077Z",
          "shell.execute_reply": "2022-04-11T08:25:38.367974Z"
        },
        "trusted": true
      },
      "execution_count": null,
      "outputs": []
    },
    {
      "cell_type": "markdown",
      "source": [
        "#### 1.2.5 Hàm để trích xuất tất cả các ảnh ra tập train_data và lưu lại trong file train_data.csv"
      ],
      "metadata": {
        "id": "WxAjTo1Qo8Gq"
      }
    },
    {
      "cell_type": "code",
      "source": [
        "def getPathImageById(image_id):\n",
        "    return \"../input/plant-pathology-2020-fgvc7/images/\" + image_id + \".jpg\"\n",
        "\n",
        "def getFigureForImage(path):\n",
        "    img = cv.imread(path)\n",
        "    gray = cv.cvtColor(img, cv.COLOR_BGR2GRAY)\n",
        "    gray = cv.GaussianBlur(gray, (3, 3), 0)\n",
        "    mask_img = applyCannyThreshold(gray, 12)\n",
        "    mask_img = zipImage(mask_img, 8, 8, 0.12)\n",
        "    mask_img = zipImage(mask_img, 16, 16, 0.2)\n",
        "    mask_img = joinNeiboorPixel(mask_img, 8, 8, 3, 0.15)\n",
        "    mask_img = joinNeiboorPixel(mask_img, 16, 16, 3, 1 / 3)\n",
        "    for chanel in range(0, 3):\n",
        "        img[:,:,chanel] = img[:,:,chanel] * mask_img\n",
        "\n",
        "    hist_figure = fd_histogram(img).astype(np.float64)\n",
        "    hu_monents = fd_hu_moments(img)\n",
        "    fig = np.concatenate((hist_figure, hu_monents))\n",
        "    return fig"
      ],
      "metadata": {
        "id": "gpor8zJppBir",
        "execution": {
          "iopub.status.busy": "2022-04-11T08:25:38.369898Z",
          "iopub.execute_input": "2022-04-11T08:25:38.370662Z",
          "iopub.status.idle": "2022-04-11T08:25:38.388731Z",
          "shell.execute_reply.started": "2022-04-11T08:25:38.370606Z",
          "shell.execute_reply": "2022-04-11T08:25:38.387620Z"
        },
        "trusted": true
      },
      "execution_count": null,
      "outputs": []
    },
    {
      "cell_type": "markdown",
      "source": [
        "### 1.3 Trích xuất xữ liệu từ dạng ảnh sang dạng số."
      ],
      "metadata": {
        "id": "5QPVdq39pHQz"
      }
    },
    {
      "cell_type": "code",
      "source": [
        "# tạo tên cột cho bảng data mới\n",
        "def createColsTrainName():\n",
        "    cols = []\n",
        "    for i in range(0, 512):\n",
        "        cols.append('color_hist_' + str(i))\n",
        "\n",
        "    for i in range(0, 7):\n",
        "        cols.append('hu_moents_' + str(i))\n",
        "    \n",
        "    return cols\n",
        "\n",
        "# hàm trích xuất data từ ảnh \n",
        "def createTrainData(train_table):\n",
        "    series = train_table['image_id']\n",
        "    figs = None\n",
        "    for id in series:\n",
        "        name = getPathImageById(id)\n",
        "#         print(name)\n",
        "        fig = getFigureForImage(name)\n",
        "        if figs is None:\n",
        "            figs = fig\n",
        "        else:\n",
        "            figs = np.vstack((figs, fig))\n",
        "\n",
        "#         print(\"Da trich xuat xong anh: \" + name)\n",
        "    \n",
        "    cols = createColsTrainName()\n",
        "    train_data = pd.DataFrame(figs, columns = cols)\n",
        "    train_data['image_id'] = train_table['image_id']\n",
        "    return train_data"
      ],
      "metadata": {
        "id": "sy6uhzTIpKpQ",
        "execution": {
          "iopub.status.busy": "2022-04-11T08:25:38.390259Z",
          "iopub.execute_input": "2022-04-11T08:25:38.391149Z",
          "iopub.status.idle": "2022-04-11T08:25:38.401839Z",
          "shell.execute_reply.started": "2022-04-11T08:25:38.391097Z",
          "shell.execute_reply": "2022-04-11T08:25:38.400833Z"
        },
        "trusted": true
      },
      "execution_count": null,
      "outputs": []
    },
    {
      "cell_type": "code",
      "source": [
        "# # trích xuất data của bảng train và lưu vào train_data.csv\n",
        "# train_data = createTrainData(train_table)\n",
        "# train_data.to_csv('./train_data.csv', index=False)"
      ],
      "metadata": {
        "id": "P0VGyAlIpM8H",
        "execution": {
          "iopub.status.busy": "2022-04-11T08:25:38.403039Z",
          "iopub.execute_input": "2022-04-11T08:25:38.403422Z",
          "iopub.status.idle": "2022-04-11T08:25:38.416635Z",
          "shell.execute_reply.started": "2022-04-11T08:25:38.403381Z",
          "shell.execute_reply": "2022-04-11T08:25:38.415853Z"
        },
        "trusted": true
      },
      "execution_count": null,
      "outputs": []
    },
    {
      "cell_type": "code",
      "source": [
        "# Đọc bảng data train để thực hiện train model\n",
        "train_data = pd.read_csv('../input/data-plant/train_data.csv')\n",
        "train_data.head()"
      ],
      "metadata": {
        "id": "GixyoNAkpO2Z",
        "execution": {
          "iopub.status.busy": "2022-04-11T08:25:38.418092Z",
          "iopub.execute_input": "2022-04-11T08:25:38.418489Z",
          "iopub.status.idle": "2022-04-11T08:25:38.816586Z",
          "shell.execute_reply.started": "2022-04-11T08:25:38.418448Z",
          "shell.execute_reply": "2022-04-11T08:25:38.815705Z"
        },
        "trusted": true
      },
      "execution_count": null,
      "outputs": []
    },
    {
      "cell_type": "code",
      "source": [
        "# # trích xuất data của bảng train và lưu vào test_data.csv\n",
        "# test_data = createTrainData(test_table)\n",
        "# test_data.to_csv('./test_data.csv', index=False)"
      ],
      "metadata": {
        "id": "KznHU4yapSep",
        "execution": {
          "iopub.status.busy": "2022-04-11T08:25:38.817886Z",
          "iopub.execute_input": "2022-04-11T08:25:38.818131Z",
          "iopub.status.idle": "2022-04-11T08:25:38.821816Z",
          "shell.execute_reply.started": "2022-04-11T08:25:38.818103Z",
          "shell.execute_reply": "2022-04-11T08:25:38.820926Z"
        },
        "trusted": true
      },
      "execution_count": null,
      "outputs": []
    },
    {
      "cell_type": "code",
      "source": [
        "# Đọc bảng data test_data để thực hiện test model\n",
        "test_data = pd.read_csv('../input/data-plant/test_data.csv')\n",
        "test_data.head()"
      ],
      "metadata": {
        "id": "5gUxe99wpVXd",
        "execution": {
          "iopub.status.busy": "2022-04-11T08:25:38.823236Z",
          "iopub.execute_input": "2022-04-11T08:25:38.823480Z",
          "iopub.status.idle": "2022-04-11T08:25:39.234347Z",
          "shell.execute_reply.started": "2022-04-11T08:25:38.823450Z",
          "shell.execute_reply": "2022-04-11T08:25:39.233400Z"
        },
        "trusted": true
      },
      "execution_count": null,
      "outputs": []
    },
    {
      "cell_type": "markdown",
      "source": [
        "### 1.5 Hiện thực model từ tập dữ liệu đã được trích xuất"
      ],
      "metadata": {
        "id": "9EqTMKx__nqp"
      }
    },
    {
      "cell_type": "markdown",
      "source": [
        "#### 1.5.1 Thực hiện lọc lại dữ liệu để train model"
      ],
      "metadata": {
        "id": "CuCWe1yZ_rot"
      }
    },
    {
      "cell_type": "code",
      "source": [
        "X_train = train_data.drop(columns = ['image_id']).values\n",
        "X_test = test_data.drop(columns = ['image_id']).values\n",
        "# X_train"
      ],
      "metadata": {
        "id": "fvP0ae69_ooD",
        "execution": {
          "iopub.status.busy": "2022-04-11T08:32:44.320374Z",
          "iopub.execute_input": "2022-04-11T08:32:44.320886Z",
          "iopub.status.idle": "2022-04-11T08:32:44.338042Z",
          "shell.execute_reply.started": "2022-04-11T08:32:44.320832Z",
          "shell.execute_reply": "2022-04-11T08:32:44.337113Z"
        },
        "trusted": true
      },
      "execution_count": null,
      "outputs": []
    },
    {
      "cell_type": "code",
      "source": [
        "y=train_table[['healthy', 'multiple_diseases', 'rust', 'scab']]\n",
        "y.head(2)"
      ],
      "metadata": {
        "execution": {
          "iopub.status.busy": "2022-04-11T08:48:30.839538Z",
          "iopub.execute_input": "2022-04-11T08:48:30.839848Z",
          "iopub.status.idle": "2022-04-11T08:48:30.850698Z",
          "shell.execute_reply.started": "2022-04-11T08:48:30.839807Z",
          "shell.execute_reply": "2022-04-11T08:48:30.849885Z"
        },
        "trusted": true,
        "id": "BBog2ID84TtK"
      },
      "execution_count": null,
      "outputs": []
    },
    {
      "cell_type": "code",
      "source": [
        "def return_label(_id):\n",
        "    d=['healthy', 'multiple_diseases', 'rust', 'scab']\n",
        "    for i in range(4):\n",
        "        if train_table[d[i]][_id]:\n",
        "            return i\n",
        "def y_array(train_table_):\n",
        "    Y_train_ = train_table_[['healthy', 'multiple_diseases', 'rust', 'scab']]\n",
        "    Y_train_ =pd.Series(Y_train_.index.values).apply(return_label)\n",
        "    return Y_train_.values\n"
      ],
      "metadata": {
        "execution": {
          "iopub.status.busy": "2022-04-11T08:47:57.287746Z",
          "iopub.execute_input": "2022-04-11T08:47:57.288099Z",
          "iopub.status.idle": "2022-04-11T08:47:57.296185Z",
          "shell.execute_reply.started": "2022-04-11T08:47:57.288065Z",
          "shell.execute_reply": "2022-04-11T08:47:57.295163Z"
        },
        "trusted": true,
        "id": "81fi7KpI4TtK"
      },
      "execution_count": null,
      "outputs": []
    },
    {
      "cell_type": "code",
      "source": [
        "Y_train=y_array(train_table)\n",
        "print(type(Y_train))\n",
        "Y_train"
      ],
      "metadata": {
        "execution": {
          "iopub.status.busy": "2022-04-11T08:47:59.470395Z",
          "iopub.execute_input": "2022-04-11T08:47:59.470830Z",
          "iopub.status.idle": "2022-04-11T08:47:59.523942Z",
          "shell.execute_reply.started": "2022-04-11T08:47:59.470789Z",
          "shell.execute_reply": "2022-04-11T08:47:59.523051Z"
        },
        "trusted": true,
        "id": "zfaPu-Ja4TtL"
      },
      "execution_count": null,
      "outputs": []
    },
    {
      "cell_type": "code",
      "source": [
        "# print(X_train.shape)\n",
        "# print(X_Valid.shape)\n",
        "# print(Y_Valid.shape)\n",
        "# print(Y_train.shape)"
      ],
      "metadata": {
        "id": "cBKUOZfBDg_v",
        "execution": {
          "iopub.status.busy": "2022-04-11T08:25:39.241281Z",
          "iopub.execute_input": "2022-04-11T08:25:39.241539Z",
          "iopub.status.idle": "2022-04-11T08:25:39.251387Z",
          "shell.execute_reply.started": "2022-04-11T08:25:39.241497Z",
          "shell.execute_reply": "2022-04-11T08:25:39.250659Z"
        },
        "trusted": true
      },
      "execution_count": null,
      "outputs": []
    },
    {
      "cell_type": "markdown",
      "source": [
        "#### 1.5.2 Thực hiện train model từ tập dữ liệu đã được lọc"
      ],
      "metadata": {
        "id": "0qZpae01_v7k"
      }
    },
    {
      "cell_type": "code",
      "source": [
        "tuned_params = {'learning_rate': 0.2, 'max_depth': 6, 'n_estimators': 75}\n",
        "xgb_model=XGBRegressor(objective='multi:softmax', num_class=4, threads=1,\n",
        "                       n_estimators=tuned_params['n_estimators'],\n",
        "                       max_depth=tuned_params['max_depth'],\n",
        "                       learning_rate=tuned_params['learning_rate'])\n",
        "\n",
        "xgb_model.fit(X_train, Y_train)\n",
        "pickle.dump(xgb_model, open(\"xgbModel.pkl\", \"wb\"))\n",
        "print(\"Saved model to: xgbModel.pkl\")"
      ],
      "metadata": {
        "execution": {
          "iopub.status.busy": "2022-04-11T08:49:19.764498Z",
          "iopub.execute_input": "2022-04-11T08:49:19.764812Z",
          "iopub.status.idle": "2022-04-11T08:49:34.870084Z",
          "shell.execute_reply.started": "2022-04-11T08:49:19.764753Z",
          "shell.execute_reply": "2022-04-11T08:49:34.868808Z"
        },
        "trusted": true,
        "id": "xjZij0tt4TtL"
      },
      "execution_count": null,
      "outputs": []
    },
    {
      "cell_type": "code",
      "source": [
        "# #tuning\n",
        "# def tuning(DO_PARAMETER_TUNING):\n",
        "#     if DO_PARAMETER_TUNING:\n",
        "#         parameters = {\n",
        "#         \"n_estimators\": [5,25,50,75,100],\n",
        "#         \"max_depth\": [2,4,6,9],\n",
        "#         \"learning_rate\":  [0.1,0.2, 0.3, 0.4]\n",
        "#         }\n",
        "#         xgb_model_ = XGBRegressor(objective='multi:softmax', num_class=4, threads=1)\n",
        "#         search = GridSearchCV(xgb_model_, parameters, n_jobs=-1, cv=3, verbose=3)\n",
        "#         search.fit(X_train, Y_train)\n",
        "#         pickle.dump(search, open(\"xgbModel_tuning.pkl\", \"wb\"))\n",
        "#         print(\"Saved model to: xgbModel_tuning.pkl\")\n",
        "#         tuned_params = search.best_params_\n",
        "#     else:\n",
        "#         tuned_params = {'learning_rate': 0.2, 'max_depth': 6, 'n_estimators': 75}\n",
        "#     print(tuned_params)\n",
        "# tuning(1)\n",
        "# xgb_model = pickle.load(open(\"./xgbModel_tuning.pkl\", \"rb\"))"
      ],
      "metadata": {
        "id": "l5uchcwq4TtL"
      },
      "execution_count": null,
      "outputs": []
    },
    {
      "cell_type": "markdown",
      "source": [
        "#### 1.5.3 Dự đoán tập test đã được lọc và lưu xuống tập submission"
      ],
      "metadata": {
        "id": "CBwoXpQl_9Ly"
      }
    },
    {
      "cell_type": "code",
      "source": [
        "pred_y = xgb_model.predict(X_train)\n"
      ],
      "metadata": {
        "id": "0OuGsWQC_6Hw",
        "execution": {
          "iopub.status.busy": "2022-04-11T08:51:03.504093Z",
          "iopub.execute_input": "2022-04-11T08:51:03.505020Z",
          "iopub.status.idle": "2022-04-11T08:51:03.594117Z",
          "shell.execute_reply.started": "2022-04-11T08:51:03.504961Z",
          "shell.execute_reply": "2022-04-11T08:51:03.592238Z"
        },
        "trusted": true
      },
      "execution_count": null,
      "outputs": []
    },
    {
      "cell_type": "code",
      "source": [
        "from sklearn.metrics import r2_score\n",
        "print(\"Accuracy on training set:\", r2_score(Y_train, pred_y))"
      ],
      "metadata": {
        "execution": {
          "iopub.status.busy": "2022-04-11T08:51:14.207790Z",
          "iopub.execute_input": "2022-04-11T08:51:14.208444Z",
          "iopub.status.idle": "2022-04-11T08:51:14.214582Z",
          "shell.execute_reply.started": "2022-04-11T08:51:14.208395Z",
          "shell.execute_reply": "2022-04-11T08:51:14.213476Z"
        },
        "trusted": true,
        "id": "eQyDW9NQ4TtN"
      },
      "execution_count": null,
      "outputs": []
    },
    {
      "cell_type": "code",
      "source": [
        "pred_y_test = xgb_model.predict(X_test)\n",
        "pred_y_test.shape"
      ],
      "metadata": {
        "execution": {
          "iopub.status.busy": "2022-04-11T08:51:35.630575Z",
          "iopub.execute_input": "2022-04-11T08:51:35.631043Z",
          "iopub.status.idle": "2022-04-11T08:51:35.674851Z",
          "shell.execute_reply.started": "2022-04-11T08:51:35.631001Z",
          "shell.execute_reply": "2022-04-11T08:51:35.674135Z"
        },
        "trusted": true,
        "id": "lejEYcxf4TtO"
      },
      "execution_count": null,
      "outputs": []
    },
    {
      "cell_type": "code",
      "source": [
        "def submit_(_id):\n",
        "    d=['image_id','healthy', 'multiple_diseases', 'rust', 'scab']\n",
        "    l=[submit['image_id'][_id],0,0,0,0]\n",
        "    \n",
        "    l[int(pred_y_test[_id])+1]=1\n",
        "#     print(l)\n",
        "    return dict(zip(d, l))"
      ],
      "metadata": {
        "execution": {
          "iopub.status.busy": "2022-04-11T08:51:49.294000Z",
          "iopub.execute_input": "2022-04-11T08:51:49.294285Z",
          "iopub.status.idle": "2022-04-11T08:51:49.300683Z",
          "shell.execute_reply.started": "2022-04-11T08:51:49.294256Z",
          "shell.execute_reply": "2022-04-11T08:51:49.299531Z"
        },
        "trusted": true,
        "id": "kW6ZAwAD4TtO"
      },
      "execution_count": null,
      "outputs": []
    },
    {
      "cell_type": "code",
      "source": [
        "submit=pd.read_csv('../input/plant-pathology-2020-fgvc7/sample_submission.csv')\n",
        "submit.head(2)"
      ],
      "metadata": {
        "execution": {
          "iopub.status.busy": "2022-04-11T08:52:00.618299Z",
          "iopub.execute_input": "2022-04-11T08:52:00.618759Z",
          "iopub.status.idle": "2022-04-11T08:52:00.644936Z",
          "shell.execute_reply.started": "2022-04-11T08:52:00.618712Z",
          "shell.execute_reply": "2022-04-11T08:52:00.643974Z"
        },
        "trusted": true,
        "id": "TYvh-umD4TtS"
      },
      "execution_count": null,
      "outputs": []
    },
    {
      "cell_type": "code",
      "source": [
        "df=pd.Series(submit.index.values).apply(submit_)\n",
        "df=pd.DataFrame(list(df))\n",
        "df.head(2)"
      ],
      "metadata": {
        "execution": {
          "iopub.status.busy": "2022-04-11T08:52:14.469702Z",
          "iopub.execute_input": "2022-04-11T08:52:14.470026Z",
          "iopub.status.idle": "2022-04-11T08:52:14.513158Z",
          "shell.execute_reply.started": "2022-04-11T08:52:14.469993Z",
          "shell.execute_reply": "2022-04-11T08:52:14.512076Z"
        },
        "trusted": true,
        "id": "i8kkkiTF4TtT"
      },
      "execution_count": null,
      "outputs": []
    },
    {
      "cell_type": "code",
      "source": [
        "df.to_csv('./submit.csv',index=False)"
      ],
      "metadata": {
        "execution": {
          "iopub.status.busy": "2022-04-11T08:52:25.307505Z",
          "iopub.execute_input": "2022-04-11T08:52:25.307843Z",
          "iopub.status.idle": "2022-04-11T08:52:25.319748Z",
          "shell.execute_reply.started": "2022-04-11T08:52:25.307797Z",
          "shell.execute_reply": "2022-04-11T08:52:25.318758Z"
        },
        "trusted": true,
        "id": "MUf0RJqk4TtV"
      },
      "execution_count": null,
      "outputs": []
    },
    {
      "cell_type": "markdown",
      "source": [
        "#### 1.5.4 Nộp kết quả lên trang kagle"
      ],
      "metadata": {
        "id": "M7OMRgzdAH-3"
      }
    },
    {
      "cell_type": "markdown",
      "source": [
        "#### 1.5.5 Kết luận.\n",
        "- Kết quả của mô hình vẫn chưa cao do các hệ số trong hàm nén ảnh và lấp ảnh vẫn chưa được phù hợp với 1 số ảnh.\n",
        "- Do tập dữ liệu khá nhỏ dẫn đến mô hình có thể đã bị trường hợp overfitting."
      ],
      "metadata": {
        "id": "8_46o-mNKkkP"
      }
    },
    {
      "cell_type": "markdown",
      "source": [
        "## 2. Sử dụng CNN với các convolution layer trích xuất dữ liệu và dense layer để huấn luyện dự đoán."
      ],
      "metadata": {
        "id": "XevHE4CqHUMG"
      }
    },
    {
      "cell_type": "markdown",
      "source": [
        "### 2.1 Đọc dữ liệu ảnh vào hai tập train và test"
      ],
      "metadata": {
        "id": "RRArsq7lIHBp"
      }
    },
    {
      "cell_type": "code",
      "source": [
        "#   with tf.device('/device:GPU:0'):\n",
        "#     model.fit(X_train, Y_train, epochs= 40, verbose=1,use_multiprocessing=False, shuffle=True)"
      ],
      "metadata": {
        "id": "eUc-0a_SfDzJ",
        "execution": {
          "iopub.status.busy": "2022-04-11T08:25:39.277463Z",
          "iopub.execute_input": "2022-04-11T08:25:39.277982Z",
          "iopub.status.idle": "2022-04-11T08:25:39.285121Z",
          "shell.execute_reply.started": "2022-04-11T08:25:39.277944Z",
          "shell.execute_reply": "2022-04-11T08:25:39.284101Z"
        },
        "trusted": true
      },
      "execution_count": null,
      "outputs": []
    },
    {
      "cell_type": "markdown",
      "source": [
        "#### 2.4 Dự đoán tập test đã được lọc và lưu xuống tập submission"
      ],
      "metadata": {
        "id": "Uu33jq7IJf3J"
      }
    },
    {
      "cell_type": "markdown",
      "source": [
        "#### 2.5 Nộp kết quả lên trang kagle"
      ],
      "metadata": {
        "id": "OApIlsnzJpC1"
      }
    },
    {
      "cell_type": "markdown",
      "source": [
        "#### 2.6 Kết luận về model.\n",
        "- Kết quả của model CNN tốt hơn hẳn so với model NN.\n",
        "- Do có nhiều layer convolution nên kết quả dữ liệu được trích xuất tốt hơn là trích xuất thủ công như ở model NN.\n",
        "- Và là trích xuất trực tiếp từ các phép tích chập nên thông tin được trích xuất chính xác và dẫn đến model đã dự đoán tốt hơn"
      ],
      "metadata": {
        "id": "71kJklxUKB6c"
      }
    },
    {
      "cell_type": "code",
      "source": [
        "#model\n",
        "# from xgboost import plot_tree\n",
        "# import matplotlib.pyplot as plt\n",
        "# plot_tree(xgb_model)\n",
        "# plt.show()"
      ],
      "metadata": {
        "id": "rIqSINAF4Tta"
      },
      "execution_count": null,
      "outputs": []
    }
  ]
}