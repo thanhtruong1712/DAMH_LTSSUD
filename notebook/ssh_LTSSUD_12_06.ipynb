{
  "cells": [
    {
      "attachments": {},
      "cell_type": "markdown",
      "metadata": {
        "id": "jFV9dwfbb818"
      },
      "source": [
        "---"
      ]
    },
    {
      "attachments": {},
      "cell_type": "markdown",
      "metadata": {
        "id": "vZAMhdVySoeU"
      },
      "source": [
        "# import &hàm khác"
      ]
    },
    {
      "cell_type": "code",
      "execution_count": null,
      "metadata": {
        "id": "PscCnW1s4Cer"
      },
      "outputs": [],
      "source": [
        "# !git clone https://github.com/thanhtruong1712/DAMH_LTSSUD.git"
      ]
    },
    {
      "cell_type": "code",
      "execution_count": null,
      "metadata": {
        "id": "682_iQEihSox"
      },
      "outputs": [],
      "source": [
        "#import\n",
        "\n",
        "import numpy as np\n",
        "import cv2 as cv\n",
        "import numba as nb\n",
        "from numba import jit, njit, cuda,  uint32, uint64, float32, float64\n",
        "from numpy import array, empty_like, empty, zeros\n",
        "from math import exp\n",
        "from queue import Queue\n",
        "import json\n",
        "import math\n",
        "\n",
        "BLOCK_SIZE_2 = (32, 32)\n",
        "width=1365\n",
        "height=2048\n",
        "# width*height\n",
        "grid_size_2 = (math.ceil(width / BLOCK_SIZE_2[0]),math.ceil(height / BLOCK_SIZE_2[1]))\n",
        "\n",
        "BLOCK_SIZE_1=32\n",
        "grid_size_1 = math.ceil(width*height/ BLOCK_SIZE_1)"
      ]
    },
    {
      "cell_type": "code",
      "execution_count": null,
      "metadata": {
        "id": "GFTedFmlTpHH"
      },
      "outputs": [],
      "source": [
        "def applyCannyThreshold( frame, val):\n",
        "    ratio = 1.2\n",
        "    kernel_size = 3\n",
        "    low_threshold = val\n",
        "    img_blur = cv.GaussianBlur(frame, (3, 3), 0)\n",
        "    detected_edges = cv.Canny(img_blur, low_threshold, low_threshold*ratio, kernel_size)\n",
        "    mask = detected_edges != 0\n",
        "    dst = frame * (mask[:,:].astype(frame.dtype))\n",
        "    return dst"
      ]
    },
    {
      "cell_type": "code",
      "execution_count": null,
      "metadata": {
        "id": "Mw_mU4ZiTuyG"
      },
      "outputs": [],
      "source": [
        "def zipImage(src, zip_x, zip_y, ratio):\n",
        "    rs, cs = src.shape\n",
        "    zip_rs = int(rs / zip_y)\n",
        "    zip_cs = int(cs / zip_x)\n",
        "    \n",
        "    for idx in range(0, zip_rs * zip_y, zip_y):\n",
        "        for jdx in range(0, zip_cs * zip_x, zip_x):\n",
        "            block_img = src[idx : idx + zip_y, jdx : jdx + zip_x]\n",
        "            num_pixel = np.sum(block_img > 0)\n",
        "            if num_pixel >= zip_x*zip_y * ratio:\n",
        "                block_img[:,:] = 1\n",
        "            else:\n",
        "                block_img[:,:] = 0\n",
        "\n",
        "    return src"
      ]
    },
    {
      "cell_type": "code",
      "execution_count": null,
      "metadata": {
        "id": "UY6-Ff59Tvrb"
      },
      "outputs": [],
      "source": [
        "# Hàm dùng để liên kết các ô xung quanh để lấp khuyết sẽ trả ra kết quả là một ma trận mask\n",
        "def joinNeiboorPixel(src, zip_x, zip_y, mask_size, ratio):\n",
        "    rs, cs = src.shape\n",
        "    zip_rs = int(rs / zip_y)\n",
        "    zip_cs = int(cs / zip_x)\n",
        "    half = int(mask_size / 2)\n",
        "    dst = src.copy()\n",
        "    for idx in range(half , zip_rs - half):\n",
        "        for jdx in range(half, zip_cs - half):\n",
        "            start_row_mask = (idx - half ) * zip_y\n",
        "            end_row_mask = (idx + half + 1) * zip_y\n",
        "            start_col_mask = (jdx - half) * zip_x\n",
        "            end_col_mask = (jdx + half + 1) * zip_x\n",
        "            mask_block = src[start_row_mask : end_row_mask, start_col_mask : end_col_mask]\n",
        "            block_img = dst[idx * zip_y : (idx + 1) * zip_y, jdx * zip_x : (jdx + 1) * zip_x]\n",
        "            num_pixel = np.sum(mask_block > 0)\n",
        "            if num_pixel >= mask_size * mask_size * zip_x * zip_y * ratio:\n",
        "                block_img[:,:] = 1\n",
        "    return dst"
      ]
    },
    {
      "attachments": {},
      "cell_type": "markdown",
      "metadata": {
        "id": "7WS47gU0XR40"
      },
      "source": [
        "# 2. Cài đặt tuần tự"
      ]
    },
    {
      "cell_type": "code",
      "execution_count": null,
      "metadata": {
        "id": "0oFd4F9OiF9a"
      },
      "outputs": [],
      "source": [
        "def applyCannyThreshold( frame, val):\n",
        "    ratio = 1.2\n",
        "    kernel_size = 3\n",
        "    low_threshold = val\n",
        "    img_blur = cv.GaussianBlur(frame, (3, 3), 0)\n",
        "    detected_edges = cv.Canny(img_blur, low_threshold, low_threshold*ratio, kernel_size)\n",
        "    mask = detected_edges != 0\n",
        "    dst = frame * (mask[:,:].astype(frame.dtype))\n",
        "    return dst"
      ]
    },
    {
      "cell_type": "code",
      "execution_count": null,
      "metadata": {
        "id": "rWUJ9EKJ8M4I"
      },
      "outputs": [],
      "source": [
        "# Hàm dùng để nén ảnh với threshold là ratio sẽ trả ra kết quả là ảnh với block tương ứng với zip x zip\n",
        "# và nếu block nào không đủ pixel yêu cầu thì là 0 còn ngược lại thì là 1\n",
        "@jit\n",
        "def zipImage(src, zip_x, zip_y, ratio):\n",
        "    rs, cs = src.shape\n",
        "    zip_rs = int(rs / zip_y)\n",
        "    zip_cs = int(cs / zip_x)\n",
        "    for idx in range(0, zip_rs * zip_y, zip_y):\n",
        "        for jdx in range(0, zip_cs * zip_x, zip_x):\n",
        "            block_img = src[idx : idx + zip_y, jdx : jdx + zip_x]\n",
        "            num_pixel = np.sum(block_img > 0)\n",
        "            if num_pixel >= zip_x*zip_y * ratio:\n",
        "                block_img[:,:] = 1\n",
        "            else:\n",
        "                block_img[:,:] = 0\n",
        "\n",
        "    return src\n",
        "\n",
        "@jit\n",
        "# Hàm dùng để liên kết các ô xung quanh để lấp khuyết sẽ trả ra kết quả là một ma trận mask\n",
        "def joinNeiboorPixel(src, zip_x, zip_y, mask_size, ratio):\n",
        "    rs, cs = src.shape\n",
        "    zip_rs = int(rs / zip_y)\n",
        "    zip_cs = int(cs / zip_x)\n",
        "    half = int(mask_size / 2)\n",
        "    dst = src.copy()\n",
        "    for idx in range(half , zip_rs - half):\n",
        "        for jdx in range(half, zip_cs - half):\n",
        "            start_row_mask = (idx - half ) * zip_y\n",
        "            end_row_mask = (idx + half + 1) * zip_y\n",
        "            start_col_mask = (jdx - half) * zip_x\n",
        "            end_col_mask = (jdx + half + 1) * zip_x\n",
        "            mask_block = src[start_row_mask : end_row_mask, start_col_mask : end_col_mask]\n",
        "            block_img = dst[idx * zip_y : (idx + 1) * zip_y, jdx * zip_x : (jdx + 1) * zip_x]\n",
        "            num_pixel = np.sum(mask_block > 0)\n",
        "            if num_pixel >= mask_size * mask_size * zip_x * zip_y * ratio:\n",
        "                block_img[:,:] = 1\n",
        "    return dst\n",
        "\n",
        "\n",
        "@jit\n",
        "def convert_rgb2gray(in_pixels, out_pixels):\n",
        "    '''\n",
        "    Convert color image to grayscale image.\n",
        " \n",
        "    in_pixels : numpy.ndarray with shape=(h, w, 3)\n",
        "                h, w is height, width of image\n",
        "                3 is colors with BGR (blue, green, red) order\n",
        "        Input RGB image\n",
        "    \n",
        "    out_pixels : numpy.ndarray with shape=(h, w)\n",
        "        Output image in grayscale\n",
        "    '''\n",
        "    for r in range(len(in_pixels)):\n",
        "        for c in range(len(in_pixels[0])):\n",
        "            out_pixels[r, c] = (in_pixels[r, c, 0] * 0.114 + \n",
        "                                in_pixels[r, c, 1] * 0.587 + \n",
        "                                in_pixels[r, c, 2] * 0.299)\n",
        "    return out_pixels\n",
        "\n",
        "@jit\n",
        "def cvMoments(img,m_,mu_,nu_):\n",
        "    '''\n",
        "    input:  ảnh 2D\n",
        "        m_ mảng 3x3 : M ~ raw Moments\n",
        "        mu_ 3x3: mu ~ central moments\n",
        "        nu_ 3x3: nu ~ normalized central moments \n",
        "    output: nu_\n",
        "    '''\n",
        "    # tính m_\n",
        "    for i in range(4):\n",
        "        for j in range(4):\n",
        "            temp=0\n",
        "            if (i,j) not in [(1,3),(2,2),(2,3)]:\n",
        "                for x in range(img.shape[0]):\n",
        "                    for y in range(img.shape[1]):\n",
        "                        temp=temp+img[x,y]*(x**i)*(y**j)\n",
        "                m_[i,j]=temp\n",
        "            if i==3:\n",
        "                break\n",
        "    # xbar ybar\n",
        "    xbar=m_[1,0]/m_[0,0]\n",
        "    ybar=m_[0,1]/m_[0,0]\n",
        "    # tính mu\n",
        "    mu_[1,1] = m_[1,1] - xbar*m_[0,1]\n",
        "    mu_[0,2] = m_[2,0] - xbar*m_[1,0]\n",
        "    mu_[2,0] = m_[0,2] - ybar*m_[0,1]\n",
        "    mu_[1,2] = m_[2,1] - 2*xbar*m_[1,1] - ybar*m_[2,0] + 2*(xbar**2)*m_[0,1]\n",
        "    mu_[2,1] = m_[1,2] - 2*ybar*m_[1,1] - xbar*m_[0,2] + 2*(ybar**2)*m_[1,0]\n",
        "    mu_[0,3] = m_[3,0] - 3*xbar*m_[2,0] + 2*(xbar**2)*m_[1,0]\n",
        "    mu_[3,0] = m_[0,3] - 3*ybar*m_[0,2] + 2*(ybar**2)*m_[0,1]\n",
        "\n",
        "    #tính nu  nu_ji = mu_ji / [m00^(((i+j)/2)+1)]\n",
        "    for i in range(4):\n",
        "        for j in range(4):\n",
        "            nu_[i,j] = mu_[i,j]/(m_[0,0]**(((i+j)/2)+1))\n",
        " \n",
        "    return nu_\n",
        "\n",
        "# HuMoments\n",
        "@jit\n",
        "def cvHuMoments(eta,hu_):\n",
        "    '''\n",
        "    eta: output của cvMoments\n",
        "    hu_: Mảng 1D 7 giá trị \n",
        "    '''\n",
        "    hu_[0] =  eta[2][0] + eta[0][2]\n",
        "    hu_[1] = (eta[2][0] - eta[0][2])**2 + 4*eta[1][1]**2\n",
        "    hu_[2] = (eta[3][0] - 3*eta[1][2])**2 + (3*eta[2][1] - eta[0][3])**2\n",
        "    hu_[3] = (eta[3][0] + eta[1][2])**2 + (eta[2][1] + eta[0][3])**2\n",
        "    hu_[4] = (eta[3][0] - 3*eta[1][2])*(eta[3][0] + eta[1][2])*((eta[3][0] + eta[1][2])**2 - 3*(eta[2][1] + eta[0][3])**2) +\\\n",
        "        (3*eta[2][1] - eta[0][3])*(eta[2][1] + eta[0][3])*(3*(eta[3][0] + eta[1][2])**2 - (eta[2][1] + eta[0][3])**2)\n",
        "    hu_[5] = (eta[2][0] - eta[0][2])*((eta[3][0] + eta[1][2])**2 - (eta[2][1] + eta[0][3])**2) + \\\n",
        "          4*eta[1][1]*(eta[3][0] + eta[1][2])*(eta[2][1] + eta[0][3])\n",
        "    hu_[6] = (3*eta[2][1] - eta[0][3])*(eta[2][1] + eta[0][3])*(3*(eta[3][0] + eta[1][2])**2-(eta[2][1] + eta[0][3])**2) -\\\n",
        "          (eta[3][0] - 3*eta[1][2])*(eta[1][2] + eta[0][3])*(3*(eta[3][0] + eta[1][2])**2-(eta[2][1] + eta[0][3])**2)\n",
        "    return hu_\n",
        "\n",
        "\n",
        "@jit\n",
        "def compute_hist(img, hist):\n",
        "    '''\n",
        "    Color histogram: thống kê số lần xuất hiện các mức sáng trong ảnh với bins=8, \n",
        "                     phạm vi [0,256] cho mỗi kênh màu\n",
        "    input: \n",
        "            img: numpy.ndarray with shape=(h, w, 3)\n",
        "            hist: numpy.ndarray with shape=(8,8,8)\n",
        "    '''\n",
        "    h, w,d = img.shape[:3] \n",
        "    for i in range(h): \n",
        "        for j in range(w): \n",
        "            x,y,z=img[i][j][0]//32,img[i][j][1]//32,img[i][j][2]//32\n",
        "            hist[x][y][z] =hist[x][y][z] + 1 \n",
        "    return hist\n"
      ]
    },
    {
      "cell_type": "code",
      "execution_count": null,
      "metadata": {
        "id": "iHjHCZmHoTLi"
      },
      "outputs": [],
      "source": [
        "# #huMoments\n",
        "# hu=np.zeros(7,float) \n",
        "# hu_moments = cvHuMoments(image, hu)\n"
      ]
    },
    {
      "cell_type": "code",
      "execution_count": null,
      "metadata": {
        "id": "V2x9AdGOhQlY"
      },
      "outputs": [],
      "source": [
        "def fd_histogram2(image, mask=None):\n",
        "    bins = 8\n",
        "    # convert the image to HSV color-space\n",
        "    image = cv.cvtColor(image, cv.COLOR_BGR2HSV) \n",
        "    # compute the color histogram\n",
        "    hist = np.zeros((8,8,8), np.float32) \n",
        "    hist  = compute_hist(image,hist)\n",
        "    # normalize the histogram\n",
        "    cv.normalize(hist, hist)\n",
        "    # return the histogram\n",
        "    return hist.flatten()\n",
        "\n",
        "def getFigureForImage2(path):\n",
        "    img = cv.imread(path)\n",
        "    # gray = cv.cvtColor(img, cv.COLOR_BGR2GRAY)\n",
        "    height, width = img.shape[:2]\n",
        "    gray = np.empty((height, width), dtype=img.dtype)\n",
        "    gray = convert_rgb2gray(img,gray)\n",
        "    gray = cv.GaussianBlur(gray, (3, 3), 0)\n",
        "    mask_img = applyCannyThreshold(gray, 12)\n",
        "    mask_img = zipImage(mask_img, 8, 8, 0.12)\n",
        "    mask_img = zipImage(mask_img, 16, 16, 0.2)\n",
        "    mask_img = joinNeiboorPixel(mask_img, 8, 8, 3, 0.15)\n",
        "    mask_img = joinNeiboorPixel(mask_img, 16, 16, 3, 1 / 3)\n",
        "    for chanel in range(0, 3):\n",
        "        img[:,:,chanel] = img[:,:,chanel] * mask_img\n",
        "    # print(img.shape)\n",
        "    hist_figure = fd_histogram2(img).astype(np.float64)\n",
        "    #huMoments\n",
        "    m=np.zeros((4, 4), dtype=np.float64)\n",
        "    mu=np.zeros((4, 4), dtype=np.float64)\n",
        "    nu=np.zeros((4, 4), dtype=np.float64)\n",
        "    # img = cv.cvtColor(img, cv.COLOR_BGR2GRAY)\n",
        "    height, width = img.shape[:2]\n",
        "    gray_img = np.empty((height, width), dtype=img.dtype)\n",
        "    img=convert_rgb2gray(img,gray_img)\n",
        "    nu2=cvMoments(img,m,mu,nu)\n",
        "    hu=np.zeros(7,float) \n",
        "    hu_moments = cvHuMoments(nu2, hu)\n",
        "    fig = np.concatenate((hist_figure, hu_moments))\n",
        "    return fig\n",
        "y=getFigureForImage2(\"/content/Test_4.jpg\")\n",
        "# tuần tự"
      ]
    },
    {
      "cell_type": "code",
      "execution_count": null,
      "metadata": {
        "colab": {
          "base_uri": "https://localhost:8080/"
        },
        "id": "lV_DaDnAwmCS",
        "outputId": "54245691-1730-47a5-c706-5388ca10c88f"
      },
      "outputs": [
        {
          "data": {
            "text/plain": [
              "0.0002675324963013007"
            ]
          },
          "execution_count": 22,
          "metadata": {},
          "output_type": "execute_result"
        }
      ],
      "source": [
        "\n",
        "#không tuần tự\n",
        "def fd_histogram(image, mask=None):\n",
        "    bins = 8\n",
        "    # convert the image to HSV color-space\n",
        "    image = cv.cvtColor(image, cv.COLOR_BGR2HSV)\n",
        "    # compute the color histogram\n",
        "    hist  = cv.calcHist([image], [0, 1, 2], None, [bins, bins, bins], [0, 255, 0, 255, 0, 255])\n",
        "    # normalize the histogram\n",
        "    cv.normalize(hist, hist)\n",
        "    # return the histogram\n",
        "    return hist.flatten()\n",
        "\n",
        "def fd_hu_moments(image):\n",
        "    image = cv.cvtColor(image, cv.COLOR_BGR2GRAY)\n",
        "    feature = cv.HuMoments(cv.moments(image)).flatten()\n",
        "    return feature\n",
        "# fd_hu_moments(getImageToTest())    \n",
        "\n",
        "\n",
        "def getFigureForImage(path):\n",
        "    img = cv.imread(path)\n",
        "    gray = cv.cvtColor(img, cv.COLOR_BGR2GRAY)\n",
        "    gray = cv.GaussianBlur(gray, (3, 3), 0)\n",
        "    mask_img = applyCannyThreshold(gray, 12)\n",
        "    mask_img = zipImage(mask_img, 8, 8, 0.12)\n",
        "    mask_img = zipImage(mask_img, 16, 16, 0.2)\n",
        "    mask_img = joinNeiboorPixel(mask_img, 8, 8, 3, 0.15)\n",
        "    mask_img = joinNeiboorPixel(mask_img, 16, 16, 3, 1 / 3)\n",
        "    for chanel in range(0, 3):\n",
        "        img[:,:,chanel] = img[:,:,chanel] * mask_img\n",
        "\n",
        "    hist_figure = fd_histogram(img).astype(np.float64)\n",
        "    hu_monents = fd_hu_moments(img)\n",
        "    fig = np.concatenate((hist_figure, hu_monents))\n",
        "    return fig\n",
        "y2=getFigureForImage(\"/content/Test_4.jpg\")\n",
        "np.mean(np.abs(y-y2))"
      ]
    },
    {
      "cell_type": "code",
      "execution_count": null,
      "metadata": {
        "id": "2rxMS5L57X1O"
      },
      "outputs": [],
      "source": [
        "# nháp\n"
      ]
    },
    {
      "cell_type": "code",
      "execution_count": null,
      "metadata": {
        "colab": {
          "base_uri": "https://localhost:8080/"
        },
        "id": "UuUpJCgvxDFE",
        "outputId": "ef6bfd73-4bea-4b3b-e171-d8ce99ef90c8"
      },
      "outputs": [
        {
          "name": "stdout",
          "output_type": "stream",
          "text": [
            "CPU times: user 265 ms, sys: 696 µs, total: 266 ms\n",
            "Wall time: 235 ms\n"
          ]
        }
      ],
      "source": [
        "%%time\n",
        "y=getFigureForImage2(\"/content/Test_4.jpg\")\n",
        "# CPU times: user 284 ms, sys: 420 µs, total: 285 ms\n",
        "# Wall time: 265 ms"
      ]
    },
    {
      "cell_type": "code",
      "execution_count": null,
      "metadata": {
        "colab": {
          "base_uri": "https://localhost:8080/"
        },
        "id": "nKjHStWYy3Jo",
        "outputId": "23dbb9a5-7aa5-453f-dc40-8b96d2fed8ca"
      },
      "outputs": [
        {
          "name": "stdout",
          "output_type": "stream",
          "text": [
            "CPU times: user 177 ms, sys: 3.02 ms, total: 180 ms\n",
            "Wall time: 143 ms\n"
          ]
        }
      ],
      "source": [
        "%%time\n",
        "y2=getFigureForImage(\"/content/Test_4.jpg\")"
      ]
    },
    {
      "attachments": {},
      "cell_type": "markdown",
      "metadata": {
        "id": "8hq0--pcX0hc"
      },
      "source": [
        "---"
      ]
    },
    {
      "attachments": {},
      "cell_type": "markdown",
      "metadata": {
        "id": "aqQRAvgnW-pA"
      },
      "source": [
        "# 3. Cài đặt song song"
      ]
    },
    {
      "cell_type": "code",
      "execution_count": null,
      "metadata": {
        "colab": {
          "base_uri": "https://localhost:8080/",
          "height": 589
        },
        "id": "K6Vzl5pm4_TV",
        "outputId": "0fca6ff8-94c4-41a5-d5dc-a3ffb887893d"
      },
      "outputs": [
        {
          "name": "stdout",
          "output_type": "stream",
          "text": [
            "Looking in indexes: https://pypi.org/simple, https://us-python.pkg.dev/colab-wheels/public/simple/\n",
            "Collecting xgboost==1.5.1\n",
            "  Downloading xgboost-1.5.1-py3-none-manylinux2014_x86_64.whl (173.5 MB)\n",
            "\u001b[K     |████████████████████████████████| 173.5 MB 10.0 kB/s \n",
            "\u001b[?25hRequirement already satisfied: numba in /usr/local/lib/python3.7/dist-packages (0.51.2)\n",
            "Collecting numba\n",
            "  Downloading numba-0.55.1-1-cp37-cp37m-manylinux2014_x86_64.manylinux_2_17_x86_64.whl (3.3 MB)\n",
            "\u001b[K     |████████████████████████████████| 3.3 MB 13.5 MB/s \n",
            "\u001b[?25hRequirement already satisfied: numpy in /usr/local/lib/python3.7/dist-packages (from xgboost==1.5.1) (1.21.6)\n",
            "Requirement already satisfied: scipy in /usr/local/lib/python3.7/dist-packages (from xgboost==1.5.1) (1.4.1)\n",
            "Collecting llvmlite<0.39,>=0.38.0rc1\n",
            "  Downloading llvmlite-0.38.1-cp37-cp37m-manylinux_2_17_x86_64.manylinux2014_x86_64.whl (34.5 MB)\n",
            "\u001b[K     |████████████████████████████████| 34.5 MB 1.2 MB/s \n",
            "\u001b[?25hRequirement already satisfied: setuptools in /usr/local/lib/python3.7/dist-packages (from numba) (57.4.0)\n",
            "Installing collected packages: llvmlite, xgboost, numba\n",
            "  Attempting uninstall: llvmlite\n",
            "    Found existing installation: llvmlite 0.34.0\n",
            "    Uninstalling llvmlite-0.34.0:\n",
            "      Successfully uninstalled llvmlite-0.34.0\n",
            "  Attempting uninstall: xgboost\n",
            "    Found existing installation: xgboost 0.90\n",
            "    Uninstalling xgboost-0.90:\n",
            "      Successfully uninstalled xgboost-0.90\n",
            "  Attempting uninstall: numba\n",
            "    Found existing installation: numba 0.51.2\n",
            "    Uninstalling numba-0.51.2:\n",
            "      Successfully uninstalled numba-0.51.2\n",
            "Successfully installed llvmlite-0.38.1 numba-0.55.1 xgboost-1.5.1\n"
          ]
        },
        {
          "data": {
            "application/vnd.colab-display-data+json": {
              "pip_warning": {
                "packages": [
                  "llvmlite",
                  "numba"
                ]
              }
            }
          },
          "metadata": {},
          "output_type": "display_data"
        }
      ],
      "source": [
        "!pip install -U xgboost==1.5.1 numba"
      ]
    },
    {
      "cell_type": "code",
      "execution_count": null,
      "metadata": {
        "colab": {
          "base_uri": "https://localhost:8080/"
        },
        "id": "JMn0K60C5AR7",
        "outputId": "8e068029-02bf-4513-a729-ea0dd11d44b1"
      },
      "outputs": [
        {
          "name": "stdout",
          "output_type": "stream",
          "text": [
            "python3: can't open file '/content/full_test.py': [Errno 2] No such file or directory\n"
          ]
        }
      ],
      "source": [
        "!python /content/full_test.py /content/Test_4.jpg \\\n",
        "/content/xgb_hyperparams.json /content/xgb_tree.json"
      ]
    },
    {
      "attachments": {},
      "cell_type": "markdown",
      "metadata": {
        "id": "yHVwqyoLhBzI"
      },
      "source": [
        "### gray"
      ]
    },
    {
      "cell_type": "code",
      "execution_count": null,
      "metadata": {
        "id": "EkhblCXoIyj_"
      },
      "outputs": [],
      "source": [
        "\n",
        "import cv2 as cv\n",
        "import numpy as np\n",
        "from numba import cuda, jit, njit\n",
        "@jit\n",
        "def convert_rgb2gray(in_pixels, out_pixels):\n",
        "    '''\n",
        "    Convert color image to grayscale image.\n",
        " \n",
        "    in_pixels : numpy.ndarray with shape=(h, w, 3)\n",
        "                h, w is height, width of image\n",
        "                3 is colors with BGR (blue, green, red) order\n",
        "        Input RGB image\n",
        "    \n",
        "    out_pixels : numpy.ndarray with shape=(h, w)\n",
        "        Output image in grayscale\n",
        "    '''\n",
        "    for r in range(len(in_pixels)):\n",
        "        for c in range(len(in_pixels[0])):\n",
        "            out_pixels[r, c] = (in_pixels[r, c, 0] * 0.114 +  #r*0.114 + g*0.587 + b*0.299\n",
        "                                in_pixels[r, c, 1] * 0.587 + \n",
        "                                in_pixels[r, c, 2] * 0.299)\n",
        "    return out_pixels\n",
        "img = cv.imread(\"/content/Test_4.jpg\")\n",
        "height, width = img.shape[:2]\n",
        "gray_img = np.empty((height, width), dtype=img.dtype)\n",
        "gray1=convert_rgb2gray(img,gray_img)"
      ]
    },
    {
      "cell_type": "code",
      "execution_count": null,
      "metadata": {
        "id": "QKnDaHORIilf"
      },
      "outputs": [],
      "source": [
        "#ok\n",
        "@cuda.jit\n",
        "def convert_rgb2gray_kernel(in_pixels, out_pixels):\n",
        "    c, r = cuda.grid(2)\n",
        "    if r < out_pixels.shape[0] and c < out_pixels.shape[1]:\n",
        "        out_pixels[r, c] = (in_pixels[r, c, 0] * 0.114 + \n",
        "                            in_pixels[r, c, 1] * 0.587 + \n",
        "                            in_pixels[r, c, 2] * 0.299)\n"
      ]
    },
    {
      "cell_type": "code",
      "execution_count": null,
      "metadata": {
        "id": "sfNIiNXlO947"
      },
      "outputs": [],
      "source": [
        "# test\n",
        "import math\n",
        "BLOCK_SIZE = (32, 32)\n",
        "grid_size = (math.ceil(width / BLOCK_SIZE[0]),math.ceil(height / BLOCK_SIZE[1]))\n",
        "d_in_img = cuda.to_device(img)\n",
        "d_gray_img = cuda.device_array((height, width), dtype=np.uint8)\n",
        "convert_rgb2gray_kernel[grid_size, BLOCK_SIZE](d_in_img, d_gray_img)\n"
      ]
    },
    {
      "cell_type": "code",
      "execution_count": null,
      "metadata": {
        "id": "MqXfy7eYeCXJ"
      },
      "outputs": [],
      "source": [
        "gray2=d_gray_img.copy_to_host()\n",
        "# gray2"
      ]
    },
    {
      "cell_type": "code",
      "execution_count": null,
      "metadata": {
        "colab": {
          "base_uri": "https://localhost:8080/"
        },
        "id": "_H-KqRtHP_NJ",
        "outputId": "4d43dff6-d829-4e2c-edde-8533a9e02baa"
      },
      "outputs": [
        {
          "data": {
            "text/plain": [
              "0.0009211166437728938"
            ]
          },
          "execution_count": 21,
          "metadata": {},
          "output_type": "execute_result"
        }
      ],
      "source": [
        "np.mean(np.abs(gray2.astype(np.int16)- gray1))\n"
      ]
    },
    {
      "cell_type": "code",
      "execution_count": null,
      "metadata": {
        "id": "k4tUHWBDG9do"
      },
      "outputs": [],
      "source": [
        "# cài đặt song song hóa\n",
        "import numba as nb\n",
        "@cuda.jit(nb.void(nb.uint8[:, :, ::1], nb.uint8[:, ::1]))\n",
        "def convert_rgb2gray_kernel(in_pixels, out_pixels):\n",
        "    c, r = cuda.grid(2)\n",
        "    if r < out_pixels.shape[0] and c < out_pixels.shape[1]:\n",
        "        out_pixels[r, c] = (in_pixels[r, c, 0] * 0.114 + \n",
        "                            in_pixels[r, c, 1] * 0.587 + \n",
        "                            in_pixels[r, c, 2] * 0.299)\n",
        "\n",
        "BLOCK_SIZE = (32, 32)\n",
        "def convert_rgb2gray_use_kernel(image):\n",
        "    height, width = image.shape[:2]\n",
        "    grid_size = (math.ceil(width / BLOCK_SIZE[0]),math.ceil(height / BLOCK_SIZE[1]))\n",
        "    d_in_img = cuda.to_device(image)\n",
        "    d_gray_img = cuda.device_array((height, width), dtype=np.uint8)\n",
        "    start = timer()\n",
        "    convert_rgb2gray_kernel[grid_size, BLOCK_SIZE](d_in_img, d_gray_img)\n",
        "    end = timer()\n",
        "    total_time = (end - start) * 1000\n",
        "    print(f'Total time kernel: {total_time:0.6f} ms\\n')\n",
        "    \n",
        "    gray=d_gray_img.copy_to_host()\n",
        "    return gray\n",
        "\n",
        "def fd_hu_moments3(image):\n",
        "    image=convert_rgb2gray_use_kernel(image)\n",
        "    feature = cv.HuMoments(cv.moments(image)).flatten()\n",
        "    return feature\n",
        "\n",
        "def getFigureForImage3(path):\n",
        "    img = cv.imread(path)\n",
        "    gray = convert_rgb2gray_use_kernel(img)\n",
        "    gray = cv.GaussianBlur(gray, (3, 3), 0)\n",
        "\n",
        "    mask_img = applyCannyThreshold(gray, 12)\n",
        "    mask_img = zipImage(mask_img, 8, 8, 0.12)\n",
        "    mask_img = zipImage(mask_img, 16, 16, 0.2)\n",
        "    mask_img = joinNeiboorPixel(mask_img, 8, 8, 3, 0.15)\n",
        "    mask_img = joinNeiboorPixel(mask_img, 16, 16, 3, 1 / 3)\n",
        "\n",
        "    for chanel in range(3):\n",
        "        img[:,:,chanel] = img[:,:,chanel] * mask_img\n",
        "\n",
        "    hist_figure = fd_histogram(img).astype(np.float64)\n",
        "    hu_monents = fd_hu_moments3(img)\n",
        "\n",
        "    fig = np.concatenate((hist_figure, hu_monents))\n",
        "    return fig\n",
        "\n",
        "# test song song hóa\n",
        "from timeit import default_timer as timer\n",
        "def compare_gray(path):\n",
        "    img = cv.imread(path)\n",
        "    start = timer()\n",
        "    height, width = img.shape[:2]\n",
        "    gray_img = np.empty((height, width), dtype=img.dtype)\n",
        "    gray1= convert_rgb2gray(img,gray_img)\n",
        "    end = timer()\n",
        "    total_time = (end - start) * 1000\n",
        "    print(f'Total time on host 1 : {total_time:0.6f} ms\\n')\n",
        "    \n",
        "    start = timer()\n",
        "    height, width = img.shape[:2]\n",
        "    gray_img = np.empty((height, width), dtype=img.dtype)\n",
        "    gray2= convert_rgb2gray_use_kernel(img)\n",
        "    end = timer()\n",
        "    total_time = (end - start) * 1000\n",
        "    print(f'Total time 2: {total_time:0.6f} ms\\n')\n",
        "    print('Convert rgb to grayscale error:',np.mean(np.abs(gray2.astype(np.int16)- gray1)))\n"
      ]
    },
    {
      "cell_type": "code",
      "execution_count": null,
      "metadata": {
        "colab": {
          "base_uri": "https://localhost:8080/"
        },
        "id": "lSV7qbdqHAlL",
        "outputId": "5d9ece45-e074-4ecf-fa2c-c937de6a9034"
      },
      "outputs": [
        {
          "name": "stdout",
          "output_type": "stream",
          "text": [
            "Total time on host 1 : 7.845192 ms\n",
            "\n",
            "Total time kernel: 0.358635 ms\n",
            "\n",
            "Total time 2: 4.991006 ms\n",
            "\n",
            "Convert rgb to grayscale error: 0.0009211166437728938\n"
          ]
        }
      ],
      "source": [
        "compare_gray(\"/content/Test_4.jpg\")"
      ]
    },
    {
      "attachments": {},
      "cell_type": "markdown",
      "metadata": {
        "id": "hK2NZ3Pr8vQe"
      },
      "source": [
        "### hist"
      ]
    },
    {
      "cell_type": "code",
      "execution_count": null,
      "metadata": {
        "id": "pp6jq66oFfo6"
      },
      "outputs": [],
      "source": [
        "@jit\n",
        "def compute_hist(img, hist):\n",
        "    '''\n",
        "    Color histogram: thống kê số lần xuất hiện các mức sáng trong ảnh với bins=8, \n",
        "                     phạm vi [0,255] cho mỗi kênh màu\n",
        "    input: \n",
        "            img: numpy.ndarray with shape=(h, w, 3)\n",
        "            hist: numpy.ndarray with shape=(8,8,8) \n",
        "    '''\n",
        "    h, w,d = img.shape[:3] \n",
        "    for i in range(h): \n",
        "        for j in range(w): \n",
        "            x,y,z=img[i][j][0]//32,img[i][j][1]//32,img[i][j][2]//32\n",
        "            hist[x][y][z] =hist[x][y][z] + 1 \n",
        "    return hist"
      ]
    },
    {
      "cell_type": "code",
      "execution_count": null,
      "metadata": {
        "colab": {
          "base_uri": "https://localhost:8080/"
        },
        "id": "SMmdEUVviHyN",
        "outputId": "133ba556-e800-433d-cfe1-076f59e54867"
      },
      "outputs": [
        {
          "data": {
            "text/plain": [
              "0.0"
            ]
          },
          "execution_count": 50,
          "metadata": {},
          "output_type": "execute_result"
        }
      ],
      "source": [
        "@cuda.jit\n",
        "def histogram_kernel(d_input,dhist):\n",
        "    '''\n",
        "    2d & 1d\n",
        "    '''\n",
        "    i = cuda.grid(1)\n",
        "    if i < d_input.size:\n",
        "        x,y,z=d_input[i][0]//32,d_input[i][1]//32,d_input[i][2]//32\n",
        "        index=x*8*8+y*8+z\n",
        "        cuda.atomic.add(dhist,index, 1)\n",
        "        # cuda.syncthreads() \n",
        "\n",
        "temp=cv.imread(\"/content/Test_4.jpg\")\n",
        "hist21 = np.zeros((8,8,8), np.float32) \n",
        "hist21  = compute_hist(temp,hist21)\n",
        "\n",
        "hist25 = np.zeros(8*8*8, np.float32) \n",
        "h, w,d = temp.shape[:3] \n",
        "temp=temp.reshape(w*h,3)\n",
        "BLOCK_SIZE=32\n",
        "grid_size = math.ceil(w*h/ BLOCK_SIZE)\n",
        "histogram_kernel[grid_size, BLOCK_SIZE](temp,hist25)\n",
        "np.mean(np.abs(hist25.flatten().astype(np.int32)- hist21.flatten()))       "
      ]
    },
    {
      "cell_type": "code",
      "execution_count": null,
      "metadata": {
        "id": "iP8xq2bwdeX-"
      },
      "outputs": [],
      "source": [
        "temp=cv.imread(\"/content/Test_4.jpg\")\n",
        "hist21 = np.zeros((8,8,8), np.float32) "
      ]
    },
    {
      "cell_type": "code",
      "execution_count": null,
      "metadata": {
        "colab": {
          "base_uri": "https://localhost:8080/"
        },
        "id": "2-QWzDYpcjAQ",
        "outputId": "c7905431-9ab6-44a4-b2e6-0559c3e631b0"
      },
      "outputs": [
        {
          "name": "stdout",
          "output_type": "stream",
          "text": [
            "CPU times: user 8.02 ms, sys: 0 ns, total: 8.02 ms\n",
            "Wall time: 7.98 ms\n"
          ]
        }
      ],
      "source": [
        "%%time\n",
        "hist21  = compute_hist(temp,hist21)"
      ]
    },
    {
      "cell_type": "code",
      "execution_count": null,
      "metadata": {
        "id": "JAsDw-AAc5PL"
      },
      "outputs": [],
      "source": [
        "hist25 = np.zeros(8*8*8, np.float32) \n",
        "temp=cv.imread(\"/content/Test_4.jpg\")\n",
        "h, w,d = temp.shape[:3] \n",
        "temp=temp.reshape(w*h,3)\n",
        "BLOCK_SIZE=32\n",
        "grid_size = math.ceil(w*h/ BLOCK_SIZE)"
      ]
    },
    {
      "cell_type": "code",
      "execution_count": null,
      "metadata": {
        "colab": {
          "base_uri": "https://localhost:8080/"
        },
        "id": "ZxhuLIzAdMtN",
        "outputId": "4165e2d3-5966-4a6b-8b57-e633b8d7c285"
      },
      "outputs": [
        {
          "name": "stdout",
          "output_type": "stream",
          "text": [
            "CPU times: user 8.81 ms, sys: 1.75 ms, total: 10.6 ms\n",
            "Wall time: 13.2 ms\n"
          ]
        }
      ],
      "source": [
        "%%time\n",
        "histogram_kernel[grid_size, BLOCK_SIZE](temp,hist25)"
      ]
    },
    {
      "cell_type": "code",
      "execution_count": null,
      "metadata": {
        "id": "-yADpqXnlAJH"
      },
      "outputs": [],
      "source": [
        "d_in_img = cuda.to_device(temp.reshape(w*h,3))\n",
        "d_hist = cuda.device_array(512, dtype=np.float32)\n",
        "\n",
        "# gray2=d_gray_img.copy_to_host()"
      ]
    },
    {
      "cell_type": "code",
      "execution_count": null,
      "metadata": {
        "colab": {
          "base_uri": "https://localhost:8080/"
        },
        "id": "J8rbyqFKlRWw",
        "outputId": "ddee81ac-1223-4f0f-c6f3-c8b0519faa75"
      },
      "outputs": [
        {
          "name": "stdout",
          "output_type": "stream",
          "text": [
            "CPU times: user 1.27 ms, sys: 29 µs, total: 1.3 ms\n",
            "Wall time: 1.05 ms\n"
          ]
        }
      ],
      "source": [
        "%%time\n",
        "histogram_kernel[grid_size, BLOCK_SIZE](d_in_img, d_hist)"
      ]
    },
    {
      "attachments": {},
      "cell_type": "markdown",
      "metadata": {
        "id": "qW-E2zU1A3X3"
      },
      "source": [
        "### hist3d"
      ]
    },
    {
      "cell_type": "code",
      "execution_count": null,
      "metadata": {
        "id": "_Z-odD7xA_9s"
      },
      "outputs": [],
      "source": [
        "@jit\n",
        "def compute_hist(img, hist):\n",
        "    '''\n",
        "    Color histogram: thống kê số lần xuất hiện các mức sáng trong ảnh với bins=8, \n",
        "                     phạm vi [0,255] cho mỗi kênh màu\n",
        "    input: \n",
        "            img: numpy.ndarray with shape=(h, w, 3)\n",
        "            hist: numpy.ndarray with shape=(8,8,8) \n",
        "    '''\n",
        "    h, w,d = img.shape[:3] \n",
        "    for i in range(h): \n",
        "        for j in range(w): \n",
        "            x,y,z=img[i][j][0]//32,img[i][j][1]//32,img[i][j][2]//32\n",
        "            hist[x][y][z] =hist[x][y][z] + 1 \n",
        "    return hist"
      ]
    },
    {
      "cell_type": "code",
      "execution_count": null,
      "metadata": {
        "colab": {
          "base_uri": "https://localhost:8080/"
        },
        "id": "YgL1jojRA9Ez",
        "outputId": "fa4d4f5b-4318-468b-b18a-c5571a40adbd"
      },
      "outputs": [
        {
          "data": {
            "text/plain": [
              "0.0"
            ]
          },
          "execution_count": 4,
          "metadata": {},
          "output_type": "execute_result"
        }
      ],
      "source": [
        "@cuda.jit\n",
        "def histogram_kernel(d_input,dhist):\n",
        "    '''\n",
        "    2d & 3d\n",
        "    '''\n",
        "    i = cuda.grid(1)\n",
        "    if i < d_input.size:\n",
        "        x,y,z=d_input[i][0]//32,d_input[i][1]//32,d_input[i][2]//32\n",
        "        # index=x*8*8+y*8+z\n",
        "        cuda.atomic.add(dhist,(x,y,z), 1)\n",
        "        cuda.syncthreads() \n",
        "\n",
        "temp=cv.imread(\"/content/Test_4.jpg\")\n",
        "hist21 = np.zeros((8,8,8), np.float32) \n",
        "hist21  = compute_hist(temp,hist21)\n",
        "\n",
        "hist25 = np.zeros((8,8,8), np.float32) \n",
        "h, w,d = temp.shape[:3] \n",
        "temp=temp.reshape(w*h,3)\n",
        "BLOCK_SIZE=32\n",
        "grid_size = math.ceil(w*h/ BLOCK_SIZE)\n",
        "histogram_kernel[grid_size, BLOCK_SIZE](temp,hist25)\n",
        "np.mean(np.abs(hist25.flatten().astype(np.int32)- hist21.flatten()))       "
      ]
    },
    {
      "attachments": {},
      "cell_type": "markdown",
      "metadata": {
        "id": "sNgbTi4vB9JB"
      },
      "source": [
        "### hist3d_img3d_ok"
      ]
    },
    {
      "cell_type": "code",
      "execution_count": null,
      "metadata": {
        "id": "0UjxLeJuB9JN"
      },
      "outputs": [],
      "source": [
        "@jit\n",
        "def compute_hist(img, hist):\n",
        "    '''\n",
        "    Color histogram: thống kê số lần xuất hiện các mức sáng trong ảnh với bins=8, \n",
        "                     phạm vi [0,255] cho mỗi kênh màu\n",
        "    input: \n",
        "            img: numpy.ndarray with shape=(h, w, 3)\n",
        "            hist: numpy.ndarray with shape=(8,8,8) \n",
        "    '''\n",
        "    h, w,d = img.shape[:3] \n",
        "    for i in range(h): \n",
        "        for j in range(w): \n",
        "            x,y,z=img[i][j][0]//32,img[i][j][1]//32,img[i][j][2]//32\n",
        "            hist[x][y][z] =hist[x][y][z] + 1 \n",
        "    return hist"
      ]
    },
    {
      "cell_type": "code",
      "execution_count": null,
      "metadata": {
        "colab": {
          "base_uri": "https://localhost:8080/"
        },
        "id": "kBHc78pDB9JN",
        "outputId": "4819197a-a16f-4a6e-c3b4-a3eacd83605b"
      },
      "outputs": [
        {
          "data": {
            "text/plain": [
              "0.0"
            ]
          },
          "execution_count": 3,
          "metadata": {},
          "output_type": "execute_result"
        }
      ],
      "source": [
        "@cuda.jit\n",
        "def histogram_kernel(d_input,dhist): # khởi tạo hist device, check \n",
        "    '''\n",
        "    3d & 3d\n",
        "\n",
        "    '''\n",
        "    r,c = cuda.grid(2)\n",
        "    if r < d_input.shape[0] and c < d_input.shape[1]:\n",
        "        x,y,z=d_input[r][c][0]//32,d_input[r][c][1]//32,d_input[r][c][2]//32\n",
        "        cuda.atomic.add(dhist,(x,y,z), 1)\n",
        "\n",
        "temp=cv.imread(\"/content/Test_4.jpg\")\n",
        "hist21 = np.zeros((8,8,8), np.float32) \n",
        "hist21  = compute_hist(temp,hist21)\n",
        "\n",
        "hist25 = np.zeros((8,8,8), np.float32) \n",
        "h, w,d = temp.shape[:3] \n",
        "histogram_kernel[grid_size_2, BLOCK_SIZE_2](temp,hist25)\n",
        "np.mean(np.abs(hist25.flatten().astype(np.int32)- hist21.flatten()))       "
      ]
    },
    {
      "attachments": {},
      "cell_type": "markdown",
      "metadata": {
        "id": "AhoUxFDwMEjy"
      },
      "source": [
        "### HuMoments"
      ]
    },
    {
      "attachments": {},
      "cell_type": "markdown",
      "metadata": {
        "id": "Vu_kC6la-i7P"
      },
      "source": [
        "#### Moments"
      ]
    },
    {
      "cell_type": "code",
      "execution_count": null,
      "metadata": {
        "id": "8G1yoOc5-i7b"
      },
      "outputs": [],
      "source": [
        "def m_1(img,m_): # img \n",
        "    for i in range(4):\n",
        "        for j in range(4):\n",
        "            temp=0\n",
        "            if (i,j) not in [(1,3),(2,2),(2,3)]:\n",
        "                for x in range(img.shape[0]):\n",
        "                    for y in range(img.shape[1]):\n",
        "                        temp=temp+img[x,y]*(x**i)*(y**j)\n",
        "                m_[i,j]=temp\n",
        "            if i==3:\n",
        "                break\n",
        "    return m_\n",
        "m1_jit=jit(m_1)\n",
        "\n",
        "@cuda.jit\n",
        "def m_1_kernel(img,m_): # img \n",
        "    r = cuda.grid(1)\n",
        "    if r < width*height:\n",
        "        for i in range(4):\n",
        "            for j in range(4):\n",
        "                if (i,j) not in [(1,3),(2,2),(2,3)]:\n",
        "                    temp_ij=img[r]*((r//height)**i)*((r%height)**j)\n",
        "                    cuda.atomic.add(m_, (i,j),temp_ij)              \n",
        "                if i==3:    \n",
        "                    break\n"
      ]
    },
    {
      "cell_type": "code",
      "execution_count": null,
      "metadata": {
        "colab": {
          "base_uri": "https://localhost:8080/",
          "height": 901
        },
        "id": "fuo7bYCb-i7b",
        "outputId": "440bc14e-f9d0-4ae6-b1c9-b82151c940fa"
      },
      "outputs": [
        {
          "ename": "TypingError",
          "evalue": "ignored",
          "output_type": "error",
          "traceback": [
            "\u001b[0;31m---------------------------------------------------------------------------\u001b[0m",
            "\u001b[0;31mTypingError\u001b[0m                               Traceback (most recent call last)",
            "\u001b[0;32m<ipython-input-8-0134f58f00a7>\u001b[0m in \u001b[0;36m<module>\u001b[0;34m()\u001b[0m\n\u001b[1;32m      3\u001b[0m \u001b[0mm1\u001b[0m\u001b[0;34m=\u001b[0m\u001b[0mm1_jit\u001b[0m\u001b[0;34m(\u001b[0m\u001b[0mimage\u001b[0m\u001b[0;34m,\u001b[0m\u001b[0mm1\u001b[0m\u001b[0;34m)\u001b[0m\u001b[0;34m\u001b[0m\u001b[0;34m\u001b[0m\u001b[0m\n\u001b[1;32m      4\u001b[0m \u001b[0mm2\u001b[0m\u001b[0;34m=\u001b[0m\u001b[0mnp\u001b[0m\u001b[0;34m.\u001b[0m\u001b[0mzeros\u001b[0m\u001b[0;34m(\u001b[0m\u001b[0;34m(\u001b[0m\u001b[0;36m4\u001b[0m\u001b[0;34m,\u001b[0m \u001b[0;36m4\u001b[0m\u001b[0;34m)\u001b[0m\u001b[0;34m,\u001b[0m \u001b[0mdtype\u001b[0m\u001b[0;34m=\u001b[0m\u001b[0mnp\u001b[0m\u001b[0;34m.\u001b[0m\u001b[0mfloat64\u001b[0m\u001b[0;34m)\u001b[0m\u001b[0;34m\u001b[0m\u001b[0;34m\u001b[0m\u001b[0m\n\u001b[0;32m----> 5\u001b[0;31m \u001b[0mm_1_kernel\u001b[0m\u001b[0;34m[\u001b[0m\u001b[0mgrid_size_1\u001b[0m\u001b[0;34m,\u001b[0m \u001b[0mBLOCK_SIZE_1\u001b[0m\u001b[0;34m]\u001b[0m\u001b[0;34m(\u001b[0m\u001b[0mimage\u001b[0m\u001b[0;34m,\u001b[0m\u001b[0mm2\u001b[0m\u001b[0;34m)\u001b[0m\u001b[0;34m\u001b[0m\u001b[0;34m\u001b[0m\u001b[0m\n\u001b[0m\u001b[1;32m      6\u001b[0m \u001b[0mnp\u001b[0m\u001b[0;34m.\u001b[0m\u001b[0mmean\u001b[0m\u001b[0;34m(\u001b[0m\u001b[0mnp\u001b[0m\u001b[0;34m.\u001b[0m\u001b[0mabs\u001b[0m\u001b[0;34m(\u001b[0m\u001b[0mm2\u001b[0m\u001b[0;34m.\u001b[0m\u001b[0mastype\u001b[0m\u001b[0;34m(\u001b[0m\u001b[0mnp\u001b[0m\u001b[0;34m.\u001b[0m\u001b[0mfloat32\u001b[0m\u001b[0;34m)\u001b[0m\u001b[0;34m-\u001b[0m \u001b[0mm1\u001b[0m\u001b[0;34m)\u001b[0m\u001b[0;34m)\u001b[0m\u001b[0;34m\u001b[0m\u001b[0;34m\u001b[0m\u001b[0m\n\u001b[1;32m      7\u001b[0m \u001b[0mimage\u001b[0m\u001b[0;34m[\u001b[0m\u001b[0;36m0\u001b[0m\u001b[0;34m,\u001b[0m\u001b[0;36m0\u001b[0m\u001b[0;34m]\u001b[0m\u001b[0;34m\u001b[0m\u001b[0;34m\u001b[0m\u001b[0m\n",
            "\u001b[0;32m/usr/local/lib/python3.7/dist-packages/numba/cuda/compiler.py\u001b[0m in \u001b[0;36m__call__\u001b[0;34m(self, *args)\u001b[0m\n\u001b[1;32m    768\u001b[0m     \u001b[0;32mdef\u001b[0m \u001b[0m__call__\u001b[0m\u001b[0;34m(\u001b[0m\u001b[0mself\u001b[0m\u001b[0;34m,\u001b[0m \u001b[0;34m*\u001b[0m\u001b[0margs\u001b[0m\u001b[0;34m)\u001b[0m\u001b[0;34m:\u001b[0m\u001b[0;34m\u001b[0m\u001b[0;34m\u001b[0m\u001b[0m\n\u001b[1;32m    769\u001b[0m         return self.dispatcher.call(args, self.griddim, self.blockdim,\n\u001b[0;32m--> 770\u001b[0;31m                                     self.stream, self.sharedmem)\n\u001b[0m\u001b[1;32m    771\u001b[0m \u001b[0;34m\u001b[0m\u001b[0m\n\u001b[1;32m    772\u001b[0m \u001b[0;34m\u001b[0m\u001b[0m\n",
            "\u001b[0;32m/usr/local/lib/python3.7/dist-packages/numba/cuda/compiler.py\u001b[0m in \u001b[0;36mcall\u001b[0;34m(self, args, griddim, blockdim, stream, sharedmem)\u001b[0m\n\u001b[1;32m    859\u001b[0m         argtypes = tuple(\n\u001b[1;32m    860\u001b[0m             [self.typingctx.resolve_argument_type(a) for a in args])\n\u001b[0;32m--> 861\u001b[0;31m         \u001b[0mkernel\u001b[0m \u001b[0;34m=\u001b[0m \u001b[0mself\u001b[0m\u001b[0;34m.\u001b[0m\u001b[0mcompile\u001b[0m\u001b[0;34m(\u001b[0m\u001b[0margtypes\u001b[0m\u001b[0;34m)\u001b[0m\u001b[0;34m\u001b[0m\u001b[0;34m\u001b[0m\u001b[0m\n\u001b[0m\u001b[1;32m    862\u001b[0m         \u001b[0mkernel\u001b[0m\u001b[0;34m.\u001b[0m\u001b[0mlaunch\u001b[0m\u001b[0;34m(\u001b[0m\u001b[0margs\u001b[0m\u001b[0;34m,\u001b[0m \u001b[0mgriddim\u001b[0m\u001b[0;34m,\u001b[0m \u001b[0mblockdim\u001b[0m\u001b[0;34m,\u001b[0m \u001b[0mstream\u001b[0m\u001b[0;34m,\u001b[0m \u001b[0msharedmem\u001b[0m\u001b[0;34m)\u001b[0m\u001b[0;34m\u001b[0m\u001b[0;34m\u001b[0m\u001b[0m\n\u001b[1;32m    863\u001b[0m \u001b[0;34m\u001b[0m\u001b[0m\n",
            "\u001b[0;32m/usr/local/lib/python3.7/dist-packages/numba/cuda/compiler.py\u001b[0m in \u001b[0;36mcompile\u001b[0;34m(self, sig)\u001b[0m\n\u001b[1;32m    930\u001b[0m             kernel = compile_kernel(self.py_func, argtypes,\n\u001b[1;32m    931\u001b[0m                                     \u001b[0mlink\u001b[0m\u001b[0;34m=\u001b[0m\u001b[0mself\u001b[0m\u001b[0;34m.\u001b[0m\u001b[0mlink\u001b[0m\u001b[0;34m,\u001b[0m\u001b[0;34m\u001b[0m\u001b[0;34m\u001b[0m\u001b[0m\n\u001b[0;32m--> 932\u001b[0;31m                                     **self.targetoptions)\n\u001b[0m\u001b[1;32m    933\u001b[0m             \u001b[0mself\u001b[0m\u001b[0;34m.\u001b[0m\u001b[0mdefinitions\u001b[0m\u001b[0;34m[\u001b[0m\u001b[0;34m(\u001b[0m\u001b[0mcc\u001b[0m\u001b[0;34m,\u001b[0m \u001b[0margtypes\u001b[0m\u001b[0;34m)\u001b[0m\u001b[0;34m]\u001b[0m \u001b[0;34m=\u001b[0m \u001b[0mkernel\u001b[0m\u001b[0;34m\u001b[0m\u001b[0;34m\u001b[0m\u001b[0m\n\u001b[1;32m    934\u001b[0m             \u001b[0;32mif\u001b[0m \u001b[0mself\u001b[0m\u001b[0;34m.\u001b[0m\u001b[0m_bind\u001b[0m\u001b[0;34m:\u001b[0m\u001b[0;34m\u001b[0m\u001b[0;34m\u001b[0m\u001b[0m\n",
            "\u001b[0;32m/usr/local/lib/python3.7/dist-packages/numba/core/compiler_lock.py\u001b[0m in \u001b[0;36m_acquire_compile_lock\u001b[0;34m(*args, **kwargs)\u001b[0m\n\u001b[1;32m     30\u001b[0m         \u001b[0;32mdef\u001b[0m \u001b[0m_acquire_compile_lock\u001b[0m\u001b[0;34m(\u001b[0m\u001b[0;34m*\u001b[0m\u001b[0margs\u001b[0m\u001b[0;34m,\u001b[0m \u001b[0;34m**\u001b[0m\u001b[0mkwargs\u001b[0m\u001b[0;34m)\u001b[0m\u001b[0;34m:\u001b[0m\u001b[0;34m\u001b[0m\u001b[0;34m\u001b[0m\u001b[0m\n\u001b[1;32m     31\u001b[0m             \u001b[0;32mwith\u001b[0m \u001b[0mself\u001b[0m\u001b[0;34m:\u001b[0m\u001b[0;34m\u001b[0m\u001b[0;34m\u001b[0m\u001b[0m\n\u001b[0;32m---> 32\u001b[0;31m                 \u001b[0;32mreturn\u001b[0m \u001b[0mfunc\u001b[0m\u001b[0;34m(\u001b[0m\u001b[0;34m*\u001b[0m\u001b[0margs\u001b[0m\u001b[0;34m,\u001b[0m \u001b[0;34m**\u001b[0m\u001b[0mkwargs\u001b[0m\u001b[0;34m)\u001b[0m\u001b[0;34m\u001b[0m\u001b[0;34m\u001b[0m\u001b[0m\n\u001b[0m\u001b[1;32m     33\u001b[0m         \u001b[0;32mreturn\u001b[0m \u001b[0m_acquire_compile_lock\u001b[0m\u001b[0;34m\u001b[0m\u001b[0;34m\u001b[0m\u001b[0m\n\u001b[1;32m     34\u001b[0m \u001b[0;34m\u001b[0m\u001b[0m\n",
            "\u001b[0;32m/usr/local/lib/python3.7/dist-packages/numba/cuda/compiler.py\u001b[0m in \u001b[0;36mcompile_kernel\u001b[0;34m(pyfunc, args, link, debug, inline, fastmath, extensions, max_registers, opt)\u001b[0m\n\u001b[1;32m     55\u001b[0m def compile_kernel(pyfunc, args, link, debug=False, inline=False,\n\u001b[1;32m     56\u001b[0m                    fastmath=False, extensions=[], max_registers=None, opt=True):\n\u001b[0;32m---> 57\u001b[0;31m     \u001b[0mcres\u001b[0m \u001b[0;34m=\u001b[0m \u001b[0mcompile_cuda\u001b[0m\u001b[0;34m(\u001b[0m\u001b[0mpyfunc\u001b[0m\u001b[0;34m,\u001b[0m \u001b[0mtypes\u001b[0m\u001b[0;34m.\u001b[0m\u001b[0mvoid\u001b[0m\u001b[0;34m,\u001b[0m \u001b[0margs\u001b[0m\u001b[0;34m,\u001b[0m \u001b[0mdebug\u001b[0m\u001b[0;34m=\u001b[0m\u001b[0mdebug\u001b[0m\u001b[0;34m,\u001b[0m \u001b[0minline\u001b[0m\u001b[0;34m=\u001b[0m\u001b[0minline\u001b[0m\u001b[0;34m)\u001b[0m\u001b[0;34m\u001b[0m\u001b[0;34m\u001b[0m\u001b[0m\n\u001b[0m\u001b[1;32m     58\u001b[0m     \u001b[0mfname\u001b[0m \u001b[0;34m=\u001b[0m \u001b[0mcres\u001b[0m\u001b[0;34m.\u001b[0m\u001b[0mfndesc\u001b[0m\u001b[0;34m.\u001b[0m\u001b[0mllvm_func_name\u001b[0m\u001b[0;34m\u001b[0m\u001b[0;34m\u001b[0m\u001b[0m\n\u001b[1;32m     59\u001b[0m     lib, kernel = cres.target_context.prepare_cuda_kernel(cres.library, fname,\n",
            "\u001b[0;32m/usr/local/lib/python3.7/dist-packages/numba/core/compiler_lock.py\u001b[0m in \u001b[0;36m_acquire_compile_lock\u001b[0;34m(*args, **kwargs)\u001b[0m\n\u001b[1;32m     30\u001b[0m         \u001b[0;32mdef\u001b[0m \u001b[0m_acquire_compile_lock\u001b[0m\u001b[0;34m(\u001b[0m\u001b[0;34m*\u001b[0m\u001b[0margs\u001b[0m\u001b[0;34m,\u001b[0m \u001b[0;34m**\u001b[0m\u001b[0mkwargs\u001b[0m\u001b[0;34m)\u001b[0m\u001b[0;34m:\u001b[0m\u001b[0;34m\u001b[0m\u001b[0;34m\u001b[0m\u001b[0m\n\u001b[1;32m     31\u001b[0m             \u001b[0;32mwith\u001b[0m \u001b[0mself\u001b[0m\u001b[0;34m:\u001b[0m\u001b[0;34m\u001b[0m\u001b[0;34m\u001b[0m\u001b[0m\n\u001b[0;32m---> 32\u001b[0;31m                 \u001b[0;32mreturn\u001b[0m \u001b[0mfunc\u001b[0m\u001b[0;34m(\u001b[0m\u001b[0;34m*\u001b[0m\u001b[0margs\u001b[0m\u001b[0;34m,\u001b[0m \u001b[0;34m**\u001b[0m\u001b[0mkwargs\u001b[0m\u001b[0;34m)\u001b[0m\u001b[0;34m\u001b[0m\u001b[0;34m\u001b[0m\u001b[0m\n\u001b[0m\u001b[1;32m     33\u001b[0m         \u001b[0;32mreturn\u001b[0m \u001b[0m_acquire_compile_lock\u001b[0m\u001b[0;34m\u001b[0m\u001b[0;34m\u001b[0m\u001b[0m\n\u001b[1;32m     34\u001b[0m \u001b[0;34m\u001b[0m\u001b[0m\n",
            "\u001b[0;32m/usr/local/lib/python3.7/dist-packages/numba/cuda/compiler.py\u001b[0m in \u001b[0;36mcompile_cuda\u001b[0;34m(pyfunc, return_type, args, debug, inline)\u001b[0m\n\u001b[1;32m     44\u001b[0m                                   \u001b[0mreturn_type\u001b[0m\u001b[0;34m=\u001b[0m\u001b[0mreturn_type\u001b[0m\u001b[0;34m,\u001b[0m\u001b[0;34m\u001b[0m\u001b[0;34m\u001b[0m\u001b[0m\n\u001b[1;32m     45\u001b[0m                                   \u001b[0mflags\u001b[0m\u001b[0;34m=\u001b[0m\u001b[0mflags\u001b[0m\u001b[0;34m,\u001b[0m\u001b[0;34m\u001b[0m\u001b[0;34m\u001b[0m\u001b[0m\n\u001b[0;32m---> 46\u001b[0;31m                                   locals={})\n\u001b[0m\u001b[1;32m     47\u001b[0m \u001b[0;34m\u001b[0m\u001b[0m\n\u001b[1;32m     48\u001b[0m     \u001b[0mlibrary\u001b[0m \u001b[0;34m=\u001b[0m \u001b[0mcres\u001b[0m\u001b[0;34m.\u001b[0m\u001b[0mlibrary\u001b[0m\u001b[0;34m\u001b[0m\u001b[0;34m\u001b[0m\u001b[0m\n",
            "\u001b[0;32m/usr/local/lib/python3.7/dist-packages/numba/core/compiler.py\u001b[0m in \u001b[0;36mcompile_extra\u001b[0;34m(typingctx, targetctx, func, args, return_type, flags, locals, library, pipeline_class)\u001b[0m\n\u001b[1;32m    625\u001b[0m     pipeline = pipeline_class(typingctx, targetctx, library,\n\u001b[1;32m    626\u001b[0m                               args, return_type, flags, locals)\n\u001b[0;32m--> 627\u001b[0;31m     \u001b[0;32mreturn\u001b[0m \u001b[0mpipeline\u001b[0m\u001b[0;34m.\u001b[0m\u001b[0mcompile_extra\u001b[0m\u001b[0;34m(\u001b[0m\u001b[0mfunc\u001b[0m\u001b[0;34m)\u001b[0m\u001b[0;34m\u001b[0m\u001b[0;34m\u001b[0m\u001b[0m\n\u001b[0m\u001b[1;32m    628\u001b[0m \u001b[0;34m\u001b[0m\u001b[0m\n\u001b[1;32m    629\u001b[0m \u001b[0;34m\u001b[0m\u001b[0m\n",
            "\u001b[0;32m/usr/local/lib/python3.7/dist-packages/numba/core/compiler.py\u001b[0m in \u001b[0;36mcompile_extra\u001b[0;34m(self, func)\u001b[0m\n\u001b[1;32m    361\u001b[0m         \u001b[0mself\u001b[0m\u001b[0;34m.\u001b[0m\u001b[0mstate\u001b[0m\u001b[0;34m.\u001b[0m\u001b[0mlifted\u001b[0m \u001b[0;34m=\u001b[0m \u001b[0;34m(\u001b[0m\u001b[0;34m)\u001b[0m\u001b[0;34m\u001b[0m\u001b[0;34m\u001b[0m\u001b[0m\n\u001b[1;32m    362\u001b[0m         \u001b[0mself\u001b[0m\u001b[0;34m.\u001b[0m\u001b[0mstate\u001b[0m\u001b[0;34m.\u001b[0m\u001b[0mlifted_from\u001b[0m \u001b[0;34m=\u001b[0m \u001b[0;32mNone\u001b[0m\u001b[0;34m\u001b[0m\u001b[0;34m\u001b[0m\u001b[0m\n\u001b[0;32m--> 363\u001b[0;31m         \u001b[0;32mreturn\u001b[0m \u001b[0mself\u001b[0m\u001b[0;34m.\u001b[0m\u001b[0m_compile_bytecode\u001b[0m\u001b[0;34m(\u001b[0m\u001b[0;34m)\u001b[0m\u001b[0;34m\u001b[0m\u001b[0;34m\u001b[0m\u001b[0m\n\u001b[0m\u001b[1;32m    364\u001b[0m \u001b[0;34m\u001b[0m\u001b[0m\n\u001b[1;32m    365\u001b[0m     \u001b[0;32mdef\u001b[0m \u001b[0mcompile_ir\u001b[0m\u001b[0;34m(\u001b[0m\u001b[0mself\u001b[0m\u001b[0;34m,\u001b[0m \u001b[0mfunc_ir\u001b[0m\u001b[0;34m,\u001b[0m \u001b[0mlifted\u001b[0m\u001b[0;34m=\u001b[0m\u001b[0;34m(\u001b[0m\u001b[0;34m)\u001b[0m\u001b[0;34m,\u001b[0m \u001b[0mlifted_from\u001b[0m\u001b[0;34m=\u001b[0m\u001b[0;32mNone\u001b[0m\u001b[0;34m)\u001b[0m\u001b[0;34m:\u001b[0m\u001b[0;34m\u001b[0m\u001b[0;34m\u001b[0m\u001b[0m\n",
            "\u001b[0;32m/usr/local/lib/python3.7/dist-packages/numba/core/compiler.py\u001b[0m in \u001b[0;36m_compile_bytecode\u001b[0;34m(self)\u001b[0m\n\u001b[1;32m    423\u001b[0m         \"\"\"\n\u001b[1;32m    424\u001b[0m         \u001b[0;32massert\u001b[0m \u001b[0mself\u001b[0m\u001b[0;34m.\u001b[0m\u001b[0mstate\u001b[0m\u001b[0;34m.\u001b[0m\u001b[0mfunc_ir\u001b[0m \u001b[0;32mis\u001b[0m \u001b[0;32mNone\u001b[0m\u001b[0;34m\u001b[0m\u001b[0;34m\u001b[0m\u001b[0m\n\u001b[0;32m--> 425\u001b[0;31m         \u001b[0;32mreturn\u001b[0m \u001b[0mself\u001b[0m\u001b[0;34m.\u001b[0m\u001b[0m_compile_core\u001b[0m\u001b[0;34m(\u001b[0m\u001b[0;34m)\u001b[0m\u001b[0;34m\u001b[0m\u001b[0;34m\u001b[0m\u001b[0m\n\u001b[0m\u001b[1;32m    426\u001b[0m \u001b[0;34m\u001b[0m\u001b[0m\n\u001b[1;32m    427\u001b[0m     \u001b[0;32mdef\u001b[0m \u001b[0m_compile_ir\u001b[0m\u001b[0;34m(\u001b[0m\u001b[0mself\u001b[0m\u001b[0;34m)\u001b[0m\u001b[0;34m:\u001b[0m\u001b[0;34m\u001b[0m\u001b[0;34m\u001b[0m\u001b[0m\n",
            "\u001b[0;32m/usr/local/lib/python3.7/dist-packages/numba/core/compiler.py\u001b[0m in \u001b[0;36m_compile_core\u001b[0;34m(self)\u001b[0m\n\u001b[1;32m    403\u001b[0m                 \u001b[0mself\u001b[0m\u001b[0;34m.\u001b[0m\u001b[0mstate\u001b[0m\u001b[0;34m.\u001b[0m\u001b[0mstatus\u001b[0m\u001b[0;34m.\u001b[0m\u001b[0mfail_reason\u001b[0m \u001b[0;34m=\u001b[0m \u001b[0me\u001b[0m\u001b[0;34m\u001b[0m\u001b[0;34m\u001b[0m\u001b[0m\n\u001b[1;32m    404\u001b[0m                 \u001b[0;32mif\u001b[0m \u001b[0mis_final_pipeline\u001b[0m\u001b[0;34m:\u001b[0m\u001b[0;34m\u001b[0m\u001b[0;34m\u001b[0m\u001b[0m\n\u001b[0;32m--> 405\u001b[0;31m                     \u001b[0;32mraise\u001b[0m \u001b[0me\u001b[0m\u001b[0;34m\u001b[0m\u001b[0;34m\u001b[0m\u001b[0m\n\u001b[0m\u001b[1;32m    406\u001b[0m         \u001b[0;32melse\u001b[0m\u001b[0;34m:\u001b[0m\u001b[0;34m\u001b[0m\u001b[0;34m\u001b[0m\u001b[0m\n\u001b[1;32m    407\u001b[0m             \u001b[0;32mraise\u001b[0m \u001b[0mCompilerError\u001b[0m\u001b[0;34m(\u001b[0m\u001b[0;34m\"All available pipelines exhausted\"\u001b[0m\u001b[0;34m)\u001b[0m\u001b[0;34m\u001b[0m\u001b[0;34m\u001b[0m\u001b[0m\n",
            "\u001b[0;32m/usr/local/lib/python3.7/dist-packages/numba/core/compiler.py\u001b[0m in \u001b[0;36m_compile_core\u001b[0;34m(self)\u001b[0m\n\u001b[1;32m    394\u001b[0m             \u001b[0mres\u001b[0m \u001b[0;34m=\u001b[0m \u001b[0;32mNone\u001b[0m\u001b[0;34m\u001b[0m\u001b[0;34m\u001b[0m\u001b[0m\n\u001b[1;32m    395\u001b[0m             \u001b[0;32mtry\u001b[0m\u001b[0;34m:\u001b[0m\u001b[0;34m\u001b[0m\u001b[0;34m\u001b[0m\u001b[0m\n\u001b[0;32m--> 396\u001b[0;31m                 \u001b[0mpm\u001b[0m\u001b[0;34m.\u001b[0m\u001b[0mrun\u001b[0m\u001b[0;34m(\u001b[0m\u001b[0mself\u001b[0m\u001b[0;34m.\u001b[0m\u001b[0mstate\u001b[0m\u001b[0;34m)\u001b[0m\u001b[0;34m\u001b[0m\u001b[0;34m\u001b[0m\u001b[0m\n\u001b[0m\u001b[1;32m    397\u001b[0m                 \u001b[0;32mif\u001b[0m \u001b[0mself\u001b[0m\u001b[0;34m.\u001b[0m\u001b[0mstate\u001b[0m\u001b[0;34m.\u001b[0m\u001b[0mcr\u001b[0m \u001b[0;32mis\u001b[0m \u001b[0;32mnot\u001b[0m \u001b[0;32mNone\u001b[0m\u001b[0;34m:\u001b[0m\u001b[0;34m\u001b[0m\u001b[0;34m\u001b[0m\u001b[0m\n\u001b[1;32m    398\u001b[0m                     \u001b[0;32mbreak\u001b[0m\u001b[0;34m\u001b[0m\u001b[0;34m\u001b[0m\u001b[0m\n",
            "\u001b[0;32m/usr/local/lib/python3.7/dist-packages/numba/core/compiler_machinery.py\u001b[0m in \u001b[0;36mrun\u001b[0;34m(self, state)\u001b[0m\n\u001b[1;32m    339\u001b[0m                     \u001b[0;34m(\u001b[0m\u001b[0mself\u001b[0m\u001b[0;34m.\u001b[0m\u001b[0mpipeline_name\u001b[0m\u001b[0;34m,\u001b[0m \u001b[0mpass_desc\u001b[0m\u001b[0;34m)\u001b[0m\u001b[0;34m\u001b[0m\u001b[0;34m\u001b[0m\u001b[0m\n\u001b[1;32m    340\u001b[0m                 \u001b[0mpatched_exception\u001b[0m \u001b[0;34m=\u001b[0m \u001b[0mself\u001b[0m\u001b[0;34m.\u001b[0m\u001b[0m_patch_error\u001b[0m\u001b[0;34m(\u001b[0m\u001b[0mmsg\u001b[0m\u001b[0;34m,\u001b[0m \u001b[0me\u001b[0m\u001b[0;34m)\u001b[0m\u001b[0;34m\u001b[0m\u001b[0;34m\u001b[0m\u001b[0m\n\u001b[0;32m--> 341\u001b[0;31m                 \u001b[0;32mraise\u001b[0m \u001b[0mpatched_exception\u001b[0m\u001b[0;34m\u001b[0m\u001b[0;34m\u001b[0m\u001b[0m\n\u001b[0m\u001b[1;32m    342\u001b[0m \u001b[0;34m\u001b[0m\u001b[0m\n\u001b[1;32m    343\u001b[0m     \u001b[0;32mdef\u001b[0m \u001b[0mdependency_analysis\u001b[0m\u001b[0;34m(\u001b[0m\u001b[0mself\u001b[0m\u001b[0;34m)\u001b[0m\u001b[0;34m:\u001b[0m\u001b[0;34m\u001b[0m\u001b[0;34m\u001b[0m\u001b[0m\n",
            "\u001b[0;32m/usr/local/lib/python3.7/dist-packages/numba/core/compiler_machinery.py\u001b[0m in \u001b[0;36mrun\u001b[0;34m(self, state)\u001b[0m\n\u001b[1;32m    330\u001b[0m                 \u001b[0mpass_inst\u001b[0m \u001b[0;34m=\u001b[0m \u001b[0m_pass_registry\u001b[0m\u001b[0;34m.\u001b[0m\u001b[0mget\u001b[0m\u001b[0;34m(\u001b[0m\u001b[0mpss\u001b[0m\u001b[0;34m)\u001b[0m\u001b[0;34m.\u001b[0m\u001b[0mpass_inst\u001b[0m\u001b[0;34m\u001b[0m\u001b[0;34m\u001b[0m\u001b[0m\n\u001b[1;32m    331\u001b[0m                 \u001b[0;32mif\u001b[0m \u001b[0misinstance\u001b[0m\u001b[0;34m(\u001b[0m\u001b[0mpass_inst\u001b[0m\u001b[0;34m,\u001b[0m \u001b[0mCompilerPass\u001b[0m\u001b[0;34m)\u001b[0m\u001b[0;34m:\u001b[0m\u001b[0;34m\u001b[0m\u001b[0;34m\u001b[0m\u001b[0m\n\u001b[0;32m--> 332\u001b[0;31m                     \u001b[0mself\u001b[0m\u001b[0;34m.\u001b[0m\u001b[0m_runPass\u001b[0m\u001b[0;34m(\u001b[0m\u001b[0midx\u001b[0m\u001b[0;34m,\u001b[0m \u001b[0mpass_inst\u001b[0m\u001b[0;34m,\u001b[0m \u001b[0mstate\u001b[0m\u001b[0;34m)\u001b[0m\u001b[0;34m\u001b[0m\u001b[0;34m\u001b[0m\u001b[0m\n\u001b[0m\u001b[1;32m    333\u001b[0m                 \u001b[0;32melse\u001b[0m\u001b[0;34m:\u001b[0m\u001b[0;34m\u001b[0m\u001b[0;34m\u001b[0m\u001b[0m\n\u001b[1;32m    334\u001b[0m                     \u001b[0;32mraise\u001b[0m \u001b[0mBaseException\u001b[0m\u001b[0;34m(\u001b[0m\u001b[0;34m\"Legacy pass in use\"\u001b[0m\u001b[0;34m)\u001b[0m\u001b[0;34m\u001b[0m\u001b[0;34m\u001b[0m\u001b[0m\n",
            "\u001b[0;32m/usr/local/lib/python3.7/dist-packages/numba/core/compiler_lock.py\u001b[0m in \u001b[0;36m_acquire_compile_lock\u001b[0;34m(*args, **kwargs)\u001b[0m\n\u001b[1;32m     30\u001b[0m         \u001b[0;32mdef\u001b[0m \u001b[0m_acquire_compile_lock\u001b[0m\u001b[0;34m(\u001b[0m\u001b[0;34m*\u001b[0m\u001b[0margs\u001b[0m\u001b[0;34m,\u001b[0m \u001b[0;34m**\u001b[0m\u001b[0mkwargs\u001b[0m\u001b[0;34m)\u001b[0m\u001b[0;34m:\u001b[0m\u001b[0;34m\u001b[0m\u001b[0;34m\u001b[0m\u001b[0m\n\u001b[1;32m     31\u001b[0m             \u001b[0;32mwith\u001b[0m \u001b[0mself\u001b[0m\u001b[0;34m:\u001b[0m\u001b[0;34m\u001b[0m\u001b[0;34m\u001b[0m\u001b[0m\n\u001b[0;32m---> 32\u001b[0;31m                 \u001b[0;32mreturn\u001b[0m \u001b[0mfunc\u001b[0m\u001b[0;34m(\u001b[0m\u001b[0;34m*\u001b[0m\u001b[0margs\u001b[0m\u001b[0;34m,\u001b[0m \u001b[0;34m**\u001b[0m\u001b[0mkwargs\u001b[0m\u001b[0;34m)\u001b[0m\u001b[0;34m\u001b[0m\u001b[0;34m\u001b[0m\u001b[0m\n\u001b[0m\u001b[1;32m     33\u001b[0m         \u001b[0;32mreturn\u001b[0m \u001b[0m_acquire_compile_lock\u001b[0m\u001b[0;34m\u001b[0m\u001b[0;34m\u001b[0m\u001b[0m\n\u001b[1;32m     34\u001b[0m \u001b[0;34m\u001b[0m\u001b[0m\n",
            "\u001b[0;32m/usr/local/lib/python3.7/dist-packages/numba/core/compiler_machinery.py\u001b[0m in \u001b[0;36m_runPass\u001b[0;34m(self, index, pss, internal_state)\u001b[0m\n\u001b[1;32m    289\u001b[0m             \u001b[0mmutated\u001b[0m \u001b[0;34m|=\u001b[0m \u001b[0mcheck\u001b[0m\u001b[0;34m(\u001b[0m\u001b[0mpss\u001b[0m\u001b[0;34m.\u001b[0m\u001b[0mrun_initialization\u001b[0m\u001b[0;34m,\u001b[0m \u001b[0minternal_state\u001b[0m\u001b[0;34m)\u001b[0m\u001b[0;34m\u001b[0m\u001b[0;34m\u001b[0m\u001b[0m\n\u001b[1;32m    290\u001b[0m         \u001b[0;32mwith\u001b[0m \u001b[0mSimpleTimer\u001b[0m\u001b[0;34m(\u001b[0m\u001b[0;34m)\u001b[0m \u001b[0;32mas\u001b[0m \u001b[0mpass_time\u001b[0m\u001b[0;34m:\u001b[0m\u001b[0;34m\u001b[0m\u001b[0;34m\u001b[0m\u001b[0m\n\u001b[0;32m--> 291\u001b[0;31m             \u001b[0mmutated\u001b[0m \u001b[0;34m|=\u001b[0m \u001b[0mcheck\u001b[0m\u001b[0;34m(\u001b[0m\u001b[0mpss\u001b[0m\u001b[0;34m.\u001b[0m\u001b[0mrun_pass\u001b[0m\u001b[0;34m,\u001b[0m \u001b[0minternal_state\u001b[0m\u001b[0;34m)\u001b[0m\u001b[0;34m\u001b[0m\u001b[0;34m\u001b[0m\u001b[0m\n\u001b[0m\u001b[1;32m    292\u001b[0m         \u001b[0;32mwith\u001b[0m \u001b[0mSimpleTimer\u001b[0m\u001b[0;34m(\u001b[0m\u001b[0;34m)\u001b[0m \u001b[0;32mas\u001b[0m \u001b[0mfinalize_time\u001b[0m\u001b[0;34m:\u001b[0m\u001b[0;34m\u001b[0m\u001b[0;34m\u001b[0m\u001b[0m\n\u001b[1;32m    293\u001b[0m             \u001b[0mmutated\u001b[0m \u001b[0;34m|=\u001b[0m \u001b[0mcheck\u001b[0m\u001b[0;34m(\u001b[0m\u001b[0mpss\u001b[0m\u001b[0;34m.\u001b[0m\u001b[0mrun_finalizer\u001b[0m\u001b[0;34m,\u001b[0m \u001b[0minternal_state\u001b[0m\u001b[0;34m)\u001b[0m\u001b[0;34m\u001b[0m\u001b[0;34m\u001b[0m\u001b[0m\n",
            "\u001b[0;32m/usr/local/lib/python3.7/dist-packages/numba/core/compiler_machinery.py\u001b[0m in \u001b[0;36mcheck\u001b[0;34m(func, compiler_state)\u001b[0m\n\u001b[1;32m    262\u001b[0m \u001b[0;34m\u001b[0m\u001b[0m\n\u001b[1;32m    263\u001b[0m         \u001b[0;32mdef\u001b[0m \u001b[0mcheck\u001b[0m\u001b[0;34m(\u001b[0m\u001b[0mfunc\u001b[0m\u001b[0;34m,\u001b[0m \u001b[0mcompiler_state\u001b[0m\u001b[0;34m)\u001b[0m\u001b[0;34m:\u001b[0m\u001b[0;34m\u001b[0m\u001b[0;34m\u001b[0m\u001b[0m\n\u001b[0;32m--> 264\u001b[0;31m             \u001b[0mmangled\u001b[0m \u001b[0;34m=\u001b[0m \u001b[0mfunc\u001b[0m\u001b[0;34m(\u001b[0m\u001b[0mcompiler_state\u001b[0m\u001b[0;34m)\u001b[0m\u001b[0;34m\u001b[0m\u001b[0;34m\u001b[0m\u001b[0m\n\u001b[0m\u001b[1;32m    265\u001b[0m             \u001b[0;32mif\u001b[0m \u001b[0mmangled\u001b[0m \u001b[0;32mnot\u001b[0m \u001b[0;32min\u001b[0m \u001b[0;34m(\u001b[0m\u001b[0;32mTrue\u001b[0m\u001b[0;34m,\u001b[0m \u001b[0;32mFalse\u001b[0m\u001b[0;34m)\u001b[0m\u001b[0;34m:\u001b[0m\u001b[0;34m\u001b[0m\u001b[0;34m\u001b[0m\u001b[0m\n\u001b[1;32m    266\u001b[0m                 msg = (\"CompilerPass implementations should return True/False. \"\n",
            "\u001b[0;32m/usr/local/lib/python3.7/dist-packages/numba/core/typed_passes.py\u001b[0m in \u001b[0;36mrun_pass\u001b[0;34m(self, state)\u001b[0m\n\u001b[1;32m     96\u001b[0m                 \u001b[0mstate\u001b[0m\u001b[0;34m.\u001b[0m\u001b[0mreturn_type\u001b[0m\u001b[0;34m,\u001b[0m\u001b[0;34m\u001b[0m\u001b[0;34m\u001b[0m\u001b[0m\n\u001b[1;32m     97\u001b[0m                 \u001b[0mstate\u001b[0m\u001b[0;34m.\u001b[0m\u001b[0mlocals\u001b[0m\u001b[0;34m,\u001b[0m\u001b[0;34m\u001b[0m\u001b[0;34m\u001b[0m\u001b[0m\n\u001b[0;32m---> 98\u001b[0;31m                 raise_errors=self._raise_errors)\n\u001b[0m\u001b[1;32m     99\u001b[0m             \u001b[0mstate\u001b[0m\u001b[0;34m.\u001b[0m\u001b[0mtypemap\u001b[0m \u001b[0;34m=\u001b[0m \u001b[0mtypemap\u001b[0m\u001b[0;34m\u001b[0m\u001b[0;34m\u001b[0m\u001b[0m\n\u001b[1;32m    100\u001b[0m             \u001b[0;32mif\u001b[0m \u001b[0mself\u001b[0m\u001b[0;34m.\u001b[0m\u001b[0m_raise_errors\u001b[0m\u001b[0;34m:\u001b[0m\u001b[0;34m\u001b[0m\u001b[0;34m\u001b[0m\u001b[0m\n",
            "\u001b[0;32m/usr/local/lib/python3.7/dist-packages/numba/core/typed_passes.py\u001b[0m in \u001b[0;36mtype_inference_stage\u001b[0;34m(typingctx, interp, args, return_type, locals, raise_errors)\u001b[0m\n\u001b[1;32m     68\u001b[0m \u001b[0;34m\u001b[0m\u001b[0m\n\u001b[1;32m     69\u001b[0m         \u001b[0minfer\u001b[0m\u001b[0;34m.\u001b[0m\u001b[0mbuild_constraint\u001b[0m\u001b[0;34m(\u001b[0m\u001b[0;34m)\u001b[0m\u001b[0;34m\u001b[0m\u001b[0;34m\u001b[0m\u001b[0m\n\u001b[0;32m---> 70\u001b[0;31m         \u001b[0minfer\u001b[0m\u001b[0;34m.\u001b[0m\u001b[0mpropagate\u001b[0m\u001b[0;34m(\u001b[0m\u001b[0mraise_errors\u001b[0m\u001b[0;34m=\u001b[0m\u001b[0mraise_errors\u001b[0m\u001b[0;34m)\u001b[0m\u001b[0;34m\u001b[0m\u001b[0;34m\u001b[0m\u001b[0m\n\u001b[0m\u001b[1;32m     71\u001b[0m         \u001b[0mtypemap\u001b[0m\u001b[0;34m,\u001b[0m \u001b[0mrestype\u001b[0m\u001b[0;34m,\u001b[0m \u001b[0mcalltypes\u001b[0m \u001b[0;34m=\u001b[0m \u001b[0minfer\u001b[0m\u001b[0;34m.\u001b[0m\u001b[0munify\u001b[0m\u001b[0;34m(\u001b[0m\u001b[0mraise_errors\u001b[0m\u001b[0;34m=\u001b[0m\u001b[0mraise_errors\u001b[0m\u001b[0;34m)\u001b[0m\u001b[0;34m\u001b[0m\u001b[0;34m\u001b[0m\u001b[0m\n\u001b[1;32m     72\u001b[0m \u001b[0;34m\u001b[0m\u001b[0m\n",
            "\u001b[0;32m/usr/local/lib/python3.7/dist-packages/numba/core/typeinfer.py\u001b[0m in \u001b[0;36mpropagate\u001b[0;34m(self, raise_errors)\u001b[0m\n\u001b[1;32m   1069\u001b[0m                                   if isinstance(e, ForceLiteralArg)]\n\u001b[1;32m   1070\u001b[0m                 \u001b[0;32mif\u001b[0m \u001b[0;32mnot\u001b[0m \u001b[0mforce_lit_args\u001b[0m\u001b[0;34m:\u001b[0m\u001b[0;34m\u001b[0m\u001b[0;34m\u001b[0m\u001b[0m\n\u001b[0;32m-> 1071\u001b[0;31m                     \u001b[0;32mraise\u001b[0m \u001b[0merrors\u001b[0m\u001b[0;34m[\u001b[0m\u001b[0;36m0\u001b[0m\u001b[0;34m]\u001b[0m\u001b[0;34m\u001b[0m\u001b[0;34m\u001b[0m\u001b[0m\n\u001b[0m\u001b[1;32m   1072\u001b[0m                 \u001b[0;32melse\u001b[0m\u001b[0;34m:\u001b[0m\u001b[0;34m\u001b[0m\u001b[0;34m\u001b[0m\u001b[0m\n\u001b[1;32m   1073\u001b[0m                     \u001b[0;32mraise\u001b[0m \u001b[0mreduce\u001b[0m\u001b[0;34m(\u001b[0m\u001b[0moperator\u001b[0m\u001b[0;34m.\u001b[0m\u001b[0mor_\u001b[0m\u001b[0;34m,\u001b[0m \u001b[0mforce_lit_args\u001b[0m\u001b[0;34m)\u001b[0m\u001b[0;34m\u001b[0m\u001b[0;34m\u001b[0m\u001b[0m\n",
            "\u001b[0;31mTypingError\u001b[0m: Failed in nopython mode pipeline (step: nopython frontend)\nNo implementation of function Function(<built-in function mul>) found for signature:\n \n >>> mul(array(uint8, 1d, C), int64)\n \nThere are 8 candidate implementations:\n  - Of which 2 did not match due to:\n  Operator Overload in function 'mul': File: unknown: Line unknown.\n    With argument(s): '(array(uint8, 1d, C), int64)':\n   No match for registered cases:\n    * (int64, int64) -> int64\n    * (int64, uint64) -> int64\n    * (uint64, int64) -> int64\n    * (uint64, uint64) -> uint64\n    * (float32, float32) -> float32\n    * (float64, float64) -> float64\n    * (complex64, complex64) -> complex64\n    * (complex128, complex128) -> complex128\n  - Of which 6 did not match due to:\n  Overload of function 'mul': File: <numerous>: Line N/A.\n    With argument(s): '(array(uint8, 1d, C), int64)':\n   No match.\n\nDuring: typing of intrinsic-call at <ipython-input-5-42b3d70b3574> (22)\n\nFile \"<ipython-input-5-42b3d70b3574>\", line 22:\ndef m_1_kernel(img,m_): # img \n    <source elided>\n                if (i,j) not in [(1,3),(2,2),(2,3)]:\n                    temp_ij=img[r]*((r//height)**i)*((r%height)**j)\n                    ^\n"
          ]
        }
      ],
      "source": [
        "image = cv.cvtColor(cv.imread(\"/content/Test_4.jpg\"), cv.COLOR_BGR2GRAY)\n",
        "m1=np.zeros((4, 4), dtype=np.float64)\n",
        "m1=m1_jit(image,m1)\n",
        "m2=np.zeros((4, 4), dtype=np.float64)\n",
        "m_1_kernel[grid_size_1, BLOCK_SIZE_1](image.flatten(),m2)\n",
        "np.mean(np.abs(m2.astype(np.float32)- m1))\n",
        "image[0,0]"
      ]
    },
    {
      "cell_type": "code",
      "execution_count": null,
      "metadata": {
        "id": "j6AjjKki-i7c"
      },
      "outputs": [],
      "source": [
        "m1 #136 ms"
      ]
    },
    {
      "cell_type": "code",
      "execution_count": null,
      "metadata": {
        "id": "u1hJpGX0-i7c"
      },
      "outputs": [],
      "source": [
        "m2 #64 ms"
      ]
    },
    {
      "attachments": {},
      "cell_type": "markdown",
      "metadata": {
        "id": "b6CiWba6Hbm4"
      },
      "source": [
        "#### cv\n"
      ]
    },
    {
      "cell_type": "code",
      "execution_count": null,
      "metadata": {
        "id": "mQgeWfYwHdAW"
      },
      "outputs": [],
      "source": [
        "@jit\n",
        "def cvMoments3(img,m_,mu_,nu_):\n",
        "    # tính m_\n",
        "    # xbar ybar\n",
        "    xbar=m_[1,0]/m_[0,0]\n",
        "    ybar=m_[0,1]/m_[0,0]\n",
        "    # tính mu\n",
        "    mu_[1,1] = m_[1,1] - xbar*m_[0,1]\n",
        "    mu_[0,2] = m_[2,0] - xbar*m_[1,0]\n",
        "    mu_[2,0] = m_[0,2] - ybar*m_[0,1]\n",
        "    mu_[1,2] = m_[2,1] - 2*xbar*m_[1,1] - ybar*m_[2,0] + 2*(xbar**2)*m_[0,1]\n",
        "    mu_[2,1] = m_[1,2] - 2*ybar*m_[1,1] - xbar*m_[0,2] + 2*(ybar**2)*m_[1,0]\n",
        "    mu_[0,3] = m_[3,0] - 3*xbar*m_[2,0] + 2*(xbar**2)*m_[1,0]\n",
        "    mu_[3,0] = m_[0,3] - 3*ybar*m_[0,2] + 2*(ybar**2)*m_[0,1]\n",
        "\n",
        "    #tính nu  nu_ji = mu_ji / [m00^(((i+j)/2)+1)]\n",
        "    for i in range(4):\n",
        "        for j in range(4):\n",
        "            nu_[i,j] = mu_[i,j]/(m_[0,0]**(((i+j)/2)+1))\n",
        " \n",
        "    return nu_\n"
      ]
    },
    {
      "cell_type": "code",
      "execution_count": null,
      "metadata": {
        "id": "MncIZYmIHl45"
      },
      "outputs": [],
      "source": [
        "image = cv.cvtColor(cv.imread(\"/content/Test_4.jpg\"), cv.COLOR_BGR2GRAY)\n",
        "m1=np.zeros((4, 4), dtype=np.float64)\n",
        "m1=m1_jit(image,m1)"
      ]
    },
    {
      "cell_type": "code",
      "execution_count": null,
      "metadata": {
        "id": "d2DT5XcDHtqx"
      },
      "outputs": [],
      "source": [
        "# m=np.zeros((4, 4), dtype=np.float64)\n",
        "mu=np.zeros((4, 4), dtype=np.float64)\n",
        "nu=np.zeros((4, 4), dtype=np.float64)\n",
        "nu=cvMoments3(image,m1,mu,nu)"
      ]
    },
    {
      "cell_type": "code",
      "execution_count": null,
      "metadata": {
        "colab": {
          "base_uri": "https://localhost:8080/"
        },
        "id": "S-11F4MCICC8",
        "outputId": "08e877d9-69c5-4d21-ad5d-b28e57bed211"
      },
      "outputs": [
        {
          "data": {
            "text/plain": [
              "array([[ 0.00000000e+00,  0.00000000e+00,  5.16443078e-04,\n",
              "         8.96370142e-07],\n",
              "       [ 0.00000000e+00,  3.04189063e-05, -1.71052571e-06,\n",
              "         0.00000000e+00],\n",
              "       [ 1.03453212e-03,  2.27965685e-07,  0.00000000e+00,\n",
              "         0.00000000e+00],\n",
              "       [-5.33108232e-06,  0.00000000e+00,  0.00000000e+00,\n",
              "         0.00000000e+00]])"
            ]
          },
          "execution_count": 125,
          "metadata": {},
          "output_type": "execute_result"
        }
      ],
      "source": [
        "nu"
      ]
    },
    {
      "cell_type": "code",
      "execution_count": null,
      "metadata": {
        "id": "EuDS5DGgJ8EC"
      },
      "outputs": [],
      "source": [
        "hu=np.zeros(7,float) \n",
        "hu1=cvHuMoments(nu,hu)"
      ]
    },
    {
      "attachments": {},
      "cell_type": "markdown",
      "metadata": {
        "id": "N0gelALy0lMs"
      },
      "source": [
        "### mo2"
      ]
    },
    {
      "cell_type": "code",
      "execution_count": null,
      "metadata": {
        "colab": {
          "base_uri": "https://localhost:8080/"
        },
        "id": "Izsx1Xzl0mrl",
        "outputId": "9d46c5ec-e237-4382-9e0c-5f5c7e7d45d9"
      },
      "outputs": [
        {
          "data": {
            "text/plain": [
              "3070189894.25"
            ]
          },
          "execution_count": 16,
          "metadata": {},
          "output_type": "execute_result"
        }
      ],
      "source": [
        "def m_1(img,m_): # img \n",
        "    for i in range(4):\n",
        "        for j in range(4):\n",
        "            temp=0\n",
        "            if (i,j) not in [(1,3),(2,2),(2,3)]:\n",
        "                for x in range(img.shape[0]):\n",
        "                    for y in range(img.shape[1]):\n",
        "                        temp=temp+img[x,y]*(x**i)*(y**j)\n",
        "                m_[i,j]=temp\n",
        "            if i==3:\n",
        "                break\n",
        "    return m_\n",
        "m1_jit=jit(m_1)\n",
        "\n",
        "@cuda.jit\n",
        "def m_ij_k(img,m_,i,j): # img \n",
        "    temp_ij=0\n",
        "    r ,c= cuda.grid(2)\n",
        "    if r < img.shape[0] and c < img.shape[1]:\n",
        "        temp_ij=img[r,c]*(r**i)*(c**j)\n",
        "        cuda.atomic.add(m_, (i,j),temp_ij)\n",
        "        cuda.syncthreads()\n",
        "        \n",
        "def m_1_kernel(img,m_): # img \n",
        "    for i in range(4):\n",
        "        for j in range(4):\n",
        "            if (i,j) not in [(1,3),(2,2),(2,3)]:      \n",
        "                m_ij_k[grid_size_2, BLOCK_SIZE_2](img,m_,i,j)      \n",
        "            if i==3:    \n",
        "                break\n",
        "\n",
        "image = cv.cvtColor(cv.imread(\"/content/Test_4.jpg\"), cv.COLOR_BGR2GRAY)#.astype(np.float32)\n",
        "\n",
        "# host\n",
        "m1=np.zeros((4, 4), dtype=np.float64)\n",
        "m1=m1_jit(image,m1)\n",
        "\n",
        "#kernel\n",
        "d_in_img = cuda.to_device(image)\n",
        "m2=np.zeros((4, 4), dtype=np.float64)\n",
        "d_m2 = cuda.to_device(m2)\n",
        "m_1_kernel(d_in_img,d_m2)\n",
        "m2=d_m2.copy_to_host()\n",
        "np.mean(np.abs(m2.astype(np.float32)- m1))\n",
        "# image[0,0]"
      ]
    },
    {
      "cell_type": "code",
      "execution_count": null,
      "metadata": {
        "colab": {
          "base_uri": "https://localhost:8080/"
        },
        "id": "UwjGjkHqLgDY",
        "outputId": "83a878bf-ee46-4bcc-bfc4-43e815f9bc5b"
      },
      "outputs": [
        {
          "data": {
            "text/plain": [
              "array([[3.44355115e+08, 3.73548604e+11, 5.27892316e+14, 8.27065389e+17],\n",
              "       [2.35280119e+11, 2.58833614e+14, 3.69009044e+17, 0.00000000e+00],\n",
              "       [2.21994841e+14, 2.41980065e+17, 0.00000000e+00, 0.00000000e+00],\n",
              "       [2.37334430e+17, 0.00000000e+00, 0.00000000e+00, 0.00000000e+00]])"
            ]
          },
          "execution_count": 4,
          "metadata": {},
          "output_type": "execute_result"
        }
      ],
      "source": [
        "m1"
      ]
    },
    {
      "cell_type": "code",
      "execution_count": null,
      "metadata": {
        "colab": {
          "base_uri": "https://localhost:8080/"
        },
        "id": "bkdwMzvxLhZp",
        "outputId": "82df5a32-f5e8-4d44-f721-7cf7e2c387f5"
      },
      "outputs": [
        {
          "data": {
            "text/plain": [
              "array([[3.44355115e+08, 3.73548604e+11, 5.27892316e+14, 8.27065389e+17],\n",
              "       [2.35280119e+11, 2.58833614e+14, 3.69009044e+17, 0.00000000e+00],\n",
              "       [2.21994841e+14, 2.41980065e+17, 0.00000000e+00, 0.00000000e+00],\n",
              "       [2.37334430e+17, 0.00000000e+00, 0.00000000e+00, 0.00000000e+00]])"
            ]
          },
          "execution_count": 5,
          "metadata": {},
          "output_type": "execute_result"
        }
      ],
      "source": [
        "m2"
      ]
    },
    {
      "cell_type": "code",
      "execution_count": null,
      "metadata": {
        "id": "OnOsk3TALq6B"
      },
      "outputs": [],
      "source": []
    },
    {
      "cell_type": "code",
      "execution_count": null,
      "metadata": {
        "id": "qmnMYwpBLzg6"
      },
      "outputs": [],
      "source": [
        "d_in_img = cuda.to_device(image)\n",
        "m2=np.zeros((4, 4), dtype=np.float64)\n",
        "d_m2 = cuda.to_device(m2)"
      ]
    },
    {
      "cell_type": "code",
      "execution_count": null,
      "metadata": {
        "colab": {
          "base_uri": "https://localhost:8080/"
        },
        "id": "K3Bk7rmZLrUI",
        "outputId": "d2b60bd2-6601-47da-bb7c-91bfb03a7b7e"
      },
      "outputs": [
        {
          "name": "stdout",
          "output_type": "stream",
          "text": [
            "CPU times: user 3.04 ms, sys: 1.93 ms, total: 4.97 ms\n",
            "Wall time: 5.66 ms\n"
          ]
        }
      ],
      "source": [
        "%%time\n",
        "m_1_kernel(d_in_img,d_m2)\n",
        "# m2=d_m2.copy_to_host()\n",
        "# np.mean(np.abs(m2.astype(np.float32)- m1))"
      ]
    },
    {
      "attachments": {},
      "cell_type": "markdown",
      "metadata": {
        "id": "Fny-8NLs5uJi"
      },
      "source": [
        "### mo2"
      ]
    },
    {
      "cell_type": "code",
      "execution_count": null,
      "metadata": {
        "colab": {
          "base_uri": "https://localhost:8080/"
        },
        "id": "2yTNBw9R5uJj",
        "outputId": "14dc789c-ff5d-4fac-b8a4-f930ff86ec40"
      },
      "outputs": [
        {
          "data": {
            "text/plain": [
              "3070189894.25"
            ]
          },
          "execution_count": 8,
          "metadata": {},
          "output_type": "execute_result"
        }
      ],
      "source": [
        "\n",
        "def m_1(img,m_): # img \n",
        "    for i in range(4):\n",
        "        for j in range(4):\n",
        "            temp=0\n",
        "            if (i,j) not in [(1,3),(2,2),(2,3)]:\n",
        "                for x in range(img.shape[0]):\n",
        "                    for y in range(img.shape[1]):\n",
        "                        temp=temp+img[x,y]*(x**i)*(y**j)\n",
        "                m_[i,j]=temp\n",
        "            if i==3:\n",
        "                break\n",
        "    return m_\n",
        "m1_jit=jit(m_1)\n",
        "\n",
        "@cuda.jit\n",
        "def m_ij_k(img,m_,i,j): # img \n",
        "    temp_ij=0\n",
        "    r ,c= cuda.grid(2)\n",
        "    if r < img.shape[0] and c < img.shape[1]:\n",
        "        temp_ij=img[r,c]*(r**i)*(c**j)\n",
        "        cuda.atomic.add(m_, (i,j),temp_ij)\n",
        "        cuda.syncthreads()\n",
        "        \n",
        "def m_1_kernel(img,m_): # img \n",
        "    for i in range(4):\n",
        "        for j in range(4):\n",
        "            if (i,j) not in [(1,3),(2,2),(2,3)]:      \n",
        "                m_ij_k[grid_size_2, BLOCK_SIZE_2](img,m_,i,j)      \n",
        "            if i==3:    \n",
        "                break\n",
        "\n",
        "image = cv.cvtColor(cv.imread(\"/content/Test_4.jpg\"), cv.COLOR_BGR2GRAY)#.astype(np.float32)\n",
        "\n",
        "# host\n",
        "m1=np.zeros((4, 4), dtype=np.float64)\n",
        "m1=m1_jit(image,m1)\n",
        "\n",
        "#kernel\n",
        "d_in_img = cuda.to_device(image)\n",
        "m2=np.zeros((4, 4), dtype=np.float64)\n",
        "d_m2 = cuda.to_device(m2)\n",
        "m_1_kernel(d_in_img,d_m2)\n",
        "m2=d_m2.copy_to_host()\n",
        "np.mean(np.abs(m2.astype(np.float32)- m1))\n",
        "# image[0,0]"
      ]
    },
    {
      "cell_type": "code",
      "execution_count": null,
      "metadata": {
        "colab": {
          "base_uri": "https://localhost:8080/"
        },
        "id": "QeshCULp5uJj",
        "outputId": "298d6a41-f45e-4ce9-a9b9-3da89ee6e89d"
      },
      "outputs": [
        {
          "data": {
            "text/plain": [
              "array([[3.44355115e+08, 3.73548604e+11, 5.27892316e+14, 8.27065389e+17],\n",
              "       [2.35280119e+11, 2.58833614e+14, 3.69009044e+17, 0.00000000e+00],\n",
              "       [2.21994841e+14, 2.41980065e+17, 0.00000000e+00, 0.00000000e+00],\n",
              "       [2.37334430e+17, 0.00000000e+00, 0.00000000e+00, 0.00000000e+00]])"
            ]
          },
          "execution_count": 43,
          "metadata": {},
          "output_type": "execute_result"
        }
      ],
      "source": [
        "m1"
      ]
    },
    {
      "cell_type": "code",
      "execution_count": null,
      "metadata": {
        "colab": {
          "base_uri": "https://localhost:8080/"
        },
        "id": "NmXRipCJ5uJk",
        "outputId": "4049e397-c51f-4d09-90dc-6e0d59d0e825"
      },
      "outputs": [
        {
          "data": {
            "text/plain": [
              "array([[3.44355115e+08, 3.73548604e+11, 5.27892316e+14, 8.27065389e+17],\n",
              "       [2.35280119e+11, 2.58833614e+14, 3.69009044e+17, 0.00000000e+00],\n",
              "       [2.21994841e+14, 2.41980065e+17, 0.00000000e+00, 0.00000000e+00],\n",
              "       [2.37334430e+17, 0.00000000e+00, 0.00000000e+00, 0.00000000e+00]])"
            ]
          },
          "execution_count": 44,
          "metadata": {},
          "output_type": "execute_result"
        }
      ],
      "source": [
        "m2"
      ]
    },
    {
      "cell_type": "code",
      "execution_count": null,
      "metadata": {
        "id": "fNb3S2t05uJk"
      },
      "outputs": [],
      "source": []
    },
    {
      "cell_type": "code",
      "execution_count": null,
      "metadata": {
        "id": "80Vvun8C5uJk"
      },
      "outputs": [],
      "source": [
        "d_in_img = cuda.to_device(image)\n",
        "m2=np.zeros((4, 4), dtype=np.float64)\n",
        "d_m2 = cuda.to_device(m2)"
      ]
    },
    {
      "cell_type": "code",
      "execution_count": null,
      "metadata": {
        "colab": {
          "base_uri": "https://localhost:8080/"
        },
        "id": "8ZLRsSQp5uJk",
        "outputId": "9bb62819-b114-4476-a15d-6fb2055f9206"
      },
      "outputs": [
        {
          "name": "stdout",
          "output_type": "stream",
          "text": [
            "CPU times: user 6.08 ms, sys: 1.03 ms, total: 7.1 ms\n",
            "Wall time: 7.29 ms\n"
          ]
        }
      ],
      "source": [
        "%%time\n",
        "m_1_kernel(d_in_img,d_m2)\n",
        "# m2=d_m2.copy_to_host()\n",
        "# np.mean(np.abs(m2.astype(np.float32)- m1))"
      ]
    },
    {
      "attachments": {},
      "cell_type": "markdown",
      "metadata": {
        "id": "fEvJ-icHy8jO"
      },
      "source": [
        "### ghép ss hu"
      ]
    },
    {
      "cell_type": "code",
      "execution_count": null,
      "metadata": {
        "colab": {
          "base_uri": "https://localhost:8080/",
          "height": 901
        },
        "id": "YPsH1vZAy-Qv",
        "outputId": "dff8ac0e-008a-4e33-f05e-e9aa692c0ead"
      },
      "outputs": [
        {
          "ename": "TypingError",
          "evalue": "ignored",
          "output_type": "error",
          "traceback": [
            "\u001b[0;31m---------------------------------------------------------------------------\u001b[0m",
            "\u001b[0;31mTypingError\u001b[0m                               Traceback (most recent call last)",
            "\u001b[0;32m<ipython-input-47-01105cb0570a>\u001b[0m in \u001b[0;36m<module>\u001b[0;34m()\u001b[0m\n\u001b[1;32m     46\u001b[0m \u001b[0md_hu\u001b[0m \u001b[0;34m=\u001b[0m \u001b[0mcuda\u001b[0m\u001b[0;34m.\u001b[0m\u001b[0mto_device\u001b[0m\u001b[0;34m(\u001b[0m\u001b[0mhu\u001b[0m\u001b[0;34m)\u001b[0m\u001b[0;34m\u001b[0m\u001b[0;34m\u001b[0m\u001b[0m\n\u001b[1;32m     47\u001b[0m \u001b[0;34m\u001b[0m\u001b[0m\n\u001b[0;32m---> 48\u001b[0;31m \u001b[0mcvHuMoments_kernel\u001b[0m\u001b[0;34m(\u001b[0m\u001b[0md_in_img\u001b[0m\u001b[0;34m,\u001b[0m\u001b[0md_m\u001b[0m\u001b[0;34m,\u001b[0m\u001b[0md_mu\u001b[0m\u001b[0;34m,\u001b[0m\u001b[0md_nu\u001b[0m\u001b[0;34m,\u001b[0m\u001b[0md_hu\u001b[0m\u001b[0;34m)\u001b[0m\u001b[0;34m\u001b[0m\u001b[0;34m\u001b[0m\u001b[0m\n\u001b[0m\u001b[1;32m     49\u001b[0m \u001b[0;34m\u001b[0m\u001b[0m\n\u001b[1;32m     50\u001b[0m \u001b[0mhu_ss\u001b[0m\u001b[0;34m=\u001b[0m\u001b[0md_hu\u001b[0m\u001b[0;34m.\u001b[0m\u001b[0mcopy_to_host\u001b[0m\u001b[0;34m(\u001b[0m\u001b[0;34m)\u001b[0m\u001b[0;34m\u001b[0m\u001b[0;34m\u001b[0m\u001b[0m\n",
            "\u001b[0;32m<ipython-input-47-01105cb0570a>\u001b[0m in \u001b[0;36mcvHuMoments_kernel\u001b[0;34m(d_in_img, m_, mu_, nu_, hu_)\u001b[0m\n\u001b[1;32m      4\u001b[0m         \u001b[0;32mfor\u001b[0m \u001b[0mj\u001b[0m \u001b[0;32min\u001b[0m \u001b[0mrange\u001b[0m\u001b[0;34m(\u001b[0m\u001b[0;36m4\u001b[0m\u001b[0;34m)\u001b[0m\u001b[0;34m:\u001b[0m\u001b[0;34m\u001b[0m\u001b[0;34m\u001b[0m\u001b[0m\n\u001b[1;32m      5\u001b[0m             \u001b[0;32mif\u001b[0m \u001b[0;34m(\u001b[0m\u001b[0mi\u001b[0m\u001b[0;34m,\u001b[0m\u001b[0mj\u001b[0m\u001b[0;34m)\u001b[0m \u001b[0;32mnot\u001b[0m \u001b[0;32min\u001b[0m \u001b[0;34m[\u001b[0m\u001b[0;34m(\u001b[0m\u001b[0;36m1\u001b[0m\u001b[0;34m,\u001b[0m\u001b[0;36m3\u001b[0m\u001b[0;34m)\u001b[0m\u001b[0;34m,\u001b[0m\u001b[0;34m(\u001b[0m\u001b[0;36m2\u001b[0m\u001b[0;34m,\u001b[0m\u001b[0;36m2\u001b[0m\u001b[0;34m)\u001b[0m\u001b[0;34m,\u001b[0m\u001b[0;34m(\u001b[0m\u001b[0;36m2\u001b[0m\u001b[0;34m,\u001b[0m\u001b[0;36m3\u001b[0m\u001b[0;34m)\u001b[0m\u001b[0;34m]\u001b[0m\u001b[0;34m:\u001b[0m\u001b[0;34m\u001b[0m\u001b[0;34m\u001b[0m\u001b[0m\n\u001b[0;32m----> 6\u001b[0;31m                 \u001b[0mm_ij_k\u001b[0m\u001b[0;34m[\u001b[0m\u001b[0mgrid_size_2\u001b[0m\u001b[0;34m,\u001b[0m \u001b[0mBLOCK_SIZE_2\u001b[0m\u001b[0;34m]\u001b[0m\u001b[0;34m(\u001b[0m\u001b[0mimg\u001b[0m\u001b[0;34m,\u001b[0m\u001b[0mm_\u001b[0m\u001b[0;34m,\u001b[0m\u001b[0mi\u001b[0m\u001b[0;34m,\u001b[0m\u001b[0mj\u001b[0m\u001b[0;34m)\u001b[0m\u001b[0;34m\u001b[0m\u001b[0;34m\u001b[0m\u001b[0m\n\u001b[0m\u001b[1;32m      7\u001b[0m         \u001b[0;32mif\u001b[0m \u001b[0mi\u001b[0m\u001b[0;34m==\u001b[0m\u001b[0;36m3\u001b[0m\u001b[0;34m:\u001b[0m\u001b[0;34m\u001b[0m\u001b[0;34m\u001b[0m\u001b[0m\n\u001b[1;32m      8\u001b[0m             \u001b[0;32mbreak\u001b[0m\u001b[0;34m\u001b[0m\u001b[0;34m\u001b[0m\u001b[0m\n",
            "\u001b[0;32m/usr/local/lib/python3.7/dist-packages/numba/cuda/compiler.py\u001b[0m in \u001b[0;36m__call__\u001b[0;34m(self, *args)\u001b[0m\n\u001b[1;32m    768\u001b[0m     \u001b[0;32mdef\u001b[0m \u001b[0m__call__\u001b[0m\u001b[0;34m(\u001b[0m\u001b[0mself\u001b[0m\u001b[0;34m,\u001b[0m \u001b[0;34m*\u001b[0m\u001b[0margs\u001b[0m\u001b[0;34m)\u001b[0m\u001b[0;34m:\u001b[0m\u001b[0;34m\u001b[0m\u001b[0;34m\u001b[0m\u001b[0m\n\u001b[1;32m    769\u001b[0m         return self.dispatcher.call(args, self.griddim, self.blockdim,\n\u001b[0;32m--> 770\u001b[0;31m                                     self.stream, self.sharedmem)\n\u001b[0m\u001b[1;32m    771\u001b[0m \u001b[0;34m\u001b[0m\u001b[0m\n\u001b[1;32m    772\u001b[0m \u001b[0;34m\u001b[0m\u001b[0m\n",
            "\u001b[0;32m/usr/local/lib/python3.7/dist-packages/numba/cuda/compiler.py\u001b[0m in \u001b[0;36mcall\u001b[0;34m(self, args, griddim, blockdim, stream, sharedmem)\u001b[0m\n\u001b[1;32m    859\u001b[0m         argtypes = tuple(\n\u001b[1;32m    860\u001b[0m             [self.typingctx.resolve_argument_type(a) for a in args])\n\u001b[0;32m--> 861\u001b[0;31m         \u001b[0mkernel\u001b[0m \u001b[0;34m=\u001b[0m \u001b[0mself\u001b[0m\u001b[0;34m.\u001b[0m\u001b[0mcompile\u001b[0m\u001b[0;34m(\u001b[0m\u001b[0margtypes\u001b[0m\u001b[0;34m)\u001b[0m\u001b[0;34m\u001b[0m\u001b[0;34m\u001b[0m\u001b[0m\n\u001b[0m\u001b[1;32m    862\u001b[0m         \u001b[0mkernel\u001b[0m\u001b[0;34m.\u001b[0m\u001b[0mlaunch\u001b[0m\u001b[0;34m(\u001b[0m\u001b[0margs\u001b[0m\u001b[0;34m,\u001b[0m \u001b[0mgriddim\u001b[0m\u001b[0;34m,\u001b[0m \u001b[0mblockdim\u001b[0m\u001b[0;34m,\u001b[0m \u001b[0mstream\u001b[0m\u001b[0;34m,\u001b[0m \u001b[0msharedmem\u001b[0m\u001b[0;34m)\u001b[0m\u001b[0;34m\u001b[0m\u001b[0;34m\u001b[0m\u001b[0m\n\u001b[1;32m    863\u001b[0m \u001b[0;34m\u001b[0m\u001b[0m\n",
            "\u001b[0;32m/usr/local/lib/python3.7/dist-packages/numba/cuda/compiler.py\u001b[0m in \u001b[0;36mcompile\u001b[0;34m(self, sig)\u001b[0m\n\u001b[1;32m    930\u001b[0m             kernel = compile_kernel(self.py_func, argtypes,\n\u001b[1;32m    931\u001b[0m                                     \u001b[0mlink\u001b[0m\u001b[0;34m=\u001b[0m\u001b[0mself\u001b[0m\u001b[0;34m.\u001b[0m\u001b[0mlink\u001b[0m\u001b[0;34m,\u001b[0m\u001b[0;34m\u001b[0m\u001b[0;34m\u001b[0m\u001b[0m\n\u001b[0;32m--> 932\u001b[0;31m                                     **self.targetoptions)\n\u001b[0m\u001b[1;32m    933\u001b[0m             \u001b[0mself\u001b[0m\u001b[0;34m.\u001b[0m\u001b[0mdefinitions\u001b[0m\u001b[0;34m[\u001b[0m\u001b[0;34m(\u001b[0m\u001b[0mcc\u001b[0m\u001b[0;34m,\u001b[0m \u001b[0margtypes\u001b[0m\u001b[0;34m)\u001b[0m\u001b[0;34m]\u001b[0m \u001b[0;34m=\u001b[0m \u001b[0mkernel\u001b[0m\u001b[0;34m\u001b[0m\u001b[0;34m\u001b[0m\u001b[0m\n\u001b[1;32m    934\u001b[0m             \u001b[0;32mif\u001b[0m \u001b[0mself\u001b[0m\u001b[0;34m.\u001b[0m\u001b[0m_bind\u001b[0m\u001b[0;34m:\u001b[0m\u001b[0;34m\u001b[0m\u001b[0;34m\u001b[0m\u001b[0m\n",
            "\u001b[0;32m/usr/local/lib/python3.7/dist-packages/numba/core/compiler_lock.py\u001b[0m in \u001b[0;36m_acquire_compile_lock\u001b[0;34m(*args, **kwargs)\u001b[0m\n\u001b[1;32m     30\u001b[0m         \u001b[0;32mdef\u001b[0m \u001b[0m_acquire_compile_lock\u001b[0m\u001b[0;34m(\u001b[0m\u001b[0;34m*\u001b[0m\u001b[0margs\u001b[0m\u001b[0;34m,\u001b[0m \u001b[0;34m**\u001b[0m\u001b[0mkwargs\u001b[0m\u001b[0;34m)\u001b[0m\u001b[0;34m:\u001b[0m\u001b[0;34m\u001b[0m\u001b[0;34m\u001b[0m\u001b[0m\n\u001b[1;32m     31\u001b[0m             \u001b[0;32mwith\u001b[0m \u001b[0mself\u001b[0m\u001b[0;34m:\u001b[0m\u001b[0;34m\u001b[0m\u001b[0;34m\u001b[0m\u001b[0m\n\u001b[0;32m---> 32\u001b[0;31m                 \u001b[0;32mreturn\u001b[0m \u001b[0mfunc\u001b[0m\u001b[0;34m(\u001b[0m\u001b[0;34m*\u001b[0m\u001b[0margs\u001b[0m\u001b[0;34m,\u001b[0m \u001b[0;34m**\u001b[0m\u001b[0mkwargs\u001b[0m\u001b[0;34m)\u001b[0m\u001b[0;34m\u001b[0m\u001b[0;34m\u001b[0m\u001b[0m\n\u001b[0m\u001b[1;32m     33\u001b[0m         \u001b[0;32mreturn\u001b[0m \u001b[0m_acquire_compile_lock\u001b[0m\u001b[0;34m\u001b[0m\u001b[0;34m\u001b[0m\u001b[0m\n\u001b[1;32m     34\u001b[0m \u001b[0;34m\u001b[0m\u001b[0m\n",
            "\u001b[0;32m/usr/local/lib/python3.7/dist-packages/numba/cuda/compiler.py\u001b[0m in \u001b[0;36mcompile_kernel\u001b[0;34m(pyfunc, args, link, debug, inline, fastmath, extensions, max_registers, opt)\u001b[0m\n\u001b[1;32m     55\u001b[0m def compile_kernel(pyfunc, args, link, debug=False, inline=False,\n\u001b[1;32m     56\u001b[0m                    fastmath=False, extensions=[], max_registers=None, opt=True):\n\u001b[0;32m---> 57\u001b[0;31m     \u001b[0mcres\u001b[0m \u001b[0;34m=\u001b[0m \u001b[0mcompile_cuda\u001b[0m\u001b[0;34m(\u001b[0m\u001b[0mpyfunc\u001b[0m\u001b[0;34m,\u001b[0m \u001b[0mtypes\u001b[0m\u001b[0;34m.\u001b[0m\u001b[0mvoid\u001b[0m\u001b[0;34m,\u001b[0m \u001b[0margs\u001b[0m\u001b[0;34m,\u001b[0m \u001b[0mdebug\u001b[0m\u001b[0;34m=\u001b[0m\u001b[0mdebug\u001b[0m\u001b[0;34m,\u001b[0m \u001b[0minline\u001b[0m\u001b[0;34m=\u001b[0m\u001b[0minline\u001b[0m\u001b[0;34m)\u001b[0m\u001b[0;34m\u001b[0m\u001b[0;34m\u001b[0m\u001b[0m\n\u001b[0m\u001b[1;32m     58\u001b[0m     \u001b[0mfname\u001b[0m \u001b[0;34m=\u001b[0m \u001b[0mcres\u001b[0m\u001b[0;34m.\u001b[0m\u001b[0mfndesc\u001b[0m\u001b[0;34m.\u001b[0m\u001b[0mllvm_func_name\u001b[0m\u001b[0;34m\u001b[0m\u001b[0;34m\u001b[0m\u001b[0m\n\u001b[1;32m     59\u001b[0m     lib, kernel = cres.target_context.prepare_cuda_kernel(cres.library, fname,\n",
            "\u001b[0;32m/usr/local/lib/python3.7/dist-packages/numba/core/compiler_lock.py\u001b[0m in \u001b[0;36m_acquire_compile_lock\u001b[0;34m(*args, **kwargs)\u001b[0m\n\u001b[1;32m     30\u001b[0m         \u001b[0;32mdef\u001b[0m \u001b[0m_acquire_compile_lock\u001b[0m\u001b[0;34m(\u001b[0m\u001b[0;34m*\u001b[0m\u001b[0margs\u001b[0m\u001b[0;34m,\u001b[0m \u001b[0;34m**\u001b[0m\u001b[0mkwargs\u001b[0m\u001b[0;34m)\u001b[0m\u001b[0;34m:\u001b[0m\u001b[0;34m\u001b[0m\u001b[0;34m\u001b[0m\u001b[0m\n\u001b[1;32m     31\u001b[0m             \u001b[0;32mwith\u001b[0m \u001b[0mself\u001b[0m\u001b[0;34m:\u001b[0m\u001b[0;34m\u001b[0m\u001b[0;34m\u001b[0m\u001b[0m\n\u001b[0;32m---> 32\u001b[0;31m                 \u001b[0;32mreturn\u001b[0m \u001b[0mfunc\u001b[0m\u001b[0;34m(\u001b[0m\u001b[0;34m*\u001b[0m\u001b[0margs\u001b[0m\u001b[0;34m,\u001b[0m \u001b[0;34m**\u001b[0m\u001b[0mkwargs\u001b[0m\u001b[0;34m)\u001b[0m\u001b[0;34m\u001b[0m\u001b[0;34m\u001b[0m\u001b[0m\n\u001b[0m\u001b[1;32m     33\u001b[0m         \u001b[0;32mreturn\u001b[0m \u001b[0m_acquire_compile_lock\u001b[0m\u001b[0;34m\u001b[0m\u001b[0;34m\u001b[0m\u001b[0m\n\u001b[1;32m     34\u001b[0m \u001b[0;34m\u001b[0m\u001b[0m\n",
            "\u001b[0;32m/usr/local/lib/python3.7/dist-packages/numba/cuda/compiler.py\u001b[0m in \u001b[0;36mcompile_cuda\u001b[0;34m(pyfunc, return_type, args, debug, inline)\u001b[0m\n\u001b[1;32m     44\u001b[0m                                   \u001b[0mreturn_type\u001b[0m\u001b[0;34m=\u001b[0m\u001b[0mreturn_type\u001b[0m\u001b[0;34m,\u001b[0m\u001b[0;34m\u001b[0m\u001b[0;34m\u001b[0m\u001b[0m\n\u001b[1;32m     45\u001b[0m                                   \u001b[0mflags\u001b[0m\u001b[0;34m=\u001b[0m\u001b[0mflags\u001b[0m\u001b[0;34m,\u001b[0m\u001b[0;34m\u001b[0m\u001b[0;34m\u001b[0m\u001b[0m\n\u001b[0;32m---> 46\u001b[0;31m                                   locals={})\n\u001b[0m\u001b[1;32m     47\u001b[0m \u001b[0;34m\u001b[0m\u001b[0m\n\u001b[1;32m     48\u001b[0m     \u001b[0mlibrary\u001b[0m \u001b[0;34m=\u001b[0m \u001b[0mcres\u001b[0m\u001b[0;34m.\u001b[0m\u001b[0mlibrary\u001b[0m\u001b[0;34m\u001b[0m\u001b[0;34m\u001b[0m\u001b[0m\n",
            "\u001b[0;32m/usr/local/lib/python3.7/dist-packages/numba/core/compiler.py\u001b[0m in \u001b[0;36mcompile_extra\u001b[0;34m(typingctx, targetctx, func, args, return_type, flags, locals, library, pipeline_class)\u001b[0m\n\u001b[1;32m    625\u001b[0m     pipeline = pipeline_class(typingctx, targetctx, library,\n\u001b[1;32m    626\u001b[0m                               args, return_type, flags, locals)\n\u001b[0;32m--> 627\u001b[0;31m     \u001b[0;32mreturn\u001b[0m \u001b[0mpipeline\u001b[0m\u001b[0;34m.\u001b[0m\u001b[0mcompile_extra\u001b[0m\u001b[0;34m(\u001b[0m\u001b[0mfunc\u001b[0m\u001b[0;34m)\u001b[0m\u001b[0;34m\u001b[0m\u001b[0;34m\u001b[0m\u001b[0m\n\u001b[0m\u001b[1;32m    628\u001b[0m \u001b[0;34m\u001b[0m\u001b[0m\n\u001b[1;32m    629\u001b[0m \u001b[0;34m\u001b[0m\u001b[0m\n",
            "\u001b[0;32m/usr/local/lib/python3.7/dist-packages/numba/core/compiler.py\u001b[0m in \u001b[0;36mcompile_extra\u001b[0;34m(self, func)\u001b[0m\n\u001b[1;32m    361\u001b[0m         \u001b[0mself\u001b[0m\u001b[0;34m.\u001b[0m\u001b[0mstate\u001b[0m\u001b[0;34m.\u001b[0m\u001b[0mlifted\u001b[0m \u001b[0;34m=\u001b[0m \u001b[0;34m(\u001b[0m\u001b[0;34m)\u001b[0m\u001b[0;34m\u001b[0m\u001b[0;34m\u001b[0m\u001b[0m\n\u001b[1;32m    362\u001b[0m         \u001b[0mself\u001b[0m\u001b[0;34m.\u001b[0m\u001b[0mstate\u001b[0m\u001b[0;34m.\u001b[0m\u001b[0mlifted_from\u001b[0m \u001b[0;34m=\u001b[0m \u001b[0;32mNone\u001b[0m\u001b[0;34m\u001b[0m\u001b[0;34m\u001b[0m\u001b[0m\n\u001b[0;32m--> 363\u001b[0;31m         \u001b[0;32mreturn\u001b[0m \u001b[0mself\u001b[0m\u001b[0;34m.\u001b[0m\u001b[0m_compile_bytecode\u001b[0m\u001b[0;34m(\u001b[0m\u001b[0;34m)\u001b[0m\u001b[0;34m\u001b[0m\u001b[0;34m\u001b[0m\u001b[0m\n\u001b[0m\u001b[1;32m    364\u001b[0m \u001b[0;34m\u001b[0m\u001b[0m\n\u001b[1;32m    365\u001b[0m     \u001b[0;32mdef\u001b[0m \u001b[0mcompile_ir\u001b[0m\u001b[0;34m(\u001b[0m\u001b[0mself\u001b[0m\u001b[0;34m,\u001b[0m \u001b[0mfunc_ir\u001b[0m\u001b[0;34m,\u001b[0m \u001b[0mlifted\u001b[0m\u001b[0;34m=\u001b[0m\u001b[0;34m(\u001b[0m\u001b[0;34m)\u001b[0m\u001b[0;34m,\u001b[0m \u001b[0mlifted_from\u001b[0m\u001b[0;34m=\u001b[0m\u001b[0;32mNone\u001b[0m\u001b[0;34m)\u001b[0m\u001b[0;34m:\u001b[0m\u001b[0;34m\u001b[0m\u001b[0;34m\u001b[0m\u001b[0m\n",
            "\u001b[0;32m/usr/local/lib/python3.7/dist-packages/numba/core/compiler.py\u001b[0m in \u001b[0;36m_compile_bytecode\u001b[0;34m(self)\u001b[0m\n\u001b[1;32m    423\u001b[0m         \"\"\"\n\u001b[1;32m    424\u001b[0m         \u001b[0;32massert\u001b[0m \u001b[0mself\u001b[0m\u001b[0;34m.\u001b[0m\u001b[0mstate\u001b[0m\u001b[0;34m.\u001b[0m\u001b[0mfunc_ir\u001b[0m \u001b[0;32mis\u001b[0m \u001b[0;32mNone\u001b[0m\u001b[0;34m\u001b[0m\u001b[0;34m\u001b[0m\u001b[0m\n\u001b[0;32m--> 425\u001b[0;31m         \u001b[0;32mreturn\u001b[0m \u001b[0mself\u001b[0m\u001b[0;34m.\u001b[0m\u001b[0m_compile_core\u001b[0m\u001b[0;34m(\u001b[0m\u001b[0;34m)\u001b[0m\u001b[0;34m\u001b[0m\u001b[0;34m\u001b[0m\u001b[0m\n\u001b[0m\u001b[1;32m    426\u001b[0m \u001b[0;34m\u001b[0m\u001b[0m\n\u001b[1;32m    427\u001b[0m     \u001b[0;32mdef\u001b[0m \u001b[0m_compile_ir\u001b[0m\u001b[0;34m(\u001b[0m\u001b[0mself\u001b[0m\u001b[0;34m)\u001b[0m\u001b[0;34m:\u001b[0m\u001b[0;34m\u001b[0m\u001b[0;34m\u001b[0m\u001b[0m\n",
            "\u001b[0;32m/usr/local/lib/python3.7/dist-packages/numba/core/compiler.py\u001b[0m in \u001b[0;36m_compile_core\u001b[0;34m(self)\u001b[0m\n\u001b[1;32m    403\u001b[0m                 \u001b[0mself\u001b[0m\u001b[0;34m.\u001b[0m\u001b[0mstate\u001b[0m\u001b[0;34m.\u001b[0m\u001b[0mstatus\u001b[0m\u001b[0;34m.\u001b[0m\u001b[0mfail_reason\u001b[0m \u001b[0;34m=\u001b[0m \u001b[0me\u001b[0m\u001b[0;34m\u001b[0m\u001b[0;34m\u001b[0m\u001b[0m\n\u001b[1;32m    404\u001b[0m                 \u001b[0;32mif\u001b[0m \u001b[0mis_final_pipeline\u001b[0m\u001b[0;34m:\u001b[0m\u001b[0;34m\u001b[0m\u001b[0;34m\u001b[0m\u001b[0m\n\u001b[0;32m--> 405\u001b[0;31m                     \u001b[0;32mraise\u001b[0m \u001b[0me\u001b[0m\u001b[0;34m\u001b[0m\u001b[0;34m\u001b[0m\u001b[0m\n\u001b[0m\u001b[1;32m    406\u001b[0m         \u001b[0;32melse\u001b[0m\u001b[0;34m:\u001b[0m\u001b[0;34m\u001b[0m\u001b[0;34m\u001b[0m\u001b[0m\n\u001b[1;32m    407\u001b[0m             \u001b[0;32mraise\u001b[0m \u001b[0mCompilerError\u001b[0m\u001b[0;34m(\u001b[0m\u001b[0;34m\"All available pipelines exhausted\"\u001b[0m\u001b[0;34m)\u001b[0m\u001b[0;34m\u001b[0m\u001b[0;34m\u001b[0m\u001b[0m\n",
            "\u001b[0;32m/usr/local/lib/python3.7/dist-packages/numba/core/compiler.py\u001b[0m in \u001b[0;36m_compile_core\u001b[0;34m(self)\u001b[0m\n\u001b[1;32m    394\u001b[0m             \u001b[0mres\u001b[0m \u001b[0;34m=\u001b[0m \u001b[0;32mNone\u001b[0m\u001b[0;34m\u001b[0m\u001b[0;34m\u001b[0m\u001b[0m\n\u001b[1;32m    395\u001b[0m             \u001b[0;32mtry\u001b[0m\u001b[0;34m:\u001b[0m\u001b[0;34m\u001b[0m\u001b[0;34m\u001b[0m\u001b[0m\n\u001b[0;32m--> 396\u001b[0;31m                 \u001b[0mpm\u001b[0m\u001b[0;34m.\u001b[0m\u001b[0mrun\u001b[0m\u001b[0;34m(\u001b[0m\u001b[0mself\u001b[0m\u001b[0;34m.\u001b[0m\u001b[0mstate\u001b[0m\u001b[0;34m)\u001b[0m\u001b[0;34m\u001b[0m\u001b[0;34m\u001b[0m\u001b[0m\n\u001b[0m\u001b[1;32m    397\u001b[0m                 \u001b[0;32mif\u001b[0m \u001b[0mself\u001b[0m\u001b[0;34m.\u001b[0m\u001b[0mstate\u001b[0m\u001b[0;34m.\u001b[0m\u001b[0mcr\u001b[0m \u001b[0;32mis\u001b[0m \u001b[0;32mnot\u001b[0m \u001b[0;32mNone\u001b[0m\u001b[0;34m:\u001b[0m\u001b[0;34m\u001b[0m\u001b[0;34m\u001b[0m\u001b[0m\n\u001b[1;32m    398\u001b[0m                     \u001b[0;32mbreak\u001b[0m\u001b[0;34m\u001b[0m\u001b[0;34m\u001b[0m\u001b[0m\n",
            "\u001b[0;32m/usr/local/lib/python3.7/dist-packages/numba/core/compiler_machinery.py\u001b[0m in \u001b[0;36mrun\u001b[0;34m(self, state)\u001b[0m\n\u001b[1;32m    339\u001b[0m                     \u001b[0;34m(\u001b[0m\u001b[0mself\u001b[0m\u001b[0;34m.\u001b[0m\u001b[0mpipeline_name\u001b[0m\u001b[0;34m,\u001b[0m \u001b[0mpass_desc\u001b[0m\u001b[0;34m)\u001b[0m\u001b[0;34m\u001b[0m\u001b[0;34m\u001b[0m\u001b[0m\n\u001b[1;32m    340\u001b[0m                 \u001b[0mpatched_exception\u001b[0m \u001b[0;34m=\u001b[0m \u001b[0mself\u001b[0m\u001b[0;34m.\u001b[0m\u001b[0m_patch_error\u001b[0m\u001b[0;34m(\u001b[0m\u001b[0mmsg\u001b[0m\u001b[0;34m,\u001b[0m \u001b[0me\u001b[0m\u001b[0;34m)\u001b[0m\u001b[0;34m\u001b[0m\u001b[0;34m\u001b[0m\u001b[0m\n\u001b[0;32m--> 341\u001b[0;31m                 \u001b[0;32mraise\u001b[0m \u001b[0mpatched_exception\u001b[0m\u001b[0;34m\u001b[0m\u001b[0;34m\u001b[0m\u001b[0m\n\u001b[0m\u001b[1;32m    342\u001b[0m \u001b[0;34m\u001b[0m\u001b[0m\n\u001b[1;32m    343\u001b[0m     \u001b[0;32mdef\u001b[0m \u001b[0mdependency_analysis\u001b[0m\u001b[0;34m(\u001b[0m\u001b[0mself\u001b[0m\u001b[0;34m)\u001b[0m\u001b[0;34m:\u001b[0m\u001b[0;34m\u001b[0m\u001b[0;34m\u001b[0m\u001b[0m\n",
            "\u001b[0;32m/usr/local/lib/python3.7/dist-packages/numba/core/compiler_machinery.py\u001b[0m in \u001b[0;36mrun\u001b[0;34m(self, state)\u001b[0m\n\u001b[1;32m    330\u001b[0m                 \u001b[0mpass_inst\u001b[0m \u001b[0;34m=\u001b[0m \u001b[0m_pass_registry\u001b[0m\u001b[0;34m.\u001b[0m\u001b[0mget\u001b[0m\u001b[0;34m(\u001b[0m\u001b[0mpss\u001b[0m\u001b[0;34m)\u001b[0m\u001b[0;34m.\u001b[0m\u001b[0mpass_inst\u001b[0m\u001b[0;34m\u001b[0m\u001b[0;34m\u001b[0m\u001b[0m\n\u001b[1;32m    331\u001b[0m                 \u001b[0;32mif\u001b[0m \u001b[0misinstance\u001b[0m\u001b[0;34m(\u001b[0m\u001b[0mpass_inst\u001b[0m\u001b[0;34m,\u001b[0m \u001b[0mCompilerPass\u001b[0m\u001b[0;34m)\u001b[0m\u001b[0;34m:\u001b[0m\u001b[0;34m\u001b[0m\u001b[0;34m\u001b[0m\u001b[0m\n\u001b[0;32m--> 332\u001b[0;31m                     \u001b[0mself\u001b[0m\u001b[0;34m.\u001b[0m\u001b[0m_runPass\u001b[0m\u001b[0;34m(\u001b[0m\u001b[0midx\u001b[0m\u001b[0;34m,\u001b[0m \u001b[0mpass_inst\u001b[0m\u001b[0;34m,\u001b[0m \u001b[0mstate\u001b[0m\u001b[0;34m)\u001b[0m\u001b[0;34m\u001b[0m\u001b[0;34m\u001b[0m\u001b[0m\n\u001b[0m\u001b[1;32m    333\u001b[0m                 \u001b[0;32melse\u001b[0m\u001b[0;34m:\u001b[0m\u001b[0;34m\u001b[0m\u001b[0;34m\u001b[0m\u001b[0m\n\u001b[1;32m    334\u001b[0m                     \u001b[0;32mraise\u001b[0m \u001b[0mBaseException\u001b[0m\u001b[0;34m(\u001b[0m\u001b[0;34m\"Legacy pass in use\"\u001b[0m\u001b[0;34m)\u001b[0m\u001b[0;34m\u001b[0m\u001b[0;34m\u001b[0m\u001b[0m\n",
            "\u001b[0;32m/usr/local/lib/python3.7/dist-packages/numba/core/compiler_lock.py\u001b[0m in \u001b[0;36m_acquire_compile_lock\u001b[0;34m(*args, **kwargs)\u001b[0m\n\u001b[1;32m     30\u001b[0m         \u001b[0;32mdef\u001b[0m \u001b[0m_acquire_compile_lock\u001b[0m\u001b[0;34m(\u001b[0m\u001b[0;34m*\u001b[0m\u001b[0margs\u001b[0m\u001b[0;34m,\u001b[0m \u001b[0;34m**\u001b[0m\u001b[0mkwargs\u001b[0m\u001b[0;34m)\u001b[0m\u001b[0;34m:\u001b[0m\u001b[0;34m\u001b[0m\u001b[0;34m\u001b[0m\u001b[0m\n\u001b[1;32m     31\u001b[0m             \u001b[0;32mwith\u001b[0m \u001b[0mself\u001b[0m\u001b[0;34m:\u001b[0m\u001b[0;34m\u001b[0m\u001b[0;34m\u001b[0m\u001b[0m\n\u001b[0;32m---> 32\u001b[0;31m                 \u001b[0;32mreturn\u001b[0m \u001b[0mfunc\u001b[0m\u001b[0;34m(\u001b[0m\u001b[0;34m*\u001b[0m\u001b[0margs\u001b[0m\u001b[0;34m,\u001b[0m \u001b[0;34m**\u001b[0m\u001b[0mkwargs\u001b[0m\u001b[0;34m)\u001b[0m\u001b[0;34m\u001b[0m\u001b[0;34m\u001b[0m\u001b[0m\n\u001b[0m\u001b[1;32m     33\u001b[0m         \u001b[0;32mreturn\u001b[0m \u001b[0m_acquire_compile_lock\u001b[0m\u001b[0;34m\u001b[0m\u001b[0;34m\u001b[0m\u001b[0m\n\u001b[1;32m     34\u001b[0m \u001b[0;34m\u001b[0m\u001b[0m\n",
            "\u001b[0;32m/usr/local/lib/python3.7/dist-packages/numba/core/compiler_machinery.py\u001b[0m in \u001b[0;36m_runPass\u001b[0;34m(self, index, pss, internal_state)\u001b[0m\n\u001b[1;32m    289\u001b[0m             \u001b[0mmutated\u001b[0m \u001b[0;34m|=\u001b[0m \u001b[0mcheck\u001b[0m\u001b[0;34m(\u001b[0m\u001b[0mpss\u001b[0m\u001b[0;34m.\u001b[0m\u001b[0mrun_initialization\u001b[0m\u001b[0;34m,\u001b[0m \u001b[0minternal_state\u001b[0m\u001b[0;34m)\u001b[0m\u001b[0;34m\u001b[0m\u001b[0;34m\u001b[0m\u001b[0m\n\u001b[1;32m    290\u001b[0m         \u001b[0;32mwith\u001b[0m \u001b[0mSimpleTimer\u001b[0m\u001b[0;34m(\u001b[0m\u001b[0;34m)\u001b[0m \u001b[0;32mas\u001b[0m \u001b[0mpass_time\u001b[0m\u001b[0;34m:\u001b[0m\u001b[0;34m\u001b[0m\u001b[0;34m\u001b[0m\u001b[0m\n\u001b[0;32m--> 291\u001b[0;31m             \u001b[0mmutated\u001b[0m \u001b[0;34m|=\u001b[0m \u001b[0mcheck\u001b[0m\u001b[0;34m(\u001b[0m\u001b[0mpss\u001b[0m\u001b[0;34m.\u001b[0m\u001b[0mrun_pass\u001b[0m\u001b[0;34m,\u001b[0m \u001b[0minternal_state\u001b[0m\u001b[0;34m)\u001b[0m\u001b[0;34m\u001b[0m\u001b[0;34m\u001b[0m\u001b[0m\n\u001b[0m\u001b[1;32m    292\u001b[0m         \u001b[0;32mwith\u001b[0m \u001b[0mSimpleTimer\u001b[0m\u001b[0;34m(\u001b[0m\u001b[0;34m)\u001b[0m \u001b[0;32mas\u001b[0m \u001b[0mfinalize_time\u001b[0m\u001b[0;34m:\u001b[0m\u001b[0;34m\u001b[0m\u001b[0;34m\u001b[0m\u001b[0m\n\u001b[1;32m    293\u001b[0m             \u001b[0mmutated\u001b[0m \u001b[0;34m|=\u001b[0m \u001b[0mcheck\u001b[0m\u001b[0;34m(\u001b[0m\u001b[0mpss\u001b[0m\u001b[0;34m.\u001b[0m\u001b[0mrun_finalizer\u001b[0m\u001b[0;34m,\u001b[0m \u001b[0minternal_state\u001b[0m\u001b[0;34m)\u001b[0m\u001b[0;34m\u001b[0m\u001b[0;34m\u001b[0m\u001b[0m\n",
            "\u001b[0;32m/usr/local/lib/python3.7/dist-packages/numba/core/compiler_machinery.py\u001b[0m in \u001b[0;36mcheck\u001b[0;34m(func, compiler_state)\u001b[0m\n\u001b[1;32m    262\u001b[0m \u001b[0;34m\u001b[0m\u001b[0m\n\u001b[1;32m    263\u001b[0m         \u001b[0;32mdef\u001b[0m \u001b[0mcheck\u001b[0m\u001b[0;34m(\u001b[0m\u001b[0mfunc\u001b[0m\u001b[0;34m,\u001b[0m \u001b[0mcompiler_state\u001b[0m\u001b[0;34m)\u001b[0m\u001b[0;34m:\u001b[0m\u001b[0;34m\u001b[0m\u001b[0;34m\u001b[0m\u001b[0m\n\u001b[0;32m--> 264\u001b[0;31m             \u001b[0mmangled\u001b[0m \u001b[0;34m=\u001b[0m \u001b[0mfunc\u001b[0m\u001b[0;34m(\u001b[0m\u001b[0mcompiler_state\u001b[0m\u001b[0;34m)\u001b[0m\u001b[0;34m\u001b[0m\u001b[0;34m\u001b[0m\u001b[0m\n\u001b[0m\u001b[1;32m    265\u001b[0m             \u001b[0;32mif\u001b[0m \u001b[0mmangled\u001b[0m \u001b[0;32mnot\u001b[0m \u001b[0;32min\u001b[0m \u001b[0;34m(\u001b[0m\u001b[0;32mTrue\u001b[0m\u001b[0;34m,\u001b[0m \u001b[0;32mFalse\u001b[0m\u001b[0;34m)\u001b[0m\u001b[0;34m:\u001b[0m\u001b[0;34m\u001b[0m\u001b[0;34m\u001b[0m\u001b[0m\n\u001b[1;32m    266\u001b[0m                 msg = (\"CompilerPass implementations should return True/False. \"\n",
            "\u001b[0;32m/usr/local/lib/python3.7/dist-packages/numba/core/typed_passes.py\u001b[0m in \u001b[0;36mrun_pass\u001b[0;34m(self, state)\u001b[0m\n\u001b[1;32m     96\u001b[0m                 \u001b[0mstate\u001b[0m\u001b[0;34m.\u001b[0m\u001b[0mreturn_type\u001b[0m\u001b[0;34m,\u001b[0m\u001b[0;34m\u001b[0m\u001b[0;34m\u001b[0m\u001b[0m\n\u001b[1;32m     97\u001b[0m                 \u001b[0mstate\u001b[0m\u001b[0;34m.\u001b[0m\u001b[0mlocals\u001b[0m\u001b[0;34m,\u001b[0m\u001b[0;34m\u001b[0m\u001b[0;34m\u001b[0m\u001b[0m\n\u001b[0;32m---> 98\u001b[0;31m                 raise_errors=self._raise_errors)\n\u001b[0m\u001b[1;32m     99\u001b[0m             \u001b[0mstate\u001b[0m\u001b[0;34m.\u001b[0m\u001b[0mtypemap\u001b[0m \u001b[0;34m=\u001b[0m \u001b[0mtypemap\u001b[0m\u001b[0;34m\u001b[0m\u001b[0;34m\u001b[0m\u001b[0m\n\u001b[1;32m    100\u001b[0m             \u001b[0;32mif\u001b[0m \u001b[0mself\u001b[0m\u001b[0;34m.\u001b[0m\u001b[0m_raise_errors\u001b[0m\u001b[0;34m:\u001b[0m\u001b[0;34m\u001b[0m\u001b[0;34m\u001b[0m\u001b[0m\n",
            "\u001b[0;32m/usr/local/lib/python3.7/dist-packages/numba/core/typed_passes.py\u001b[0m in \u001b[0;36mtype_inference_stage\u001b[0;34m(typingctx, interp, args, return_type, locals, raise_errors)\u001b[0m\n\u001b[1;32m     68\u001b[0m \u001b[0;34m\u001b[0m\u001b[0m\n\u001b[1;32m     69\u001b[0m         \u001b[0minfer\u001b[0m\u001b[0;34m.\u001b[0m\u001b[0mbuild_constraint\u001b[0m\u001b[0;34m(\u001b[0m\u001b[0;34m)\u001b[0m\u001b[0;34m\u001b[0m\u001b[0;34m\u001b[0m\u001b[0m\n\u001b[0;32m---> 70\u001b[0;31m         \u001b[0minfer\u001b[0m\u001b[0;34m.\u001b[0m\u001b[0mpropagate\u001b[0m\u001b[0;34m(\u001b[0m\u001b[0mraise_errors\u001b[0m\u001b[0;34m=\u001b[0m\u001b[0mraise_errors\u001b[0m\u001b[0;34m)\u001b[0m\u001b[0;34m\u001b[0m\u001b[0;34m\u001b[0m\u001b[0m\n\u001b[0m\u001b[1;32m     71\u001b[0m         \u001b[0mtypemap\u001b[0m\u001b[0;34m,\u001b[0m \u001b[0mrestype\u001b[0m\u001b[0;34m,\u001b[0m \u001b[0mcalltypes\u001b[0m \u001b[0;34m=\u001b[0m \u001b[0minfer\u001b[0m\u001b[0;34m.\u001b[0m\u001b[0munify\u001b[0m\u001b[0;34m(\u001b[0m\u001b[0mraise_errors\u001b[0m\u001b[0;34m=\u001b[0m\u001b[0mraise_errors\u001b[0m\u001b[0;34m)\u001b[0m\u001b[0;34m\u001b[0m\u001b[0;34m\u001b[0m\u001b[0m\n\u001b[1;32m     72\u001b[0m \u001b[0;34m\u001b[0m\u001b[0m\n",
            "\u001b[0;32m/usr/local/lib/python3.7/dist-packages/numba/core/typeinfer.py\u001b[0m in \u001b[0;36mpropagate\u001b[0;34m(self, raise_errors)\u001b[0m\n\u001b[1;32m   1069\u001b[0m                                   if isinstance(e, ForceLiteralArg)]\n\u001b[1;32m   1070\u001b[0m                 \u001b[0;32mif\u001b[0m \u001b[0;32mnot\u001b[0m \u001b[0mforce_lit_args\u001b[0m\u001b[0;34m:\u001b[0m\u001b[0;34m\u001b[0m\u001b[0;34m\u001b[0m\u001b[0m\n\u001b[0;32m-> 1071\u001b[0;31m                     \u001b[0;32mraise\u001b[0m \u001b[0merrors\u001b[0m\u001b[0;34m[\u001b[0m\u001b[0;36m0\u001b[0m\u001b[0;34m]\u001b[0m\u001b[0;34m\u001b[0m\u001b[0;34m\u001b[0m\u001b[0m\n\u001b[0m\u001b[1;32m   1072\u001b[0m                 \u001b[0;32melse\u001b[0m\u001b[0;34m:\u001b[0m\u001b[0;34m\u001b[0m\u001b[0;34m\u001b[0m\u001b[0m\n\u001b[1;32m   1073\u001b[0m                     \u001b[0;32mraise\u001b[0m \u001b[0mreduce\u001b[0m\u001b[0;34m(\u001b[0m\u001b[0moperator\u001b[0m\u001b[0;34m.\u001b[0m\u001b[0mor_\u001b[0m\u001b[0;34m,\u001b[0m \u001b[0mforce_lit_args\u001b[0m\u001b[0;34m)\u001b[0m\u001b[0;34m\u001b[0m\u001b[0;34m\u001b[0m\u001b[0m\n",
            "\u001b[0;31mTypingError\u001b[0m: Failed in nopython mode pipeline (step: nopython frontend)\nNo implementation of function Function(<built-in function mul>) found for signature:\n \n >>> mul(array(uint8, 1d, C), int64)\n \nThere are 8 candidate implementations:\n    - Of which 2 did not match due to:\n    Operator Overload in function 'mul': File: unknown: Line unknown.\n      With argument(s): '(array(uint8, 1d, C), int64)':\n     No match for registered cases:\n      * (int64, int64) -> int64\n      * (int64, uint64) -> int64\n      * (uint64, int64) -> int64\n      * (uint64, uint64) -> uint64\n      * (float32, float32) -> float32\n      * (float64, float64) -> float64\n      * (complex64, complex64) -> complex64\n      * (complex128, complex128) -> complex128\n    - Of which 6 did not match due to:\n    Overload of function 'mul': File: <numerous>: Line N/A.\n      With argument(s): '(array(uint8, 1d, C), int64)':\n     No match.\n\nDuring: typing of intrinsic-call at <ipython-input-42-6e4b19925ab5> (20)\n\nFile \"<ipython-input-42-6e4b19925ab5>\", line 20:\ndef m_ij_k(img,m_,i,j): # img \n    <source elided>\n    if r < img.shape[0] and c < img.shape[1]:\n        temp_ij=img[r,c]*(r**i)*(c**j)\n        ^\n"
          ]
        }
      ],
      "source": [
        "def cvHuMoments_kernel(d_in_img,m_,mu_,nu_,hu_):\n",
        "    # tính m_\n",
        "    for i in range(4):\n",
        "        for j in range(4):\n",
        "            if (i,j) not in [(1,3),(2,2),(2,3)]:      \n",
        "                m_ij_k[grid_size_2, BLOCK_SIZE_2](img,m_,i,j)      \n",
        "        if i==3:    \n",
        "            break\n",
        "\n",
        "    # xbar ybar\n",
        "    xbar=m_[1,0]/m_[0,0]\n",
        "    ybar=m_[0,1]/m_[0,0]\n",
        "    # tính mu\n",
        "    mu_[1,1] = m_[1,1] - xbar*m_[0,1]\n",
        "    mu_[0,2] = m_[2,0] - xbar*m_[1,0]\n",
        "    mu_[2,0] = m_[0,2] - ybar*m_[0,1]\n",
        "    mu_[1,2] = m_[2,1] - 2*xbar*m_[1,1] - ybar*m_[2,0] + 2*(xbar**2)*m_[0,1]\n",
        "    mu_[2,1] = m_[1,2] - 2*ybar*m_[1,1] - xbar*m_[0,2] + 2*(ybar**2)*m_[1,0]\n",
        "    mu_[0,3] = m_[3,0] - 3*xbar*m_[2,0] + 2*(xbar**2)*m_[1,0]\n",
        "    mu_[3,0] = m_[0,3] - 3*ybar*m_[0,2] + 2*(ybar**2)*m_[0,1]\n",
        "\n",
        "    #tính nu  nu_ji = mu_ji / [m00^(((i+j)/2)+1)]\n",
        "    for i in range(4):\n",
        "        for j in range(4):\n",
        "            nu_[i,j] = mu_[i,j]/(m_[0,0]**(((i+j)/2)+1))\n",
        " \n",
        "    hu_[0] =  nu_[2][0] + nu_[0][2]\n",
        "    hu_[1] = (nu_[2][0] - nu_[0][2])**2 + 4*nu_[1][1]**2\n",
        "    hu_[2] = (nu_[3][0] - 3*nu_[1][2])**2 + (3*nu_[2][1] - nu_[0][3])**2\n",
        "    hu_[3] = (nu_[3][0] + nu_[1][2])**2 + (nu_[2][1] + nu_[0][3])**2\n",
        "    hu_[4] = (nu_[3][0] - 3*nu_[1][2])*(nu_[3][0] + nu_[1][2])*((nu_[3][0] + nu_[1][2])**2 - 3*(nu_[2][1] + nu_[0][3])**2) +\\\n",
        "        (3*nu_[2][1] - nu_[0][3])*(nu_[2][1] + nu_[0][3])*(3*(nu_[3][0] + nu_[1][2])**2 - (nu_[2][1] + nu_[0][3])**2)\n",
        "    hu_[5] = (nu_[2][0] - nu_[0][2])*((nu_[3][0] + nu_[1][2])**2 - (nu_[2][1] + nu_[0][3])**2) + \\\n",
        "          4*nu_[1][1]*(nu_[3][0] + nu_[1][2])*(nu_[2][1] + nu_[0][3])\n",
        "    hu_[6] = (3*nu_[2][1] - nu_[0][3])*(nu_[2][1] + nu_[0][3])*(3*(nu_[3][0] + nu_[1][2])**2-(nu_[2][1] + nu_[0][3])**2) -\\\n",
        "          (nu_[3][0] - 3*nu_[1][2])*(nu_[1][2] + nu_[0][3])*(3*(nu_[3][0] + nu_[1][2])**2-(nu_[2][1] + nu_[0][3])**2)\n",
        "\n",
        "image = cv.cvtColor(cv.imread(\"/content/Test_4.jpg\"), cv.COLOR_BGR2GRAY)\n",
        "m=np.zeros((4, 4), dtype=np.float64)\n",
        "mu=np.zeros((4, 4), dtype=np.float64)\n",
        "nu=np.zeros((4, 4), dtype=np.float64)\n",
        "hu=np.zeros(7,np.float64) \n",
        "\n",
        "#kernel\n",
        "d_in_img = cuda.to_device(image)\n",
        "d_m = cuda.to_device(m)\n",
        "d_mu = cuda.to_device(mu)\n",
        "d_nu = cuda.to_device(nu)\n",
        "d_hu = cuda.to_device(hu)\n",
        "\n",
        "cvHuMoments_kernel(d_in_img,d_m,d_mu,d_nu,d_hu)\n",
        "\n",
        "hu_ss=d_hu.copy_to_host()\n",
        "\n",
        "# tt\n",
        "m=np.zeros((4, 4), dtype=np.float64)\n",
        "mu=np.zeros((4, 4), dtype=np.float64)\n",
        "nu=np.zeros((4, 4), dtype=np.float64)\n",
        "img = cv.cvtColor(img, cv.COLOR_BGR2GRAY)\n",
        "nu2=cvMoments(img,m,mu,nu)\n",
        "hu=np.zeros(7,float) \n",
        "hu_moments = cvHuMoments(nu2, hu)\n",
        "\n",
        "np.mean(np.abs(hu_moments.astype(np.float32)- hu_ss.astype(np.float32)))"
      ]
    },
    {
      "attachments": {},
      "cell_type": "markdown",
      "metadata": {
        "id": "F3xAQjllRO9k"
      },
      "source": [
        "### hsv k jit\n",
        "image = cv.cvtColor(image, cv.COLOR_BGR2HSV) "
      ]
    },
    {
      "cell_type": "code",
      "execution_count": null,
      "metadata": {
        "colab": {
          "base_uri": "https://localhost:8080/",
          "height": 1000
        },
        "id": "hsIiTjd6RTBj",
        "outputId": "b65671f3-10b7-4772-9ac0-c167656df191"
      },
      "outputs": [
        {
          "name": "stderr",
          "output_type": "stream",
          "text": [
            "<ipython-input-20-b83fd2d106fa>:2: NumbaWarning: \n",
            "Compilation is falling back to object mode WITH looplifting enabled because Function \"convert_bgr2hsv\" failed type inference due to: No implementation of function Function(<built-in function setitem>) found for signature:\n",
            " \n",
            " >>> setitem(array(float32, 3d, C), UniTuple(int64 x 2), Tuple(float64, float64, float32))\n",
            " \n",
            "There are 16 candidate implementations:\n",
            "  - Of which 16 did not match due to:\n",
            "  Overload of function 'setitem': File: <numerous>: Line N/A.\n",
            "    With argument(s): '(array(float32, 3d, C), UniTuple(int64 x 2), Tuple(float64, float64, float32))':\n",
            "   No match.\n",
            "\n",
            "During: typing of setitem at <ipython-input-20-b83fd2d106fa> (23)\n",
            "\n",
            "File \"<ipython-input-20-b83fd2d106fa>\", line 23:\n",
            "def convert_bgr2hsv(in_pixels, out_pixels):\n",
            "    <source elided>\n",
            "                H = H + 360\n",
            "            out_pixels[i,j] = (H,S,V)\n",
            "            ^\n",
            "\n",
            "  @jit\n",
            "<ipython-input-20-b83fd2d106fa>:2: NumbaWarning: \n",
            "Compilation is falling back to object mode WITHOUT looplifting enabled because Function \"convert_bgr2hsv\" failed type inference due to: cannot determine Numba type of <class 'numba.core.dispatcher.LiftedLoop'>\n",
            "\n",
            "File \"<ipython-input-20-b83fd2d106fa>\", line 4:\n",
            "def convert_bgr2hsv(in_pixels, out_pixels):\n",
            "    for i in range(len(in_pixels)):\n",
            "    ^\n",
            "\n",
            "  @jit\n",
            "/usr/local/lib/python3.7/dist-packages/numba/core/object_mode_passes.py:178: NumbaWarning: Function \"convert_bgr2hsv\" was compiled in object mode without forceobj=True, but has lifted loops.\n",
            "\n",
            "File \"<ipython-input-20-b83fd2d106fa>\", line 4:\n",
            "def convert_bgr2hsv(in_pixels, out_pixels):\n",
            "    for i in range(len(in_pixels)):\n",
            "    ^\n",
            "\n",
            "  state.func_ir.loc))\n",
            "/usr/local/lib/python3.7/dist-packages/numba/core/object_mode_passes.py:188: NumbaDeprecationWarning: \n",
            "Fall-back from the nopython compilation path to the object mode compilation path has been detected, this is deprecated behaviour.\n",
            "\n",
            "For more information visit https://numba.pydata.org/numba-doc/latest/reference/deprecation.html#deprecation-of-object-mode-fall-back-behaviour-when-using-jit\n",
            "\n",
            "File \"<ipython-input-20-b83fd2d106fa>\", line 4:\n",
            "def convert_bgr2hsv(in_pixels, out_pixels):\n",
            "    for i in range(len(in_pixels)):\n",
            "    ^\n",
            "\n",
            "  state.func_ir.loc))\n",
            "<ipython-input-20-b83fd2d106fa>:2: NumbaWarning: \n",
            "Compilation is falling back to object mode WITHOUT looplifting enabled because Function \"convert_bgr2hsv\" failed type inference due to: No implementation of function Function(<built-in function setitem>) found for signature:\n",
            " \n",
            " >>> setitem(array(float32, 3d, C), UniTuple(int64 x 2), Tuple(float64, float64, float32))\n",
            " \n",
            "There are 16 candidate implementations:\n",
            "    - Of which 16 did not match due to:\n",
            "    Overload of function 'setitem': File: <numerous>: Line N/A.\n",
            "      With argument(s): '(array(float32, 3d, C), UniTuple(int64 x 2), Tuple(float64, float64, float32))':\n",
            "     No match.\n",
            "\n",
            "During: typing of setitem at <ipython-input-20-b83fd2d106fa> (23)\n",
            "\n",
            "File \"<ipython-input-20-b83fd2d106fa>\", line 23:\n",
            "def convert_bgr2hsv(in_pixels, out_pixels):\n",
            "    <source elided>\n",
            "                H = H + 360\n",
            "            out_pixels[i,j] = (H,S,V)\n",
            "            ^\n",
            "\n",
            "  @jit\n",
            "/usr/local/lib/python3.7/dist-packages/numba/core/object_mode_passes.py:178: NumbaWarning: Function \"convert_bgr2hsv\" was compiled in object mode without forceobj=True.\n",
            "\n",
            "File \"<ipython-input-20-b83fd2d106fa>\", line 4:\n",
            "def convert_bgr2hsv(in_pixels, out_pixels):\n",
            "    for i in range(len(in_pixels)):\n",
            "    ^\n",
            "\n",
            "  state.func_ir.loc))\n",
            "/usr/local/lib/python3.7/dist-packages/numba/core/object_mode_passes.py:188: NumbaDeprecationWarning: \n",
            "Fall-back from the nopython compilation path to the object mode compilation path has been detected, this is deprecated behaviour.\n",
            "\n",
            "For more information visit https://numba.pydata.org/numba-doc/latest/reference/deprecation.html#deprecation-of-object-mode-fall-back-behaviour-when-using-jit\n",
            "\n",
            "File \"<ipython-input-20-b83fd2d106fa>\", line 4:\n",
            "def convert_bgr2hsv(in_pixels, out_pixels):\n",
            "    for i in range(len(in_pixels)):\n",
            "    ^\n",
            "\n",
            "  state.func_ir.loc))\n"
          ]
        },
        {
          "ename": "KeyboardInterrupt",
          "evalue": "ignored",
          "output_type": "error",
          "traceback": [
            "\u001b[0;31m---------------------------------------------------------------------------\u001b[0m",
            "\u001b[0;31mKeyboardInterrupt\u001b[0m                         Traceback (most recent call last)",
            "\u001b[0;32m<ipython-input-20-b83fd2d106fa>\u001b[0m in \u001b[0;36m<module>\u001b[0;34m()\u001b[0m\n\u001b[1;32m     29\u001b[0m \u001b[0mimg\u001b[0m\u001b[0;34m=\u001b[0m\u001b[0mcv\u001b[0m\u001b[0;34m.\u001b[0m\u001b[0mimread\u001b[0m\u001b[0;34m(\u001b[0m\u001b[0;34m\"/content/Test_4.jpg\"\u001b[0m\u001b[0;34m)\u001b[0m\u001b[0;34m.\u001b[0m\u001b[0mastype\u001b[0m\u001b[0;34m(\u001b[0m\u001b[0mnp\u001b[0m\u001b[0;34m.\u001b[0m\u001b[0mfloat32\u001b[0m\u001b[0;34m)\u001b[0m\u001b[0;34m\u001b[0m\u001b[0;34m\u001b[0m\u001b[0m\n\u001b[1;32m     30\u001b[0m \u001b[0mo_img\u001b[0m \u001b[0;34m=\u001b[0m\u001b[0mimg\u001b[0m\u001b[0;34m.\u001b[0m\u001b[0mcopy\u001b[0m\u001b[0;34m(\u001b[0m\u001b[0;34m)\u001b[0m\u001b[0;34m\u001b[0m\u001b[0;34m\u001b[0m\u001b[0m\n\u001b[0;32m---> 31\u001b[0;31m \u001b[0mc2\u001b[0m \u001b[0;34m=\u001b[0m \u001b[0mconvert_bgr2hsv\u001b[0m\u001b[0;34m(\u001b[0m\u001b[0mimg\u001b[0m\u001b[0;34m,\u001b[0m\u001b[0mo_img\u001b[0m\u001b[0;34m)\u001b[0m\u001b[0;34m\u001b[0m\u001b[0;34m\u001b[0m\u001b[0m\n\u001b[0m\u001b[1;32m     32\u001b[0m \u001b[0;34m\u001b[0m\u001b[0m\n\u001b[1;32m     33\u001b[0m \u001b[0mimg\u001b[0m\u001b[0;34m=\u001b[0m\u001b[0mcv\u001b[0m\u001b[0;34m.\u001b[0m\u001b[0mimread\u001b[0m\u001b[0;34m(\u001b[0m\u001b[0;34m\"/content/Test_4.jpg\"\u001b[0m\u001b[0;34m)\u001b[0m\u001b[0;34m.\u001b[0m\u001b[0mastype\u001b[0m\u001b[0;34m(\u001b[0m\u001b[0mnp\u001b[0m\u001b[0;34m.\u001b[0m\u001b[0mfloat32\u001b[0m\u001b[0;34m)\u001b[0m\u001b[0;34m\u001b[0m\u001b[0;34m\u001b[0m\u001b[0m\n",
            "\u001b[0;31mKeyboardInterrupt\u001b[0m: "
          ]
        }
      ],
      "source": [
        "#k jit được\n",
        "# l@jit\n",
        "def convert_bgr2hsv(in_pixels, out_pixels):\n",
        "    for i in range(len(in_pixels)):\n",
        "        for j in range(len(in_pixels[0])):\n",
        "            b,g,r = in_pixels[i,j,0],in_pixels[i,j,1],in_pixels[i,j,2]\n",
        "            S=0\n",
        "            H=0\n",
        "            V = max(r,g,b)\n",
        "            # Vsmin=V-min(r,g,b)\n",
        "            if V!=0:\n",
        "                S=(V-min(r,g,b))/V # xét nguyên hay k\n",
        "            if r==g and g==b:\n",
        "                H=0\n",
        "            elif V==r:\n",
        "                H= 60*(g-b)/(V-min(r,g,b))\n",
        "            elif V==g:\n",
        "                H= 120 + 60*(b-r)/(V-min(r,g,b))\n",
        "            else:\n",
        "                H= 240 + 60*(r-g)/(V-min(r,g,b))\n",
        "            if H<0:\n",
        "                H = H + 360\n",
        "            out_pixels[i,j] = (H,S,V)\n",
        "            # out_pixels[i,j,0] = H\n",
        "            # out_pixels[i,j,1] = S\n",
        "            # out_pixels[i,j,2] = V\n",
        "    return out_pixels\n",
        "\n",
        "img=cv.imread(\"/content/Test_4.jpg\").astype(np.float32)\n",
        "o_img =img.copy()\n",
        "c2 = convert_bgr2hsv(img,o_img)\n",
        "\n",
        "img=cv.imread(\"/content/Test_4.jpg\").astype(np.float32)\n",
        "c1 = cv.cvtColor(img, cv.COLOR_BGR2HSV)\n",
        "np.mean(np.abs(c1.astype(np.float32)- c2.astype(np.float32)))"
      ]
    },
    {
      "cell_type": "code",
      "execution_count": null,
      "metadata": {
        "colab": {
          "base_uri": "https://localhost:8080/"
        },
        "id": "-ze191NLUccf",
        "outputId": "64699797-9cdd-4b6d-a759-b49670950b29"
      },
      "outputs": [
        {
          "data": {
            "text/plain": [
              "array([ 63.620693 ,   0.5550239, 209.       ], dtype=float32)"
            ]
          },
          "execution_count": 29,
          "metadata": {},
          "output_type": "execute_result"
        }
      ],
      "source": [
        "c1[0,2]"
      ]
    },
    {
      "cell_type": "code",
      "execution_count": null,
      "metadata": {
        "colab": {
          "base_uri": "https://localhost:8080/"
        },
        "id": "RYiWALuK-69Z",
        "outputId": "092302c1-4df2-4393-f6e1-c6bc14fe18c6"
      },
      "outputs": [
        {
          "data": {
            "text/plain": [
              "array([ 32, 142, 209], dtype=uint8)"
            ]
          },
          "execution_count": 31,
          "metadata": {},
          "output_type": "execute_result"
        }
      ],
      "source": [
        "c1[0,2]"
      ]
    },
    {
      "cell_type": "code",
      "execution_count": null,
      "metadata": {
        "colab": {
          "base_uri": "https://localhost:8080/"
        },
        "id": "jZSqIgDh7-m4",
        "outputId": "7dc0ff8b-9ee3-4db9-ee62-130497957275"
      },
      "outputs": [
        {
          "data": {
            "text/plain": [
              "array([196.03448  ,   0.5550239, 209.       ], dtype=float32)"
            ]
          },
          "execution_count": 20,
          "metadata": {},
          "output_type": "execute_result"
        }
      ],
      "source": [
        "c2[0,0]"
      ]
    },
    {
      "cell_type": "code",
      "execution_count": null,
      "metadata": {
        "id": "bcuT9fZ0-xdM"
      },
      "outputs": [],
      "source": [
        "img=cv.imread(\"/content/Test_4.jpg\").astype(np.float32)\n",
        "c1 = cv.cvtColor(img, cv.COLOR_BGR2HSV)"
      ]
    },
    {
      "cell_type": "code",
      "execution_count": null,
      "metadata": {
        "colab": {
          "base_uri": "https://localhost:8080/"
        },
        "id": "0rOq8hU97ATo",
        "outputId": "b4a7b0f8-d529-4a5c-a3d9-b10e4982d9ff"
      },
      "outputs": [
        {
          "data": {
            "text/plain": [
              "209"
            ]
          },
          "execution_count": 66,
          "metadata": {},
          "output_type": "execute_result"
        }
      ],
      "source": [
        "@jit\n",
        "def t(a,b,c):\n",
        "    return max(a,b,c)\n",
        "i=0\n",
        "j=0\n",
        "b,g,r = img[i,j,0],img[i,j,1],img[i,j,2]\n",
        "t(b,g,r)"
      ]
    },
    {
      "attachments": {},
      "cell_type": "markdown",
      "metadata": {
        "id": "UOTESKIT2hLi"
      },
      "source": [
        "### hsv\n",
        "image = cv.cvtColor(image, cv.COLOR_BGR2HSV) "
      ]
    },
    {
      "cell_type": "code",
      "execution_count": null,
      "metadata": {
        "colab": {
          "base_uri": "https://localhost:8080/"
        },
        "id": "Tst1-yle2hLv",
        "outputId": "7f415eac-f553-4055-8130-b062be4e32b3"
      },
      "outputs": [
        {
          "data": {
            "text/plain": [
              "3.6882642e-07"
            ]
          },
          "execution_count": 45,
          "metadata": {},
          "output_type": "execute_result"
        }
      ],
      "source": [
        "@jit\n",
        "def convert_bgr2hsv(in_pixels, out_pixels):\n",
        "    for i in range(len(in_pixels)):\n",
        "        for j in range(len(in_pixels[0])):\n",
        "            b,g,r = in_pixels[i,j,0],in_pixels[i,j,1],in_pixels[i,j,2]\n",
        "            S=0\n",
        "            H=0\n",
        "            V = max(r,g,b)\n",
        "            if V!=0:\n",
        "                S=(V-min(r,g,b))/V \n",
        "            if r==g and g==b:\n",
        "                H=0\n",
        "            elif V==r:\n",
        "                H= 60*(g-b)/(V-min(r,g,b))\n",
        "            elif V==g:\n",
        "                H= 120 + 60*(b-r)/(V-min(r,g,b))\n",
        "            else:\n",
        "                H= 240 + 60*(r-g)/(V-min(r,g,b))\n",
        "            if H<0:\n",
        "                H = H + 360\n",
        "            out_pixels[i,j,0] = H\n",
        "            out_pixels[i,j,1] = S\n",
        "            out_pixels[i,j,2] = V\n",
        "    return out_pixels\n",
        "\n",
        "img=cv.imread(\"/content/Test_4.jpg\").astype(np.float32)\n",
        "o_img =img.copy()\n",
        "c2 = convert_bgr2hsv(img,o_img)\n",
        "\n",
        "img=cv.imread(\"/content/Test_4.jpg\").astype(np.float32)\n",
        "c1 = cv.cvtColor(img, cv.COLOR_BGR2HSV)\n",
        "np.mean(np.abs(c1.astype(np.float32)- c2.astype(np.float32)))"
      ]
    },
    {
      "cell_type": "code",
      "execution_count": null,
      "metadata": {
        "colab": {
          "base_uri": "https://localhost:8080/"
        },
        "id": "Uhhd5zlst015",
        "outputId": "88a61463-170e-4abc-ae7c-29ab08418efa"
      },
      "outputs": [
        {
          "data": {
            "text/plain": [
              "array([ 63.62069  ,   0.5550239, 209.       ], dtype=float32)"
            ]
          },
          "execution_count": 6,
          "metadata": {},
          "output_type": "execute_result"
        }
      ],
      "source": [
        "c2[0,3]"
      ]
    },
    {
      "cell_type": "code",
      "execution_count": null,
      "metadata": {
        "colab": {
          "base_uri": "https://localhost:8080/"
        },
        "id": "LchSp3dft9HY",
        "outputId": "8d86d574-e274-4991-a07d-fa3219cae987"
      },
      "outputs": [
        {
          "data": {
            "text/plain": [
              "31.810345"
            ]
          },
          "execution_count": 9,
          "metadata": {},
          "output_type": "execute_result"
        }
      ],
      "source": [
        "63.62069/2"
      ]
    },
    {
      "cell_type": "code",
      "execution_count": null,
      "metadata": {
        "colab": {
          "base_uri": "https://localhost:8080/"
        },
        "id": "JsX2Omo9t25H",
        "outputId": "637bb870-2e19-4639-c6ef-40f7a12d7442"
      },
      "outputs": [
        {
          "data": {
            "text/plain": [
              "array([ 32, 142, 209], dtype=uint8)"
            ]
          },
          "execution_count": 7,
          "metadata": {},
          "output_type": "execute_result"
        }
      ],
      "source": [
        "c1[0,3]"
      ]
    },
    {
      "cell_type": "code",
      "execution_count": null,
      "metadata": {
        "colab": {
          "base_uri": "https://localhost:8080/"
        },
        "id": "rkcGzX-U5rYg",
        "outputId": "222790b9-c85f-403a-e4a6-7f2d2fe2fd5d"
      },
      "outputs": [
        {
          "data": {
            "text/plain": [
              "0.0"
            ]
          },
          "execution_count": 11,
          "metadata": {},
          "output_type": "execute_result"
        }
      ],
      "source": [
        "@cuda.jit\n",
        "def convert_bgr2hsv_kernel(in_pixels, out_pixels):\n",
        "    r_ ,c= cuda.grid(2)\n",
        "    if r_ < img.shape[0] and c < img.shape[1]:\n",
        "        # b,g,r = in_pixels[r_,c,0],in_pixels[r_,c,1],in_pixels[r_,c,2]\n",
        "        S=0\n",
        "        H=0\n",
        "        V = max(in_pixels[r_,c,2],in_pixels[r_,c,1],in_pixels[r_,c,0])\n",
        "        # Vsmin=V-min(in_pixels[r_,c,2],in_pixels[r_,c,1],in_pixels[r_,c,0])\n",
        "        if V!=0:\n",
        "            S=(V-min(in_pixels[r_,c,2],in_pixels[r_,c,1],in_pixels[r_,c,0]))/V #\n",
        "\n",
        "        if in_pixels[r_,c,2]==in_pixels[r_,c,1] and in_pixels[r_,c,1]==in_pixels[r_,c,0]:\n",
        "            H=0\n",
        "        elif V==in_pixels[r_,c,2]:\n",
        "            H= 60*(in_pixels[r_,c,1]-in_pixels[r_,c,0])/(V-min(in_pixels[r_,c,2],in_pixels[r_,c,1],in_pixels[r_,c,0]))\n",
        "        elif V==in_pixels[r_,c,1]:\n",
        "            H= 120 + 60*(in_pixels[r_,c,0]-in_pixels[r_,c,2])/(V-min(in_pixels[r_,c,2],in_pixels[r_,c,1],in_pixels[r_,c,0]))\n",
        "        else:\n",
        "            H= 240 + 60*(in_pixels[r_,c,2]-in_pixels[r_,c,1])/(V-min(in_pixels[r_,c,2],in_pixels[r_,c,1],in_pixels[r_,c,0]))\n",
        "\n",
        "        if H<0:\n",
        "            H = H + 360\n",
        "\n",
        "    \n",
        "        out_pixels[r_,c,0] = H\n",
        "        out_pixels[r_,c,1] = S\n",
        "        out_pixels[r_,c,2] = V\n",
        "    \n",
        "\n",
        "\n",
        "# tuần tự\n",
        "img=cv.imread(\"/content/Test_4.jpg\").astype(np.float32)\n",
        "o_img =img.copy()\n",
        "c2 = convert_bgr2hsv(img,o_img)\n",
        "\n",
        "#kernel\n",
        "img=cv.imread(\"/content/Test_4.jpg\")#.astype(np.float32)\n",
        "d_m2 = cuda.device_array(img.shape, dtype=np.float32)\n",
        "d_in_img = cuda.to_device(img)\n",
        "convert_bgr2hsv_kernel[grid_size_2, BLOCK_SIZE_2](d_in_img,d_m2)\n",
        "c3=d_m2.copy_to_host()\n",
        "\n",
        "# openCV\n",
        "img=cv.imread(\"/content/Test_4.jpg\").astype(np.float32)\n",
        "c1 = cv.cvtColor(img, cv.COLOR_BGR2HSV)\n",
        "np.mean(np.abs(c3.astype(np.float32)- c2.astype(np.float32)))"
      ]
    },
    {
      "cell_type": "code",
      "execution_count": null,
      "metadata": {
        "id": "8qBTDdTF2hLw"
      },
      "outputs": [],
      "source": [
        "#kernel\n",
        "img=cv.imread(\"/content/Test_4.jpg\")#.astype(np.float32)\n",
        "d_m2 = cuda.device_array(img.shape, dtype=np.float32)\n",
        "d_in_img = cuda.to_device(img)"
      ]
    },
    {
      "cell_type": "code",
      "execution_count": null,
      "metadata": {
        "colab": {
          "base_uri": "https://localhost:8080/"
        },
        "id": "sjNpFQCAXM12",
        "outputId": "ec759f81-4942-4489-bd84-603471e5c712"
      },
      "outputs": [
        {
          "name": "stdout",
          "output_type": "stream",
          "text": [
            "CPU times: user 1.99 ms, sys: 1 ms, total: 2.99 ms\n",
            "Wall time: 3.01 ms\n"
          ]
        }
      ],
      "source": [
        "%%time\n",
        "# convert_bgr2hsv_kernel[grid_size_2, BLOCK_SIZE_2](d_in_img,d_m2)"
      ]
    },
    {
      "cell_type": "code",
      "execution_count": null,
      "metadata": {
        "colab": {
          "base_uri": "https://localhost:8080/"
        },
        "id": "6gqOdvQPXVtO",
        "outputId": "20ad728c-f1df-43a6-abb8-d2c2e0597af5"
      },
      "outputs": [
        {
          "name": "stdout",
          "output_type": "stream",
          "text": [
            "CPU times: user 8.63 ms, sys: 994 µs, total: 9.62 ms\n",
            "Wall time: 9.49 ms\n"
          ]
        }
      ],
      "source": [
        "%%time\n",
        "# convert_bgr2hsv_kernel[grid_size_2, BLOCK_SIZE_2](d_in_img,d_m2)\n",
        "c3=d_m2.copy_to_host()"
      ]
    },
    {
      "attachments": {},
      "cell_type": "markdown",
      "metadata": {
        "id": "SrXJXY4iuS-3"
      },
      "source": [
        "### hsv1\n",
        "image = cv.cvtColor(image, cv.COLOR_BGR2HSV) \n",
        "ghép và so hist"
      ]
    },
    {
      "cell_type": "code",
      "execution_count": null,
      "metadata": {
        "colab": {
          "base_uri": "https://localhost:8080/"
        },
        "id": "QlW3w2fp6ql0",
        "outputId": "53c1f31f-5ebb-43f6-b7a3-1e35965bee9d"
      },
      "outputs": [
        {
          "name": "stdout",
          "output_type": "stream",
          "text": [
            "287 536 H 44.49438202247191\n",
            "----------------error----------\n"
          ]
        },
        {
          "data": {
            "text/plain": [
              "0.021694712"
            ]
          },
          "execution_count": 25,
          "metadata": {},
          "output_type": "execute_result"
        }
      ],
      "source": [
        "@jit\n",
        "def convert_bgr2hsv(in_pixels, out_pixels):\n",
        "    '''\n",
        "    3d & 3d\n",
        "    '''\n",
        "    for i in range(len(in_pixels)):\n",
        "        for j in range(len(in_pixels[0])):\n",
        "            b,g,r = in_pixels[i,j,0]/255,in_pixels[i,j,1]/255,in_pixels[i,j,2]/255\n",
        "            S=0\n",
        "            H=0\n",
        "            V = max(r,g,b)\n",
        "            if V!=0:\n",
        "                S=round((V-min(r,g,b))/V ,3)\n",
        "            if r==g and g==b:\n",
        "                H=0\n",
        "            elif V==r:\n",
        "                H= 60*(g-b)/(V-min(r,g,b))\n",
        "            elif V==g:\n",
        "                H= 120 + 60*(b-r)/(V-min(r,g,b))\n",
        "            else:\n",
        "                H= 240 + 60*(r-g)/(V-min(r,g,b))\n",
        "            if H<0:\n",
        "                H = H + 360\n",
        "            if i==287 and j==536  :\n",
        "              print(i,j,\"H\",H/2)\n",
        "            out_pixels[i,j,0] = round(H/2+0.006,0)\n",
        "            out_pixels[i,j,1] =  round(255*S,0)\n",
        "            out_pixels[i,j,2] = 255*V\n",
        "    return out_pixels\n",
        "\n",
        "img=cv.imread(\"/content/Test_4.jpg\")\n",
        "o_img =img.copy()\n",
        "c2 = convert_bgr2hsv(img,o_img)\n",
        "\n",
        "img=cv.imread(\"/content/Test_4.jpg\")\n",
        "c1 = cv.cvtColor(img, cv.COLOR_BGR2HSV)\n",
        "\n",
        "print(\"----------------error----------\")\n",
        "np.mean(np.abs(c1.astype(np.float32)- c2.astype(np.float32))) # up low"
      ]
    },
    {
      "cell_type": "code",
      "execution_count": null,
      "metadata": {
        "colab": {
          "base_uri": "https://localhost:8080/"
        },
        "id": "o8P4GW8v_Dtw",
        "outputId": "99be2cc3-5f26-4a4e-c771-8adfffd43c0f"
      },
      "outputs": [
        {
          "name": "stdout",
          "output_type": "stream",
          "text": [
            "287 536 H 44.49438202247191\n",
            "----------------error----------\n"
          ]
        },
        {
          "data": {
            "text/plain": [
              "0.31183895"
            ]
          },
          "execution_count": 18,
          "metadata": {},
          "output_type": "execute_result"
        }
      ],
      "source": [
        "#2222\n",
        "@jit\n",
        "def convert_bgr2hsv(in_pixels, out_pixels):\n",
        "    for i in range(len(in_pixels)):\n",
        "        for j in range(len(in_pixels[0])):\n",
        "            b,g,r = in_pixels[i,j,0]/255,in_pixels[i,j,1]/255,in_pixels[i,j,2]/255\n",
        "            S=0\n",
        "            H=0\n",
        "            V = max(r,g,b)\n",
        "            if V!=0:\n",
        "                S=(V-min(r,g,b))/V\n",
        "            if r==g and g==b:\n",
        "                H=0\n",
        "            elif V==r:\n",
        "                H= 60*(g-b)/(V-min(r,g,b))\n",
        "            elif V==g:\n",
        "                H= 120 + 60*(b-r)/(V-min(r,g,b))\n",
        "            else:\n",
        "                H= 240 + 60*(r-g)/(V-min(r,g,b))\n",
        "            if H<0:\n",
        "                H = H + 360\n",
        "            if i==287 and j==536  :\n",
        "              print(i,j,\"H\",H/2)\n",
        "            out_pixels[i,j,0] =H/2\n",
        "            out_pixels[i,j,1] =  255*S\n",
        "            out_pixels[i,j,2] = 255*V\n",
        "    return out_pixels\n",
        "\n",
        "img=cv.imread(\"/content/Test_4.jpg\")\n",
        "o_img =img.copy()\n",
        "c2 = convert_bgr2hsv(img,o_img)\n",
        "\n",
        "img=cv.imread(\"/content/Test_4.jpg\")\n",
        "c1 = cv.cvtColor(img, cv.COLOR_BGR2HSV)\n",
        "\n",
        "print(\"----------------error----------\")\n",
        "np.mean(np.abs(c1.astype(np.float32)- c2.astype(np.float32))) # up low"
      ]
    },
    {
      "cell_type": "code",
      "execution_count": null,
      "metadata": {
        "id": "4pZeN3j7_VJF"
      },
      "outputs": [],
      "source": [
        "l0=[]\n",
        "l1=[]\n",
        "l2=[]\n",
        "t=0\n",
        "k=0\n",
        "for i in range(img.shape[0]):\n",
        "  for j in range(img.shape[1]):\n",
        "    if  c1[i,j,0]!=c2[i,j,0]:\n",
        "      k=k+1\n",
        "      if  c1[i,j,0]>c2[i,j,0]:\n",
        "        t=t+1\n",
        "      # print(i,j,c1[i,j,0],\"!=\",c2[i,j,0])\n",
        "      if img[i,j,0] not in l0:\n",
        "        l0.append(img[i,j,0])\n",
        "      if img[i,j,1] not in l1:\n",
        "        l1.append(img[i,j,1])\n",
        "      if img[i,j,2] not in l2:\n",
        "        l2.append(img[i,j,2])"
      ]
    },
    {
      "cell_type": "code",
      "execution_count": null,
      "metadata": {
        "id": "EPBqkALzAuUj"
      },
      "outputs": [],
      "source": [
        "def in_(a):\n",
        "  print(\"min\",min(a))\n",
        "  print(\"max\",max(a))\n",
        "  a.sort()\n",
        "  print(a)"
      ]
    },
    {
      "cell_type": "code",
      "execution_count": null,
      "metadata": {
        "colab": {
          "base_uri": "https://localhost:8080/",
          "height": 165
        },
        "id": "7sGjgUnrAwzr",
        "outputId": "094a0b06-36fa-4bba-f097-7679fb200d14"
      },
      "outputs": [
        {
          "ename": "NameError",
          "evalue": "ignored",
          "output_type": "error",
          "traceback": [
            "\u001b[0;31m---------------------------------------------------------------------------\u001b[0m",
            "\u001b[0;31mNameError\u001b[0m                                 Traceback (most recent call last)",
            "\u001b[0;32m<ipython-input-1-b4d3e5c4a88e>\u001b[0m in \u001b[0;36m<module>\u001b[0;34m()\u001b[0m\n\u001b[0;32m----> 1\u001b[0;31m \u001b[0min_\u001b[0m\u001b[0;34m(\u001b[0m\u001b[0ml0\u001b[0m\u001b[0;34m)\u001b[0m\u001b[0;34m\u001b[0m\u001b[0;34m\u001b[0m\u001b[0m\n\u001b[0m",
            "\u001b[0;31mNameError\u001b[0m: name 'in_' is not defined"
          ]
        }
      ],
      "source": [
        "in_(l0)"
      ]
    },
    {
      "cell_type": "code",
      "execution_count": null,
      "metadata": {
        "colab": {
          "base_uri": "https://localhost:8080/"
        },
        "id": "4c37AG7NAw2k",
        "outputId": "a27d8921-22be-4f1e-8168-4eed49e63c6b"
      },
      "outputs": [
        {
          "data": {
            "text/plain": [
              "152"
            ]
          },
          "execution_count": 34,
          "metadata": {},
          "output_type": "execute_result"
        }
      ],
      "source": [
        "len(l)"
      ]
    },
    {
      "cell_type": "code",
      "execution_count": null,
      "metadata": {
        "colab": {
          "base_uri": "https://localhost:8080/"
        },
        "id": "WZ7bfYHxAw5V",
        "outputId": "292fc2b9-4113-4e8d-e735-244701edf8d0"
      },
      "outputs": [
        {
          "data": {
            "text/plain": [
              "[1,\n",
              " 2,\n",
              " 3,\n",
              " 4,\n",
              " 5,\n",
              " 6,\n",
              " 7,\n",
              " 8,\n",
              " 9,\n",
              " 10,\n",
              " 11,\n",
              " 12,\n",
              " 13,\n",
              " 14,\n",
              " 15,\n",
              " 16,\n",
              " 17,\n",
              " 18,\n",
              " 19,\n",
              " 20,\n",
              " 21,\n",
              " 22,\n",
              " 23,\n",
              " 24,\n",
              " 25,\n",
              " 26,\n",
              " 27,\n",
              " 28,\n",
              " 29,\n",
              " 30,\n",
              " 31,\n",
              " 32,\n",
              " 33,\n",
              " 34,\n",
              " 35,\n",
              " 36,\n",
              " 37,\n",
              " 38,\n",
              " 39,\n",
              " 40,\n",
              " 41,\n",
              " 42,\n",
              " 43,\n",
              " 44,\n",
              " 45,\n",
              " 46,\n",
              " 47,\n",
              " 48,\n",
              " 49,\n",
              " 50,\n",
              " 51,\n",
              " 52,\n",
              " 53,\n",
              " 54,\n",
              " 55,\n",
              " 56,\n",
              " 57,\n",
              " 58,\n",
              " 59,\n",
              " 61,\n",
              " 62,\n",
              " 63,\n",
              " 64,\n",
              " 65,\n",
              " 66,\n",
              " 67,\n",
              " 68,\n",
              " 69,\n",
              " 70,\n",
              " 71,\n",
              " 72,\n",
              " 73,\n",
              " 74,\n",
              " 75,\n",
              " 76,\n",
              " 77,\n",
              " 78,\n",
              " 80,\n",
              " 81,\n",
              " 82,\n",
              " 83,\n",
              " 84,\n",
              " 85,\n",
              " 86,\n",
              " 87,\n",
              " 88,\n",
              " 89,\n",
              " 92,\n",
              " 93,\n",
              " 94,\n",
              " 95,\n",
              " 96,\n",
              " 97,\n",
              " 98,\n",
              " 99,\n",
              " 100,\n",
              " 101,\n",
              " 102,\n",
              " 103,\n",
              " 104,\n",
              " 105,\n",
              " 108,\n",
              " 109,\n",
              " 110,\n",
              " 111,\n",
              " 112,\n",
              " 113,\n",
              " 114,\n",
              " 115,\n",
              " 116,\n",
              " 124,\n",
              " 125,\n",
              " 126,\n",
              " 128,\n",
              " 129,\n",
              " 130,\n",
              " 132,\n",
              " 133,\n",
              " 135,\n",
              " 138,\n",
              " 140,\n",
              " 142,\n",
              " 143,\n",
              " 144,\n",
              " 145,\n",
              " 153,\n",
              " 154,\n",
              " 155,\n",
              " 156,\n",
              " 157,\n",
              " 158,\n",
              " 159,\n",
              " 160,\n",
              " 161,\n",
              " 162,\n",
              " 163,\n",
              " 164,\n",
              " 165,\n",
              " 166,\n",
              " 167,\n",
              " 168,\n",
              " 169,\n",
              " 170,\n",
              " 171,\n",
              " 172,\n",
              " 173,\n",
              " 174,\n",
              " 175,\n",
              " 176,\n",
              " 177,\n",
              " 178,\n",
              " 179]"
            ]
          },
          "execution_count": 38,
          "metadata": {},
          "output_type": "execute_result"
        }
      ],
      "source": [
        "# l.sort()\n",
        "l"
      ]
    },
    {
      "cell_type": "code",
      "execution_count": null,
      "metadata": {
        "colab": {
          "base_uri": "https://localhost:8080/"
        },
        "id": "z3zxjMB_BMr7",
        "outputId": "58c278d3-2ee0-4500-b7d1-1d57a7bc1566"
      },
      "outputs": [
        {
          "data": {
            "text/plain": [
              "1259866"
            ]
          },
          "execution_count": 36,
          "metadata": {},
          "output_type": "execute_result"
        }
      ],
      "source": [
        "k"
      ]
    },
    {
      "cell_type": "code",
      "execution_count": null,
      "metadata": {
        "colab": {
          "base_uri": "https://localhost:8080/"
        },
        "id": "ENDrv3E6uS_E",
        "outputId": "00f12ef9-bcb1-463e-c781-0001fe1940a5"
      },
      "outputs": [
        {
          "name": "stdout",
          "output_type": "stream",
          "text": [
            "287 536 H 44.49438202247191\n"
          ]
        },
        {
          "data": {
            "text/plain": [
              "0.16317198"
            ]
          },
          "execution_count": 21,
          "metadata": {},
          "output_type": "execute_result"
        }
      ],
      "source": [
        "@cuda.jit\n",
        "def convert_bgr2hsv_kernel(in_pixels, out_pixels):\n",
        "    r_ ,c= cuda.grid(2)\n",
        "    if r_ < img.shape[0] and c < img.shape[1]:\n",
        "        # b,g,r = in_pixels[r_,c,0],in_pixels[r_,c,1],in_pixels[r_,c,2]\n",
        "        S=0\n",
        "        H=0\n",
        "        V = max(in_pixels[r_,c,2],in_pixels[r_,c,1],in_pixels[r_,c,0])\n",
        "        # Vsmin=V-min(in_pixels[r_,c,2],in_pixels[r_,c,1],in_pixels[r_,c,0])\n",
        "        if V!=0:\n",
        "            S=(V-min(in_pixels[r_,c,2],in_pixels[r_,c,1],in_pixels[r_,c,0]))/V #\n",
        "\n",
        "        if in_pixels[r_,c,2]==in_pixels[r_,c,1] and in_pixels[r_,c,1]==in_pixels[r_,c,0]:\n",
        "            H=0\n",
        "        elif V==in_pixels[r_,c,2]:\n",
        "            H= 60*(in_pixels[r_,c,1]-in_pixels[r_,c,0])/(V-min(in_pixels[r_,c,2],in_pixels[r_,c,1],in_pixels[r_,c,0]))\n",
        "        elif V==in_pixels[r_,c,1]:\n",
        "            H= 120 + 60*(in_pixels[r_,c,0]-in_pixels[r_,c,2])/(V-min(in_pixels[r_,c,2],in_pixels[r_,c,1],in_pixels[r_,c,0]))\n",
        "        else:\n",
        "            H= 240 + 60*(in_pixels[r_,c,2]-in_pixels[r_,c,1])/(V-min(in_pixels[r_,c,2],in_pixels[r_,c,1],in_pixels[r_,c,0]))\n",
        "\n",
        "        if H<0:\n",
        "            H = H + 360\n",
        "\n",
        "    \n",
        "        out_pixels[r_,c,0] = H/2\n",
        "        out_pixels[r_,c,1] = 255*S\n",
        "        out_pixels[r_,c,2] = V\n",
        "    \n",
        "\n",
        "\n",
        "# tuần tự\n",
        "img=cv.imread(\"/content/Test_4.jpg\").astype(np.float32)\n",
        "o_img =img.copy()\n",
        "c2 = convert_bgr2hsv(img,o_img)\n",
        "\n",
        "#kernel\n",
        "img=cv.imread(\"/content/Test_4.jpg\")#.astype(np.float32)\n",
        "d_m2 = cuda.device_array(img.shape, dtype=np.float32)\n",
        "d_in_img = cuda.to_device(img)\n",
        "convert_bgr2hsv_kernel[grid_size_2, BLOCK_SIZE_2](d_in_img,d_m2)\n",
        "c3=d_m2.copy_to_host()\n",
        "\n",
        "# openCV\n",
        "img=cv.imread(\"/content/Test_4.jpg\").astype(np.float32)\n",
        "c1 = cv.cvtColor(img, cv.COLOR_BGR2HSV)\n",
        "np.mean(np.abs(c3.astype(np.float32)- c2.astype(np.float32)))"
      ]
    },
    {
      "cell_type": "code",
      "execution_count": null,
      "metadata": {
        "id": "BMLR6Jv2uS_F"
      },
      "outputs": [],
      "source": [
        "#kernel\n",
        "img=cv.imread(\"/content/Test_4.jpg\")#.astype(np.float32)\n",
        "d_m2 = cuda.device_array(img.shape, dtype=np.float32)\n",
        "d_in_img = cuda.to_device(img)"
      ]
    },
    {
      "cell_type": "code",
      "execution_count": null,
      "metadata": {
        "colab": {
          "base_uri": "https://localhost:8080/"
        },
        "id": "0Dcem0qhuS_F",
        "outputId": "ec759f81-4942-4489-bd84-603471e5c712"
      },
      "outputs": [
        {
          "name": "stdout",
          "output_type": "stream",
          "text": [
            "CPU times: user 1.99 ms, sys: 1 ms, total: 2.99 ms\n",
            "Wall time: 3.01 ms\n"
          ]
        }
      ],
      "source": [
        "%%time\n",
        "# convert_bgr2hsv_kernel[grid_size_2, BLOCK_SIZE_2](d_in_img,d_m2)"
      ]
    },
    {
      "cell_type": "code",
      "execution_count": null,
      "metadata": {
        "colab": {
          "base_uri": "https://localhost:8080/"
        },
        "id": "tjsMen0ruS_F",
        "outputId": "20ad728c-f1df-43a6-abb8-d2c2e0597af5"
      },
      "outputs": [
        {
          "name": "stdout",
          "output_type": "stream",
          "text": [
            "CPU times: user 8.63 ms, sys: 994 µs, total: 9.62 ms\n",
            "Wall time: 9.49 ms\n"
          ]
        }
      ],
      "source": [
        "%%time\n",
        "# convert_bgr2hsv_kernel[grid_size_2, BLOCK_SIZE_2](d_in_img,d_m2)\n",
        "c3=d_m2.copy_to_host()"
      ]
    },
    {
      "attachments": {},
      "cell_type": "markdown",
      "metadata": {
        "id": "zPVwOSoCuMGB"
      },
      "source": [
        "### ghép 1\n",
        "sai số hàm bgr2HSV"
      ]
    },
    {
      "cell_type": "code",
      "execution_count": null,
      "metadata": {
        "colab": {
          "base_uri": "https://localhost:8080/"
        },
        "id": "If9fZll7Owns",
        "outputId": "ddd32e39-c5cb-4948-9c05-83745aad2b5a"
      },
      "outputs": [
        {
          "name": "stdout",
          "output_type": "stream",
          "text": [
            "image input hsv  uint8\n",
            "image output hsv  uint8\n",
            "[0 0 0]\n"
          ]
        }
      ],
      "source": [
        "def fd_histogram(image, mask=None):\n",
        "    bins = 8\n",
        "    # convert the image to HSV color-space\n",
        "    print(\"image input hsv \",image.dtype)\n",
        "    image = cv.cvtColor(image, cv.COLOR_BGR2HSV)\n",
        "    print(\"image output hsv \",image.dtype)\n",
        "    temp=image.copy()\n",
        "    print(temp[0,0])\n",
        "    # compute the color histogram\n",
        "    hist  = cv.calcHist([image], [0, 1, 2], None, [bins, bins, bins],  [0, 255, 0, 255, 0, 255])\n",
        "    # normalize the histogram\n",
        "    cv.normalize(hist, hist)\n",
        "    # return the histogram\n",
        "    return hist.flatten()\n",
        "\n",
        "def fd_hu_moments(image):\n",
        "    image = cv.cvtColor(image, cv.COLOR_BGR2GRAY)\n",
        "    feature = cv.HuMoments(cv.moments(image)).flatten()\n",
        "    return feature\n",
        "  \n",
        "def getFigureForImage(path):\n",
        "    img = cv.imread(path)\n",
        "    gray = cv.cvtColor(img, cv.COLOR_BGR2GRAY)\n",
        "    gray = cv.GaussianBlur(gray, (3, 3), 0)\n",
        "    mask_img = applyCannyThreshold(gray, 12)\n",
        "    mask_img = zipImage(mask_img, 8, 8, 0.12)\n",
        "    mask_img = zipImage(mask_img, 16, 16, 0.2)\n",
        "    mask_img = joinNeiboorPixel(mask_img, 8, 8, 3, 0.15)\n",
        "    mask_img = joinNeiboorPixel(mask_img, 16, 16, 3, 1 / 3)\n",
        "    for chanel in range(0, 3):\n",
        "        img[:,:,chanel] = img[:,:,chanel] * mask_img\n",
        "\n",
        "    hist_figure = fd_histogram(img).astype(np.float64)\n",
        "    hu_monents = fd_hu_moments(img)\n",
        "    fig = np.concatenate((hist_figure, hu_monents))\n",
        "    return fig\n",
        "g = getFigureForImage(\"/content/Test_4.jpg\")"
      ]
    },
    {
      "cell_type": "code",
      "execution_count": null,
      "metadata": {
        "colab": {
          "base_uri": "https://localhost:8080/"
        },
        "id": "boRVz98UxeyU",
        "outputId": "110efb43-97e8-4cd2-ffc5-76ded19b7c1a"
      },
      "outputs": [
        {
          "name": "stdout",
          "output_type": "stream",
          "text": [
            "287 536 H 29.71698113207547\n"
          ]
        }
      ],
      "source": [
        "def fd_histogram4(image, mask=None):\n",
        "    bins=8\n",
        "    # convert the image to HSV color-space\n",
        "    image = cv.cvtColor(image, cv.COLOR_BGR2HSV)\n",
        "    o_img =image.copy().astype(np.float32)\n",
        "    image = convert_bgr2hsv(image,o_img)\n",
        "    # compute the color histogram\n",
        "    hist  = cv.calcHist([image], [0, 1, 2], None, [bins, bins, bins],  [0, 255, 0, 255, 0, 255])\n",
        "    # normalize the histogram\n",
        "    cv.normalize(hist, hist)\n",
        "    # return the histogram\n",
        "    return hist.flatten()\n",
        "\n",
        "def fd_hu_moments4(image):\n",
        "    image = cv.cvtColor(image, cv.COLOR_BGR2GRAY)\n",
        "    feature = cv.HuMoments(cv.moments(image)).flatten()\n",
        "    return feature\n",
        "  \n",
        "def getFigureForImage(path):\n",
        "    img = cv.imread(path)\n",
        "    gray = cv.cvtColor(img, cv.COLOR_BGR2GRAY)\n",
        "    gray = cv.GaussianBlur(gray, (3, 3), 0)\n",
        "    mask_img = applyCannyThreshold(gray, 12)\n",
        "    mask_img = zipImage(mask_img, 8, 8, 0.12)\n",
        "    mask_img = zipImage(mask_img, 16, 16, 0.2)\n",
        "    mask_img = joinNeiboorPixel(mask_img, 8, 8, 3, 0.15)\n",
        "    mask_img = joinNeiboorPixel(mask_img, 16, 16, 3, 1 / 3)\n",
        "    for chanel in range(0, 3):\n",
        "        img[:,:,chanel] = img[:,:,chanel] * mask_img\n",
        "\n",
        "    hist_figure = fd_histogram4(img).astype(np.float64)\n",
        "    hu_monents = fd_hu_moments4(img)\n",
        "    fig = np.concatenate((hist_figure, hu_monents))\n",
        "    return fig\n",
        "g2 = getFigureForImage(\"/content/Test_4.jpg\")"
      ]
    },
    {
      "cell_type": "code",
      "execution_count": null,
      "metadata": {
        "colab": {
          "base_uri": "https://localhost:8080/"
        },
        "id": "7Nr4GPtlmzQn",
        "outputId": "8dd209f4-d2cf-4c92-bf08-3ee9932f9095"
      },
      "outputs": [
        {
          "data": {
            "text/plain": [
              "0.0071124756"
            ]
          },
          "execution_count": 31,
          "metadata": {},
          "output_type": "execute_result"
        }
      ],
      "source": [
        "np.mean(np.abs(g.astype(np.float32)- g2.astype(np.float32))) "
      ]
    },
    {
      "cell_type": "code",
      "execution_count": null,
      "metadata": {
        "colab": {
          "base_uri": "https://localhost:8080/"
        },
        "id": "YRUtTujfnAhn",
        "outputId": "76309bf9-3bac-4d37-c8c2-5d0923992b8d"
      },
      "outputs": [
        {
          "data": {
            "text/plain": [
              "0.005815248872517536"
            ]
          },
          "execution_count": 29,
          "metadata": {},
          "output_type": "execute_result"
        }
      ],
      "source": [
        "np.mean(g)"
      ]
    },
    {
      "attachments": {},
      "cell_type": "markdown",
      "metadata": {
        "id": "GLGXBRXWq3U2"
      },
      "source": [
        "### ghép"
      ]
    },
    {
      "cell_type": "code",
      "execution_count": null,
      "metadata": {
        "colab": {
          "base_uri": "https://localhost:8080/"
        },
        "id": "rW84O5qz22XW",
        "outputId": "62b45340-e6ea-4737-f192-522df00b9cc1"
      },
      "outputs": [
        {
          "name": "stdout",
          "output_type": "stream",
          "text": [
            "----------------error----------\n"
          ]
        },
        {
          "data": {
            "text/plain": [
              "0.31183895"
            ]
          },
          "execution_count": 6,
          "metadata": {},
          "output_type": "execute_result"
        }
      ],
      "source": [
        "def convert_bgr2hsv(in_pixels, out_pixels):\n",
        "    '''\n",
        "    3d & 3d\n",
        "    '''\n",
        "    for i in range(len(in_pixels)):\n",
        "        for j in range(len(in_pixels[0])):\n",
        "            b,g,r = in_pixels[i,j,0]/255.0,in_pixels[i,j,1]/255.0,in_pixels[i,j,2]/255.0\n",
        "            S=0\n",
        "            H=0\n",
        "            V = max(r,g,b)\n",
        "            if V!=0:\n",
        "                S=(V-min(r,g,b))/V \n",
        "            if r==g and g==b:\n",
        "                H=0\n",
        "            elif V==r:\n",
        "                H= 60*(g-b)/(V-min(r,g,b))\n",
        "            elif V==g:\n",
        "                H= 120 + 60*(b-r)/(V-min(r,g,b))\n",
        "            else:\n",
        "                H= 240 + 60*(r-g)/(V-min(r,g,b))\n",
        "            if H<0:\n",
        "                H = H + 360\n",
        "            out_pixels[i,j,0] = H/2\n",
        "            out_pixels[i,j,1] =  255*S\n",
        "            out_pixels[i,j,2] =255*V\n",
        "    return out_pixels\n",
        "\n",
        "img=cv.imread(\"/content/Test_4.jpg\")\n",
        "o_img =img.copy()\n",
        "c2 = convert_bgr2hsv(img,o_img)\n",
        "\n",
        "img=cv.imread(\"/content/Test_4.jpg\")\n",
        "c1 = cv.cvtColor(img, cv.COLOR_BGR2HSV)\n",
        "\n",
        "print(\"----------------error----------\")\n",
        "np.mean(np.abs(c1.astype(np.float32)- c2.astype(np.float32))) # up low"
      ]
    },
    {
      "cell_type": "code",
      "execution_count": null,
      "metadata": {
        "colab": {
          "base_uri": "https://localhost:8080/"
        },
        "id": "8mkO9MUaq3U2",
        "outputId": "ff6b303b-a218-48f6-a63e-ccab9f48ffa8"
      },
      "outputs": [
        {
          "name": "stdout",
          "output_type": "stream",
          "text": [
            "image input hsv  uint8\n",
            "image output hsv  uint8\n",
            "[0 0 0]\n"
          ]
        }
      ],
      "source": [
        "def fd_histogram(image, mask=None):\n",
        "    bins = 8\n",
        "    # convert the image to HSV color-space\n",
        "    print(\"image input hsv \",image.dtype)\n",
        "    image = cv.cvtColor(image, cv.COLOR_BGR2HSV)\n",
        "    print(\"image output hsv \",image.dtype)\n",
        "    temp=image.copy()\n",
        "    print(temp[0,0])\n",
        "    # compute the color histogram\n",
        "    hist  = cv.calcHist([image], [0, 1, 2], None, [bins, bins, bins], [0, 255, 0, 255, 0, 255])\n",
        "    # normalize the histogram\n",
        "    cv.normalize(hist, hist)\n",
        "    # return the histogram\n",
        "    return hist.flatten()\n",
        "\n",
        "def fd_hu_moments(image):\n",
        "    image = cv.cvtColor(image, cv.COLOR_BGR2GRAY)\n",
        "    feature = cv.HuMoments(cv.moments(image)).flatten()\n",
        "    return feature\n",
        "  \n",
        "def getFigureForImage(path):\n",
        "    img = cv.imread(path)\n",
        "    gray = cv.cvtColor(img, cv.COLOR_BGR2GRAY)\n",
        "    gray = cv.GaussianBlur(gray, (3, 3), 0)\n",
        "    mask_img = applyCannyThreshold(gray, 12)\n",
        "    mask_img = zipImage(mask_img, 8, 8, 0.12)\n",
        "    mask_img = zipImage(mask_img, 16, 16, 0.2)\n",
        "    mask_img = joinNeiboorPixel(mask_img, 8, 8, 3, 0.15)\n",
        "    mask_img = joinNeiboorPixel(mask_img, 16, 16, 3, 1 / 3)\n",
        "    for chanel in range(0, 3):\n",
        "        img[:,:,chanel] = img[:,:,chanel] * mask_img\n",
        "\n",
        "    hist_figure = fd_histogram(img).astype(np.float64)\n",
        "    hu_monents = fd_hu_moments(img)\n",
        "    fig = np.concatenate((hist_figure, hu_monents))\n",
        "    return fig\n",
        "g = getFigureForImage(\"/content/Test_4.jpg\")"
      ]
    },
    {
      "cell_type": "code",
      "execution_count": null,
      "metadata": {
        "id": "Iyxqe2y1q3U3"
      },
      "outputs": [],
      "source": [
        "def fd_histogram4(image, mask=None):\n",
        "    bins=8\n",
        "    # convert the image to HSV color-space\n",
        "    image = cv.cvtColor(image, cv.COLOR_BGR2HSV)\n",
        "    o_img =image.copy()\n",
        "    image = convert_bgr2hsv(image,o_img)\n",
        "    print(image)\n",
        "    # compute the color histogram\n",
        "    hist  = cv.calcHist([image], [0, 1, 2], None, [bins, bins, bins], [0, 255, 0, 255, 0, 255])\n",
        "    # normalize the histogram\n",
        "    cv.normalize(hist, hist)\n",
        "    # return the histogram\n",
        "    return hist.flatten()\n",
        "\n",
        "def fd_hu_moments4(image):\n",
        "    image = cv.cvtColor(image, cv.COLOR_BGR2GRAY)\n",
        "    feature = cv.HuMoments(cv.moments(image)).flatten()\n",
        "    return feature\n",
        "  \n",
        "def getFigureForImage(path):\n",
        "    img = cv.imread(path)\n",
        "    gray = cv.cvtColor(img, cv.COLOR_BGR2GRAY)\n",
        "    gray = cv.GaussianBlur(gray, (3, 3), 0)\n",
        "    mask_img = applyCannyThreshold(gray, 12)\n",
        "    mask_img = zipImage(mask_img, 8, 8, 0.12)\n",
        "    mask_img = zipImage(mask_img, 16, 16, 0.2)\n",
        "    mask_img = joinNeiboorPixel(mask_img, 8, 8, 3, 0.15)\n",
        "    mask_img = joinNeiboorPixel(mask_img, 16, 16, 3, 1 / 3)\n",
        "    for chanel in range(0, 3):\n",
        "        img[:,:,chanel] = img[:,:,chanel] * mask_img\n",
        "\n",
        "    hist_figure = fd_histogram4(img).astype(np.float64)\n",
        "    hu_monents = fd_hu_moments4(img)\n",
        "    fig = np.concatenate((hist_figure, hu_monents))\n",
        "    return fig\n",
        "g2 = getFigureForImage(\"/content/Test_4.jpg\")"
      ]
    },
    {
      "cell_type": "code",
      "execution_count": null,
      "metadata": {
        "colab": {
          "base_uri": "https://localhost:8080/"
        },
        "id": "gr-vem-cq3U4",
        "outputId": "013bc63f-5720-49ad-aced-6ba8ff7acdeb"
      },
      "outputs": [
        {
          "data": {
            "text/plain": [
              "0.007101606"
            ]
          },
          "execution_count": 64,
          "metadata": {},
          "output_type": "execute_result"
        }
      ],
      "source": [
        "np.mean(np.abs(g.astype(np.float32)- g2.astype(np.float32))) "
      ]
    },
    {
      "cell_type": "code",
      "execution_count": null,
      "metadata": {
        "colab": {
          "base_uri": "https://localhost:8080/"
        },
        "id": "JNrZmnq8q3U4",
        "outputId": "3ef03692-6e7b-4b9e-d940-e3d3fb40d410"
      },
      "outputs": [
        {
          "data": {
            "text/plain": [
              "0.005815248872517536"
            ]
          },
          "execution_count": 65,
          "metadata": {},
          "output_type": "execute_result"
        }
      ],
      "source": [
        "np.mean(g)"
      ]
    },
    {
      "attachments": {},
      "cell_type": "markdown",
      "metadata": {
        "id": "4HE6MDSHeen5"
      },
      "source": [
        "### ghép gốc"
      ]
    },
    {
      "cell_type": "code",
      "execution_count": null,
      "metadata": {
        "id": "i2pHLCl_eeoG"
      },
      "outputs": [],
      "source": [
        "def fd_histogram(image, mask=None):\n",
        "    bins = 8\n",
        "    # convert the image to HSV color-space\n",
        "    image = cv.cvtColor(image, cv.COLOR_BGR2HSV)\n",
        "    # compute the color histogram\n",
        "    hist  = cv.calcHist([image], [0, 1, 2], None, [bins, bins, bins], [0, 255, 0, 255, 0, 255])\n",
        "    # normalize the histogram\n",
        "    cv.normalize(hist, hist)\n",
        "    # return the histogram\n",
        "    return hist.flatten()\n",
        "\n",
        "def fd_hu_moments(image):\n",
        "    image = cv.cvtColor(image, cv.COLOR_BGR2GRAY)\n",
        "    feature = cv.HuMoments(cv.moments(image)).flatten()\n",
        "    return feature\n",
        "  \n",
        "def getFigureForImage(path):\n",
        "    img = cv.imread(path)\n",
        "    gray = cv.cvtColor(img, cv.COLOR_BGR2GRAY)\n",
        "    gray = cv.GaussianBlur(gray, (3, 3), 0)\n",
        "    mask_img = applyCannyThreshold(gray, 12)\n",
        "    mask_img = zipImage(mask_img, 8, 8, 0.12)\n",
        "    mask_img = zipImage(mask_img, 16, 16, 0.2)\n",
        "    mask_img = joinNeiboorPixel(mask_img, 8, 8, 3, 0.15)\n",
        "    mask_img = joinNeiboorPixel(mask_img, 16, 16, 3, 1 / 3)\n",
        "    for chanel in range(0, 3):\n",
        "        img[:,:,chanel] = img[:,:,chanel] * mask_img\n",
        "\n",
        "    hist_figure = fd_histogram(img).astype(np.float64)\n",
        "    hu_monents = fd_hu_moments(img)\n",
        "    fig = np.concatenate((hist_figure, hu_monents))\n",
        "    return fig\n",
        "g0 = getFigureForImage(\"/content/Test_4.jpg\")"
      ]
    },
    {
      "attachments": {},
      "cell_type": "markdown",
      "metadata": {
        "id": "oC0xUKTQyAX8"
      },
      "source": [
        "### ghép ss hu + hist"
      ]
    },
    {
      "cell_type": "code",
      "execution_count": null,
      "metadata": {
        "id": "jgO_1PN2yAX8"
      },
      "outputs": [],
      "source": [
        "def fd_histogram4(image, mask=None):\n",
        "    bins = 8\n",
        "    # convert the image to HSV color-space\n",
        "    image = cv.cvtColor(image, cv.COLOR_BGR2HSV)\n",
        "    # compute the color histogram\n",
        "    hist  = cv.calcHist([image], [0, 1, 2], None, [bins, bins, bins], [0, 255, 0, 255, 0, 255])\n",
        "    # normalize the histogram\n",
        "    cv.normalize(hist, hist)\n",
        "    # return the histogram\n",
        "    return hist.flatten()\n",
        "\n",
        "def fd_hu_moments4(image):\n",
        "    image = cv.cvtColor(image, cv.COLOR_BGR2GRAY)\n",
        "    feature = cv.HuMoments(cv.moments(image)).flatten()\n",
        "    return feature\n",
        "  \n",
        "def getFigureForImage4(path):\n",
        "    img = cv.imread(path)\n",
        "\n",
        "    gray = cv.cvtColor(img, cv.COLOR_BGR2GRAY)\n",
        "    gray = cv.GaussianBlur(gray, (3, 3), 0)\n",
        "\n",
        "    mask_img = applyCannyThreshold(gray, 12)\n",
        "    mask_img = zipImage(mask_img, 8, 8, 0.12)\n",
        "    mask_img = zipImage(mask_img, 16, 16, 0.2)\n",
        "    mask_img = joinNeiboorPixel(mask_img, 8, 8, 3, 0.15)\n",
        "    mask_img = joinNeiboorPixel(mask_img, 16, 16, 3, 1 / 3)\n",
        "    for chanel in range(0, 3):\n",
        "        img[:,:,chanel] = img[:,:,chanel] * mask_img\n",
        "\n",
        "    # hu_monents = fd_hu_moments4(img)\n",
        "    \n",
        "    hist_figure = fd_histogram4(img).astype(np.float64)\n",
        "    \n",
        "    fig = np.concatenate((hist_figure, hu_monents))\n",
        "    return fig\n",
        "g4 = getFigureForImage4(\"/content/Test_4.jpg\")"
      ]
    },
    {
      "cell_type": "code",
      "execution_count": null,
      "metadata": {
        "colab": {
          "base_uri": "https://localhost:8080/"
        },
        "id": "_ktbQCR1eeoH",
        "outputId": "013bc63f-5720-49ad-aced-6ba8ff7acdeb"
      },
      "outputs": [
        {
          "data": {
            "text/plain": [
              "0.007101606"
            ]
          },
          "execution_count": 64,
          "metadata": {},
          "output_type": "execute_result"
        }
      ],
      "source": [
        "np.mean(np.abs(g.astype(np.float32)- g2.astype(np.float32))) "
      ]
    },
    {
      "attachments": {},
      "cell_type": "markdown",
      "metadata": {
        "id": "RBinfpUJtW17"
      },
      "source": [
        "### nháp"
      ]
    },
    {
      "cell_type": "code",
      "execution_count": null,
      "metadata": {
        "colab": {
          "base_uri": "https://localhost:8080/"
        },
        "id": "3lVQkgJrtad6",
        "outputId": "cb3186c6-02a2-4299-c2e3-861d39d42b45"
      },
      "outputs": [
        {
          "name": "stdout",
          "output_type": "stream",
          "text": [
            "Looking in indexes: https://pypi.org/simple, https://us-python.pkg.dev/colab-wheels/public/simple/\n",
            "Requirement already satisfied: opencv-contrib-python in /usr/local/lib/python3.7/dist-packages (4.1.2.30)\n",
            "Requirement already satisfied: numpy>=1.14.5 in /usr/local/lib/python3.7/dist-packages (from opencv-contrib-python) (1.21.6)\n"
          ]
        }
      ],
      "source": [
        "#252"
      ]
    },
    {
      "attachments": {},
      "cell_type": "markdown",
      "metadata": {
        "id": "MI7sU-eURSo4"
      },
      "source": [
        "# 4. Nhìn lại quá trình làm đồ án"
      ]
    },
    {
      "attachments": {},
      "cell_type": "markdown",
      "metadata": {
        "id": "ZazzW6OhWyf-"
      },
      "source": [
        "**Khó khăn**: \n",
        "+ Quý: \n",
        "+ Tài: \n",
        "+ Mận: \n",
        "\n",
        "\n",
        "**Học được:**\n",
        "+ Quý: \n",
        "+ Tài: \n",
        "+ Mận: \n",
        "\n",
        "\n",
        "**Nếu có thêm thời gian**: nhóm sẽ nghiên cứu sâu hơn về ...\n"
      ]
    },
    {
      "attachments": {},
      "cell_type": "markdown",
      "metadata": {
        "id": "ygwzJin2RSo4"
      },
      "source": [
        "---"
      ]
    },
    {
      "attachments": {},
      "cell_type": "markdown",
      "metadata": {
        "id": "1JBS4Tc3RSo4"
      },
      "source": [
        "# 5. Tài liệu tham khảo"
      ]
    },
    {
      "attachments": {},
      "cell_type": "markdown",
      "metadata": {
        "id": "Fb7-KxZHB9Cg"
      },
      "source": [
        "- Nhập môn học máy: [BÀI TẬP THỰC HÀNH II ](https://drive.google.com/file/d/1U65IfdkizLD0pd1aQKp9xqVRnTj5bejR/view)\n",
        "- [Image moment - Wiki](https://en.wikipedia.org/wiki/Image_moment)\n",
        "\n",
        "- https://towardsdatascience.com/using-nmf-to-classify-companies-a77e176f276f\n",
        "- https://github.com/jonasrothfuss/fishervector\n",
        "- https://hal.inria.fr/hal-00779493/file/RR-8209.pdf\n",
        "- https://viblo.asia/p/sift-scale-invariant-feature-transform-huan-luyen-mo-hinh-cho-cac-bai-toan-phan-loai-924lJqJaZPM\n",
        "- https://xgboost.readthedocs.io/en/stable/\n",
        "- https://towardsdatascience.com/xgboost-fine-tune-and-optimize-your-model-23d996fab663\n",
        "- https://medium.com/analytics-vidhya/what-makes-xgboost-so-extreme-e1544a4433bb\n",
        "- https://www.tensorflow.org/tutorials/load_data/images#using_tfdata_for_finer_control\n",
        "- https://www.smartdraw.com/flowchart/flowchart-symbols.htm\n",
        "- https://en.wikipedia.org/wiki/Image_moment#cite_note-%E2%80%9Chu-1\n",
        "- [OpenCV RGB histogram calculation and drawing----calcHist() function, normalize() function](https://www.programmerall.com/article/5123272509/)\n",
        "\n"
      ]
    }
  ],
  "metadata": {
    "accelerator": "GPU",
    "colab": {
      "collapsed_sections": [
        "vZAMhdVySoeU",
        "7WS47gU0XR40",
        "MI7sU-eURSo4"
      ],
      "name": " ssh-LTSSUD_12_06.ipynb",
      "provenance": [],
      "toc_visible": true
    },
    "kernelspec": {
      "display_name": "Python 3",
      "language": "python",
      "name": "python3"
    },
    "language_info": {
      "codemirror_mode": {
        "name": "ipython",
        "version": 3
      },
      "file_extension": ".py",
      "mimetype": "text/x-python",
      "name": "python",
      "nbconvert_exporter": "python",
      "pygments_lexer": "ipython3",
      "version": "3.7.3"
    }
  },
  "nbformat": 4,
  "nbformat_minor": 0
}
