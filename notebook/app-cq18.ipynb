{
 "cells": [
  {
   "cell_type": "code",
   "execution_count": 1,
   "id": "1f0faaca",
   "metadata": {
    "_cell_guid": "b1076dfc-b9ad-4769-8c92-a6c4dae69d19",
    "_uuid": "8f2839f25d086af736a60e9eeb907d3b93b6e0e5",
    "execution": {
     "iopub.execute_input": "2022-05-17T16:10:49.091514Z",
     "iopub.status.busy": "2022-05-17T16:10:49.089744Z",
     "iopub.status.idle": "2022-05-17T16:10:49.095903Z",
     "shell.execute_reply": "2022-05-17T16:10:49.095179Z"
    },
    "papermill": {
     "duration": 0.054161,
     "end_time": "2022-05-17T16:10:49.096075",
     "exception": false,
     "start_time": "2022-05-17T16:10:49.041914",
     "status": "completed"
    },
    "tags": []
   },
   "outputs": [],
   "source": [
    "# This Python 3 environment comes with many helpful analytics libraries installed\n",
    "# It is defined by the kaggle/python Docker image: https://github.com/kaggle/docker-python\n",
    "# For example, here's several helpful packages to load\n",
    "\n",
    "# import numpy as np # linear algebra\n",
    "# import pandas as pd # data processing, CSV file I/O (e.g. pd.read_csv)\n",
    "\n",
    "# Input data files are available in the read-only \"../input/\" directory\n",
    "# For example, running this (by clicking run or pressing Shift+Enter) will list all files under the input directory\n",
    "\n",
    "# import os\n",
    "# for dirname, _, filenames in os.walk('/kaggle/input'):\n",
    "#     for filename in filenames:\n",
    "#         print(os.path.join(dirname, filename))\n",
    "\n",
    "# You can write up to 20GB to the current directory (/kaggle/working/) that gets preserved as output when you create a version using \"Save & Run All\" \n",
    "# You can also write temporary files to /kaggle/temp/, but they won't be saved outside of the current session"
   ]
  },
  {
   "cell_type": "markdown",
   "id": "380a66e9",
   "metadata": {
    "papermill": {
     "duration": 0.041218,
     "end_time": "2022-05-17T16:10:49.180024",
     "exception": false,
     "start_time": "2022-05-17T16:10:49.138806",
     "status": "completed"
    },
    "tags": []
   },
   "source": [
    "# Import"
   ]
  },
  {
   "cell_type": "code",
   "execution_count": 2,
   "id": "53e48130",
   "metadata": {
    "execution": {
     "iopub.execute_input": "2022-05-17T16:10:49.267948Z",
     "iopub.status.busy": "2022-05-17T16:10:49.267262Z",
     "iopub.status.idle": "2022-05-17T16:10:49.270205Z",
     "shell.execute_reply": "2022-05-17T16:10:49.269576Z"
    },
    "papermill": {
     "duration": 0.049011,
     "end_time": "2022-05-17T16:10:49.270339",
     "exception": false,
     "start_time": "2022-05-17T16:10:49.221328",
     "status": "completed"
    },
    "tags": []
   },
   "outputs": [],
   "source": [
    "# !pip install fishervector"
   ]
  },
  {
   "cell_type": "code",
   "execution_count": 3,
   "id": "0ecf0020",
   "metadata": {
    "execution": {
     "iopub.execute_input": "2022-05-17T16:10:49.357440Z",
     "iopub.status.busy": "2022-05-17T16:10:49.356744Z",
     "iopub.status.idle": "2022-05-17T16:10:49.359751Z",
     "shell.execute_reply": "2022-05-17T16:10:49.360192Z"
    },
    "papermill": {
     "duration": 0.048573,
     "end_time": "2022-05-17T16:10:49.360377",
     "exception": false,
     "start_time": "2022-05-17T16:10:49.311804",
     "status": "completed"
    },
    "tags": []
   },
   "outputs": [],
   "source": [
    "# import numpy as np\n",
    "# import pandas as pd\n",
    "# import pickle\n",
    "# import gc\n",
    "# from sklearn.preprocessing import LabelEncoder, Normalizer\n",
    "# from xgboost import XGBClassifier"
   ]
  },
  {
   "cell_type": "code",
   "execution_count": 4,
   "id": "0f29ebd8",
   "metadata": {
    "execution": {
     "iopub.execute_input": "2022-05-17T16:10:49.449963Z",
     "iopub.status.busy": "2022-05-17T16:10:49.448957Z",
     "iopub.status.idle": "2022-05-17T16:10:49.451082Z",
     "shell.execute_reply": "2022-05-17T16:10:49.451619Z"
    },
    "papermill": {
     "duration": 0.049137,
     "end_time": "2022-05-17T16:10:49.451796",
     "exception": false,
     "start_time": "2022-05-17T16:10:49.402659",
     "status": "completed"
    },
    "tags": []
   },
   "outputs": [],
   "source": [
    "# train_df = pd.read_csv('../input/plant-pathology-2020-fgvc7/train.csv')\n",
    "\n",
    "# train_label = train_df.melt(['image_id'])\n",
    "# train_label.drop(index=train_label[train_label['value'] == 0].index, inplace=True)\n",
    "\n",
    "# train_df = train_df.merge(train_label, on='image_id')\n",
    "# train_df.drop(columns=['value'], inplace=True)\n",
    "# train_df.rename(columns={'variable': 'class'}, inplace=True)\n",
    "\n",
    "# le = LabelEncoder()\n",
    "# train_df['label'] = le.fit_transform(train_df['class'])\n",
    "# train_df"
   ]
  },
  {
   "cell_type": "code",
   "execution_count": 5,
   "id": "b8d3dc08",
   "metadata": {
    "execution": {
     "iopub.execute_input": "2022-05-17T16:10:49.541845Z",
     "iopub.status.busy": "2022-05-17T16:10:49.540937Z",
     "iopub.status.idle": "2022-05-17T16:10:49.544112Z",
     "shell.execute_reply": "2022-05-17T16:10:49.544799Z"
    },
    "papermill": {
     "duration": 0.048739,
     "end_time": "2022-05-17T16:10:49.544972",
     "exception": false,
     "start_time": "2022-05-17T16:10:49.496233",
     "status": "completed"
    },
    "tags": []
   },
   "outputs": [],
   "source": [
    "# test_df = pd.read_csv('../input/plant-pathology-2020-fgvc7/test.csv')\n",
    "# test_df"
   ]
  },
  {
   "cell_type": "markdown",
   "id": "bf457e7e",
   "metadata": {
    "papermill": {
     "duration": 0.04324,
     "end_time": "2022-05-17T16:10:49.630587",
     "exception": false,
     "start_time": "2022-05-17T16:10:49.587347",
     "status": "completed"
    },
    "tags": []
   },
   "source": [
    "# SIFT + Fisher Vector"
   ]
  },
  {
   "cell_type": "code",
   "execution_count": 6,
   "id": "55929fb5",
   "metadata": {
    "execution": {
     "iopub.execute_input": "2022-05-17T16:10:49.718902Z",
     "iopub.status.busy": "2022-05-17T16:10:49.717983Z",
     "iopub.status.idle": "2022-05-17T16:10:49.720871Z",
     "shell.execute_reply": "2022-05-17T16:10:49.721346Z"
    },
    "papermill": {
     "duration": 0.048825,
     "end_time": "2022-05-17T16:10:49.721534",
     "exception": false,
     "start_time": "2022-05-17T16:10:49.672709",
     "status": "completed"
    },
    "tags": []
   },
   "outputs": [],
   "source": [
    "# from cv2 import SIFT_create, imread\n",
    "# from fishervector import FisherVectorGMM\n",
    "\n",
    "# from sklearn.model_selection import GridSearchCV"
   ]
  },
  {
   "cell_type": "code",
   "execution_count": 7,
   "id": "d292ef3e",
   "metadata": {
    "execution": {
     "iopub.execute_input": "2022-05-17T16:10:49.811460Z",
     "iopub.status.busy": "2022-05-17T16:10:49.810747Z",
     "iopub.status.idle": "2022-05-17T16:10:49.813051Z",
     "shell.execute_reply": "2022-05-17T16:10:49.812300Z"
    },
    "papermill": {
     "duration": 0.048783,
     "end_time": "2022-05-17T16:10:49.813209",
     "exception": false,
     "start_time": "2022-05-17T16:10:49.764426",
     "status": "completed"
    },
    "tags": []
   },
   "outputs": [],
   "source": [
    "# sift = SIFT_create(contrastThreshold=0.075)"
   ]
  },
  {
   "cell_type": "code",
   "execution_count": 8,
   "id": "02bbe0c6",
   "metadata": {
    "execution": {
     "iopub.execute_input": "2022-05-17T16:10:49.902639Z",
     "iopub.status.busy": "2022-05-17T16:10:49.901956Z",
     "iopub.status.idle": "2022-05-17T16:10:49.906133Z",
     "shell.execute_reply": "2022-05-17T16:10:49.905447Z"
    },
    "papermill": {
     "duration": 0.049534,
     "end_time": "2022-05-17T16:10:49.906272",
     "exception": false,
     "start_time": "2022-05-17T16:10:49.856738",
     "status": "completed"
    },
    "tags": []
   },
   "outputs": [],
   "source": [
    "# sift_des = []\n",
    "# none_count = 0\n",
    "\n",
    "# for image_name in train_df['image_id']:\n",
    "#     img = imread(f'../input/plant-pathology-2020-fgvc7/images/{image_name}.jpg')\n",
    "#     # gray_img = cvtColor(img, COLOR_RGB2GRAY)\n",
    "\n",
    "#     kp = sift.detect(img)\n",
    "#     kp, des = sift.compute(img, kp)\n",
    "    \n",
    "#     if des is None:\n",
    "#         none_count += 1\n",
    "        \n",
    "#     sift_des.append(des)\n",
    "    \n",
    "# print(f'#None descriptor: {none_count}')"
   ]
  },
  {
   "cell_type": "code",
   "execution_count": 9,
   "id": "5d79ed45",
   "metadata": {
    "execution": {
     "iopub.execute_input": "2022-05-17T16:10:49.998510Z",
     "iopub.status.busy": "2022-05-17T16:10:49.997537Z",
     "iopub.status.idle": "2022-05-17T16:10:50.000741Z",
     "shell.execute_reply": "2022-05-17T16:10:50.001598Z"
    },
    "papermill": {
     "duration": 0.051316,
     "end_time": "2022-05-17T16:10:50.001882",
     "exception": false,
     "start_time": "2022-05-17T16:10:49.950566",
     "status": "completed"
    },
    "tags": []
   },
   "outputs": [],
   "source": [
    "# with open('sift_des.pickle', 'wb') as f:\n",
    "#     pickle.dump(sift_des, f, pickle.HIGHEST_PROTOCOL)\n",
    "    \n",
    "# train_sift = np.vstack(sift_des)\n",
    "# train_sift = train_sift.reshape((1, *train_sift.shape))"
   ]
  },
  {
   "cell_type": "code",
   "execution_count": 10,
   "id": "2cd60130",
   "metadata": {
    "execution": {
     "iopub.execute_input": "2022-05-17T16:10:50.096584Z",
     "iopub.status.busy": "2022-05-17T16:10:50.095949Z",
     "iopub.status.idle": "2022-05-17T16:10:50.098346Z",
     "shell.execute_reply": "2022-05-17T16:10:50.097693Z"
    },
    "papermill": {
     "duration": 0.05002,
     "end_time": "2022-05-17T16:10:50.098508",
     "exception": false,
     "start_time": "2022-05-17T16:10:50.048488",
     "status": "completed"
    },
    "tags": []
   },
   "outputs": [],
   "source": [
    "# fv_gmm = FisherVectorGMM().fit_by_bic(train_sift, [10, 30, 60], 'fv_gmm.pickle')"
   ]
  },
  {
   "cell_type": "code",
   "execution_count": 11,
   "id": "db570fa9",
   "metadata": {
    "execution": {
     "iopub.execute_input": "2022-05-17T16:10:50.190313Z",
     "iopub.status.busy": "2022-05-17T16:10:50.189678Z",
     "iopub.status.idle": "2022-05-17T16:10:50.192675Z",
     "shell.execute_reply": "2022-05-17T16:10:50.193263Z"
    },
    "papermill": {
     "duration": 0.050343,
     "end_time": "2022-05-17T16:10:50.193463",
     "exception": false,
     "start_time": "2022-05-17T16:10:50.143120",
     "status": "completed"
    },
    "tags": []
   },
   "outputs": [],
   "source": [
    "# with open('../input/app-cq18/sift_des.pickle', 'rb') as f:\n",
    "#     sift_des = pickle.load(f)\n",
    "    \n",
    "# with open('../input/app-cq18/fv_gmm.pickle', 'rb') as f:\n",
    "#     fv_gmm = pickle.load(f)"
   ]
  },
  {
   "cell_type": "code",
   "execution_count": 12,
   "id": "fe17cae0",
   "metadata": {
    "execution": {
     "iopub.execute_input": "2022-05-17T16:10:50.283072Z",
     "iopub.status.busy": "2022-05-17T16:10:50.282443Z",
     "iopub.status.idle": "2022-05-17T16:10:50.285257Z",
     "shell.execute_reply": "2022-05-17T16:10:50.285844Z"
    },
    "papermill": {
     "duration": 0.049118,
     "end_time": "2022-05-17T16:10:50.286004",
     "exception": false,
     "start_time": "2022-05-17T16:10:50.236886",
     "status": "completed"
    },
    "tags": []
   },
   "outputs": [],
   "source": [
    "# train_fv = np.concatenate([fv_gmm.predict(des.reshape(1, *des.shape)) for des in sift_des]).\\\n",
    "#             reshape(train_df.shape[0], -1)\n",
    "# # train_fv = np.concatenate(train_fv)\n",
    "# train_fv.shape"
   ]
  },
  {
   "cell_type": "code",
   "execution_count": 13,
   "id": "b5b086bb",
   "metadata": {
    "execution": {
     "iopub.execute_input": "2022-05-17T16:10:50.376456Z",
     "iopub.status.busy": "2022-05-17T16:10:50.375808Z",
     "iopub.status.idle": "2022-05-17T16:10:50.378632Z",
     "shell.execute_reply": "2022-05-17T16:10:50.379167Z"
    },
    "papermill": {
     "duration": 0.049773,
     "end_time": "2022-05-17T16:10:50.379336",
     "exception": false,
     "start_time": "2022-05-17T16:10:50.329563",
     "status": "completed"
    },
    "tags": []
   },
   "outputs": [],
   "source": [
    "# normalizer = Normalizer(copy=False)\n",
    "# train_fv = normalizer.fit_transform(train_fv)"
   ]
  },
  {
   "cell_type": "code",
   "execution_count": 14,
   "id": "90095071",
   "metadata": {
    "execution": {
     "iopub.execute_input": "2022-05-17T16:10:50.470464Z",
     "iopub.status.busy": "2022-05-17T16:10:50.469802Z",
     "iopub.status.idle": "2022-05-17T16:10:50.473147Z",
     "shell.execute_reply": "2022-05-17T16:10:50.473668Z"
    },
    "papermill": {
     "duration": 0.050751,
     "end_time": "2022-05-17T16:10:50.473847",
     "exception": false,
     "start_time": "2022-05-17T16:10:50.423096",
     "status": "completed"
    },
    "tags": []
   },
   "outputs": [],
   "source": [
    "# boosters = ['gbtree', 'gblinear']\n",
    "# n_estimators = [50, 100, 150, 200]\n",
    "# max_depth = [3, 6, 12, 18]\n",
    "# # learning_rate = [0.01, 0.1, 0.3]\n",
    "\n",
    "# xgboost_model = XGBClassifier(objective='multi:softmax', use_label_encoder=False,\n",
    "#                               num_class=4, eval_metric='merror')\n",
    "\n",
    "# grid_search = GridSearchCV(xgboost_model, {'booster': boosters, 'n_estimators': n_estimators, 'max_depth': max_depth},\n",
    "# #                                            'learning_rate': learning_rate},\n",
    "#                            scoring='balanced_accuracy', cv=5, verbose=4, refit=False)"
   ]
  },
  {
   "cell_type": "code",
   "execution_count": 15,
   "id": "4d266a86",
   "metadata": {
    "execution": {
     "iopub.execute_input": "2022-05-17T16:10:50.566357Z",
     "iopub.status.busy": "2022-05-17T16:10:50.565406Z",
     "iopub.status.idle": "2022-05-17T16:10:50.568547Z",
     "shell.execute_reply": "2022-05-17T16:10:50.569030Z"
    },
    "papermill": {
     "duration": 0.051144,
     "end_time": "2022-05-17T16:10:50.569202",
     "exception": false,
     "start_time": "2022-05-17T16:10:50.518058",
     "status": "completed"
    },
    "tags": []
   },
   "outputs": [],
   "source": [
    "# grid_search = grid_search.fit(train_fv, train_df['label'])"
   ]
  },
  {
   "cell_type": "markdown",
   "id": "a70a2913",
   "metadata": {
    "papermill": {
     "duration": 0.043979,
     "end_time": "2022-05-17T16:10:50.658135",
     "exception": false,
     "start_time": "2022-05-17T16:10:50.614156",
     "status": "completed"
    },
    "tags": []
   },
   "source": [
    "# Neural Network as feature extractor"
   ]
  },
  {
   "cell_type": "code",
   "execution_count": 16,
   "id": "b2c9a283",
   "metadata": {
    "execution": {
     "iopub.execute_input": "2022-05-17T16:10:50.750862Z",
     "iopub.status.busy": "2022-05-17T16:10:50.749850Z",
     "iopub.status.idle": "2022-05-17T16:10:50.753185Z",
     "shell.execute_reply": "2022-05-17T16:10:50.753745Z"
    },
    "papermill": {
     "duration": 0.051391,
     "end_time": "2022-05-17T16:10:50.753924",
     "exception": false,
     "start_time": "2022-05-17T16:10:50.702533",
     "status": "completed"
    },
    "tags": []
   },
   "outputs": [],
   "source": [
    "# from tensorflow.data import Dataset, AUTOTUNE\n",
    "\n",
    "# train_ds = Dataset.list_files('../input/plant-pathology-2020-fgvc7/images/Train_*.jpg', False)\n",
    "# test_ds = Dataset.list_files('../input/plant-pathology-2020-fgvc7/images/Test_*.jpg', False)"
   ]
  },
  {
   "cell_type": "code",
   "execution_count": 17,
   "id": "9885434c",
   "metadata": {
    "execution": {
     "iopub.execute_input": "2022-05-17T16:10:50.845279Z",
     "iopub.status.busy": "2022-05-17T16:10:50.844654Z",
     "iopub.status.idle": "2022-05-17T16:10:50.848188Z",
     "shell.execute_reply": "2022-05-17T16:10:50.848787Z"
    },
    "papermill": {
     "duration": 0.051009,
     "end_time": "2022-05-17T16:10:50.848967",
     "exception": false,
     "start_time": "2022-05-17T16:10:50.797958",
     "status": "completed"
    },
    "tags": []
   },
   "outputs": [],
   "source": [
    "# from tensorflow.io import read_file, decode_jpeg\n",
    "# from tensorflow.image import resize\n",
    "\n",
    "# def decode_img(img):\n",
    "#   # Convert the compressed string to a 3D uint8 tensor\n",
    "#   img = decode_jpeg(img, channels=3)\n",
    "    \n",
    "#   # Resize the image to the desired size\n",
    "#   return resize(img, [224, 224])\n",
    "\n",
    "# def process_path(file_path):\n",
    "#     # Load the raw data from the file as a string\n",
    "#     img = read_file(file_path)\n",
    "#     img = decode_img(img)\n",
    "#     return img\n",
    "\n",
    "# train_images = train_ds.map(process_path, num_parallel_calls=AUTOTUNE)\n",
    "# test_images = test_ds.map(process_path, num_parallel_calls=AUTOTUNE)"
   ]
  },
  {
   "cell_type": "code",
   "execution_count": 18,
   "id": "ef3328d7",
   "metadata": {
    "execution": {
     "iopub.execute_input": "2022-05-17T16:10:50.943447Z",
     "iopub.status.busy": "2022-05-17T16:10:50.942729Z",
     "iopub.status.idle": "2022-05-17T16:10:50.945974Z",
     "shell.execute_reply": "2022-05-17T16:10:50.946589Z"
    },
    "papermill": {
     "duration": 0.053688,
     "end_time": "2022-05-17T16:10:50.946759",
     "exception": false,
     "start_time": "2022-05-17T16:10:50.893071",
     "status": "completed"
    },
    "tags": []
   },
   "outputs": [],
   "source": [
    "# from tensorflow.keras.applications.vgg19 import VGG19, preprocess_input\n",
    "\n",
    "# preprocess_train_images = train_images.map(preprocess_input, num_parallel_calls=AUTOTUNE)\n",
    "# preprocess_test_images = test_images.map(preprocess_input, num_parallel_calls=AUTOTUNE)"
   ]
  },
  {
   "cell_type": "code",
   "execution_count": 19,
   "id": "5b5cb7dd",
   "metadata": {
    "execution": {
     "iopub.execute_input": "2022-05-17T16:10:51.040921Z",
     "iopub.status.busy": "2022-05-17T16:10:51.040254Z",
     "iopub.status.idle": "2022-05-17T16:10:51.043249Z",
     "shell.execute_reply": "2022-05-17T16:10:51.043851Z"
    },
    "papermill": {
     "duration": 0.05258,
     "end_time": "2022-05-17T16:10:51.044017",
     "exception": false,
     "start_time": "2022-05-17T16:10:50.991437",
     "status": "completed"
    },
    "tags": []
   },
   "outputs": [],
   "source": [
    "# def configure_for_performance(ds):\n",
    "#     ds = ds.cache()\n",
    "#     ds = ds.batch(32)\n",
    "#     ds = ds.prefetch(buffer_size=AUTOTUNE)\n",
    "#     return ds\n",
    "\n",
    "# preprocess_train_images = configure_for_performance(preprocess_train_images)\n",
    "# preprocess_test_images = configure_for_performance(preprocess_test_images)"
   ]
  },
  {
   "cell_type": "code",
   "execution_count": 20,
   "id": "7c692bc9",
   "metadata": {
    "execution": {
     "iopub.execute_input": "2022-05-17T16:10:51.136394Z",
     "iopub.status.busy": "2022-05-17T16:10:51.135722Z",
     "iopub.status.idle": "2022-05-17T16:10:51.138759Z",
     "shell.execute_reply": "2022-05-17T16:10:51.139345Z"
    },
    "papermill": {
     "duration": 0.051081,
     "end_time": "2022-05-17T16:10:51.139533",
     "exception": false,
     "start_time": "2022-05-17T16:10:51.088452",
     "status": "completed"
    },
    "tags": []
   },
   "outputs": [],
   "source": [
    "# vgg19_model = VGG19(include_top=False, input_shape=(224,224,3), pooling='max')\n",
    "\n",
    "# train_features = vgg19_model.predict(preprocess_train_images, verbose=1)\n",
    "# train_features = train_features.reshape(train_df.shape[0], -1)"
   ]
  },
  {
   "cell_type": "code",
   "execution_count": 21,
   "id": "1bc0ce40",
   "metadata": {
    "execution": {
     "iopub.execute_input": "2022-05-17T16:10:51.232168Z",
     "iopub.status.busy": "2022-05-17T16:10:51.231552Z",
     "iopub.status.idle": "2022-05-17T16:10:51.234630Z",
     "shell.execute_reply": "2022-05-17T16:10:51.235169Z"
    },
    "papermill": {
     "duration": 0.050863,
     "end_time": "2022-05-17T16:10:51.235340",
     "exception": false,
     "start_time": "2022-05-17T16:10:51.184477",
     "status": "completed"
    },
    "tags": []
   },
   "outputs": [],
   "source": [
    "# test_features = vgg19_model.predict(preprocess_test_images, verbose=1)\n",
    "# test_features = test_features.reshape(test_df.shape[0], -1)\n",
    "\n",
    "# np.savez_compressed('features', train=train_features, test=test_features)"
   ]
  },
  {
   "cell_type": "code",
   "execution_count": 22,
   "id": "61edfa19",
   "metadata": {
    "execution": {
     "iopub.execute_input": "2022-05-17T16:10:51.329097Z",
     "iopub.status.busy": "2022-05-17T16:10:51.328438Z",
     "iopub.status.idle": "2022-05-17T16:10:51.331286Z",
     "shell.execute_reply": "2022-05-17T16:10:51.331778Z"
    },
    "papermill": {
     "duration": 0.05105,
     "end_time": "2022-05-17T16:10:51.331954",
     "exception": false,
     "start_time": "2022-05-17T16:10:51.280904",
     "status": "completed"
    },
    "tags": []
   },
   "outputs": [],
   "source": [
    "# features = np.load('../input/app-cq18/features.npz')\n",
    "# train_features = features['train']\n",
    "# test_features = features['test']\n",
    "\n",
    "# train_features.shape, test_features.shape"
   ]
  },
  {
   "cell_type": "code",
   "execution_count": 23,
   "id": "a1086443",
   "metadata": {
    "execution": {
     "iopub.execute_input": "2022-05-17T16:10:51.425800Z",
     "iopub.status.busy": "2022-05-17T16:10:51.425146Z",
     "iopub.status.idle": "2022-05-17T16:10:51.428053Z",
     "shell.execute_reply": "2022-05-17T16:10:51.428539Z"
    },
    "papermill": {
     "duration": 0.051519,
     "end_time": "2022-05-17T16:10:51.428705",
     "exception": false,
     "start_time": "2022-05-17T16:10:51.377186",
     "status": "completed"
    },
    "tags": []
   },
   "outputs": [],
   "source": [
    "# xgboost_model = XGBClassifier(n_estimators=512, objective='multi:softprob', use_label_encoder=False,\n",
    "#                               num_class=4, eval_metric='merror', verbosity=1,\n",
    "#                              max_depth=10, colsample_bytree=0.8, subsample=0.8)\n",
    "\n",
    "# xgboost_model = xgboost_model.fit(train_features, train_df['label'])\n",
    "# predict_prob = xgboost_model.predict_proba(test_features)"
   ]
  },
  {
   "cell_type": "code",
   "execution_count": 24,
   "id": "429a6f39",
   "metadata": {
    "execution": {
     "iopub.execute_input": "2022-05-17T16:10:51.523397Z",
     "iopub.status.busy": "2022-05-17T16:10:51.522689Z",
     "iopub.status.idle": "2022-05-17T16:10:51.524153Z",
     "shell.execute_reply": "2022-05-17T16:10:51.524678Z"
    },
    "papermill": {
     "duration": 0.051218,
     "end_time": "2022-05-17T16:10:51.524843",
     "exception": false,
     "start_time": "2022-05-17T16:10:51.473625",
     "status": "completed"
    },
    "tags": []
   },
   "outputs": [],
   "source": [
    "# predict_df = pd.DataFrame(predict_prob, columns=train_df.columns[1:5])\n",
    "# predict_df"
   ]
  },
  {
   "cell_type": "code",
   "execution_count": 25,
   "id": "5b74722c",
   "metadata": {
    "execution": {
     "iopub.execute_input": "2022-05-17T16:10:51.622186Z",
     "iopub.status.busy": "2022-05-17T16:10:51.621135Z",
     "iopub.status.idle": "2022-05-17T16:10:51.624043Z",
     "shell.execute_reply": "2022-05-17T16:10:51.624554Z"
    },
    "papermill": {
     "duration": 0.052425,
     "end_time": "2022-05-17T16:10:51.624714",
     "exception": false,
     "start_time": "2022-05-17T16:10:51.572289",
     "status": "completed"
    },
    "tags": []
   },
   "outputs": [],
   "source": [
    "# predict_df = test_df.join(predict_df)\n",
    "# predict_df"
   ]
  },
  {
   "cell_type": "code",
   "execution_count": 26,
   "id": "85c221e9",
   "metadata": {
    "execution": {
     "iopub.execute_input": "2022-05-17T16:10:51.719401Z",
     "iopub.status.busy": "2022-05-17T16:10:51.718736Z",
     "iopub.status.idle": "2022-05-17T16:10:51.721439Z",
     "shell.execute_reply": "2022-05-17T16:10:51.721966Z"
    },
    "papermill": {
     "duration": 0.052493,
     "end_time": "2022-05-17T16:10:51.722133",
     "exception": false,
     "start_time": "2022-05-17T16:10:51.669640",
     "status": "completed"
    },
    "tags": []
   },
   "outputs": [],
   "source": [
    "# predict_df.to_csv('predict.csv', index=False)"
   ]
  },
  {
   "cell_type": "code",
   "execution_count": 27,
   "id": "42b26455",
   "metadata": {
    "execution": {
     "iopub.execute_input": "2022-05-17T16:10:51.820122Z",
     "iopub.status.busy": "2022-05-17T16:10:51.819323Z",
     "iopub.status.idle": "2022-05-17T16:10:51.821957Z",
     "shell.execute_reply": "2022-05-17T16:10:51.822546Z"
    },
    "papermill": {
     "duration": 0.052588,
     "end_time": "2022-05-17T16:10:51.822713",
     "exception": false,
     "start_time": "2022-05-17T16:10:51.770125",
     "status": "completed"
    },
    "tags": []
   },
   "outputs": [],
   "source": [
    "# xgboost_model.save_model('xgb_vgg.json')\n",
    "# np.save('predict_prob.npy', predict_prob, False)"
   ]
  },
  {
   "cell_type": "markdown",
   "id": "fd4e9990",
   "metadata": {
    "papermill": {
     "duration": 0.045415,
     "end_time": "2022-05-17T16:10:51.915015",
     "exception": false,
     "start_time": "2022-05-17T16:10:51.869600",
     "status": "completed"
    },
    "tags": []
   },
   "source": [
    "# 1. Mô tả ứng dụng\n",
    "**Lưu đồ quá trình huấn luyện mô hình XGBoost**\n",
    "\n",
    "<img src=\"data:image/png;base64,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\" style=\"max-width:100%;\" />"
   ]
  },
  {
   "cell_type": "markdown",
   "id": "ad68dc49",
   "metadata": {
    "papermill": {
     "duration": 0.046297,
     "end_time": "2022-05-17T16:10:52.008211",
     "exception": false,
     "start_time": "2022-05-17T16:10:51.961914",
     "status": "completed"
    },
    "tags": []
   },
   "source": [
    "Giá trị của nút lá j được tính:\n",
    "$w^*_j = -\\frac{\\sum_{i \\in I_j} g_i}{\\sum_{i \\in I_j} h_i + \\lambda}$\n",
    "\n",
    "Trong đó:\n",
    "- $I_j$ là tập các đối tượng tại nút $j$.\n",
    "- $g_i, h_i$ lần lượt là các giá trị đạo hàm bậc 1 và 2 của hàm mất mát được chọn.\n",
    "\n",
    "Độ lợi của 1 phương án phân nhánh đề xuất được tính theo [công thức](https://www.youtube.com/watch?v=ZVFeW798-2I&list=PLblh5JKOoLULU0irPgs1SnKO6wqVjKUsQ&index=3):\n",
    "$\\mathsf{gain} = \\frac{G_L^2}{H_L + \\lambda} + \\frac{G_R^2}{H_R + \\lambda} - \\frac{G^2}{H + \\lambda}$\n",
    "\n",
    "Trong đó:\n",
    "- $G, H$ lần lượt là tổng các đạo hàm bậc 1 và 2 hàm mất mát của các đối tượng.\n",
    "    - $G_L, H_L$ ứng với các đối tượng dự kiến ở nút con trái, $G_R, H_R$ là ở nút con phải.\n",
    "    \n",
    "# 2. Cài đặt tuần tự\n",
    "## 2.2 Thiết kế\n",
    "### 2.2.2. Dự đoán từ dữ liệu đã được trích xuất và mô hình XGBoost đã train\n",
    "- Đọc mô hình:\n",
    "    - Mở và phân tích cú pháp json tập tin siêu tham số mô hình.\n",
    "    - Truy xuất từ điển thành phần chứa các siêu tham số, lấy ra các tham số:\n",
    "        - n_estimators: số lượng cây quyết định thành phần của mô hình.\n",
    "        - n_classes: số phân lớp huấn luyện.\n",
    "        - max_depth: độ sâu tối đa.\n",
    "    - Xác định số nút tối đa theo độ sâu tối đa: $\\sum_{i=0}^{\\mathsf{max\\_depth}} 2^i$\n",
    "    - Tạo mảng biểu diễn cây quyết định và đọc thông tin cây.\n",
    "- Dự đoán:\n",
    "    - Tạo mảng n_classes phần tử, phần tử $i$ thể hiện xác suất thuộc về phân lớp $i$.\n",
    "    - Duyệt cây: kết quả duyệt cây $i$ tính tổng tích lũy cho phần tử $i \\mod \\mathsf{n\\_classes}$"
   ]
  },
  {
   "cell_type": "markdown",
   "id": "fc181a52",
   "metadata": {
    "papermill": {
     "duration": 0.045082,
     "end_time": "2022-05-17T16:10:52.099242",
     "exception": false,
     "start_time": "2022-05-17T16:10:52.054160",
     "status": "completed"
    },
    "tags": []
   },
   "source": [
    "**Ví dụ cây quyết định và biểu diễn mảng**\n",
    "\n",
    "<img src=\"data:image/png;base64,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\" style=\"max-width:100%;\" />"
   ]
  },
  {
   "cell_type": "markdown",
   "id": "a877bab2",
   "metadata": {
    "papermill": {
     "duration": 0.045216,
     "end_time": "2022-05-17T16:10:52.190084",
     "exception": false,
     "start_time": "2022-05-17T16:10:52.144868",
     "status": "completed"
    },
    "tags": []
   },
   "source": [
    "## Huấn luyện mô hình XGBoost sử dụng thư viện xgboost"
   ]
  },
  {
   "cell_type": "code",
   "execution_count": 28,
   "id": "1a4e738a",
   "metadata": {
    "execution": {
     "iopub.execute_input": "2022-05-17T16:10:52.284308Z",
     "iopub.status.busy": "2022-05-17T16:10:52.283647Z",
     "iopub.status.idle": "2022-05-17T16:10:54.606005Z",
     "shell.execute_reply": "2022-05-17T16:10:54.606550Z",
     "shell.execute_reply.started": "2022-05-17T14:37:53.162625Z"
    },
    "papermill": {
     "duration": 2.371238,
     "end_time": "2022-05-17T16:10:54.606780",
     "exception": false,
     "start_time": "2022-05-17T16:10:52.235542",
     "status": "completed"
    },
    "tags": []
   },
   "outputs": [],
   "source": [
    "import numpy as np #, pandas as pd\n",
    "import cv2 as cv\n",
    "from numba import njit\n",
    "from xgboost import XGBClassifier\n",
    "from glob import glob"
   ]
  },
  {
   "cell_type": "code",
   "execution_count": 29,
   "id": "9a3f226e",
   "metadata": {
    "execution": {
     "iopub.execute_input": "2022-05-17T16:10:54.720039Z",
     "iopub.status.busy": "2022-05-17T16:10:54.719263Z",
     "iopub.status.idle": "2022-05-17T16:10:54.978581Z",
     "shell.execute_reply": "2022-05-17T16:10:54.977874Z",
     "shell.execute_reply.started": "2022-05-17T14:45:52.775095Z"
    },
    "papermill": {
     "duration": 0.325974,
     "end_time": "2022-05-17T16:10:54.978726",
     "exception": false,
     "start_time": "2022-05-17T16:10:54.652752",
     "status": "completed"
    },
    "tags": []
   },
   "outputs": [],
   "source": [
    "def applyCannyThreshold(frame, val):\n",
    "    ratio = 1.2\n",
    "    kernel_size = 3\n",
    "    low_threshold = val\n",
    "    img_blur = cv.GaussianBlur(frame, (3, 3), 0)\n",
    "    detected_edges = cv.Canny(img_blur, low_threshold, low_threshold*ratio, kernel_size)\n",
    "    mask = detected_edges != 0\n",
    "    dst = frame * (mask[:,:].astype(frame.dtype))\n",
    "    return dst\n",
    "\n",
    "\n",
    "@njit\n",
    "def zipImage(src, zip_x, zip_y, ratio):\n",
    "    '''\n",
    "    Hàm dùng để nén ảnh với threshold là ratio sẽ trả ra kết quả là ảnh với block tương ứng với zip x zip\n",
    "    và nếu block nào không đủ pixel yêu cầu thì là 0 còn ngược lại thì là 1.\n",
    "    '''\n",
    "    rs, cs = src.shape\n",
    "    zip_rs = int(rs / zip_y)\n",
    "    zip_cs = int(cs / zip_x)\n",
    "    for idx in range(0, zip_rs * zip_y, zip_y):\n",
    "        for jdx in range(0, zip_cs * zip_x, zip_x):\n",
    "            block_img = src[idx : idx + zip_y, jdx : jdx + zip_x]\n",
    "            num_pixel = np.sum(block_img > 0)\n",
    "            if num_pixel >= zip_x*zip_y * ratio:\n",
    "                block_img[:,:] = 1\n",
    "            else:\n",
    "                block_img[:,:] = 0\n",
    "\n",
    "    return src\n",
    "\n",
    "@njit\n",
    "def joinNeiboorPixel(src, zip_x, zip_y, mask_size, ratio):\n",
    "    '''\n",
    "    Hàm dùng để liên kết các ô xung quanh để lấp khuyết sẽ trả ra kết quả là một ma trận mask.\n",
    "    '''\n",
    "    rs, cs = src.shape\n",
    "    zip_rs = int(rs / zip_y)\n",
    "    zip_cs = int(cs / zip_x)\n",
    "    half = int(mask_size / 2)\n",
    "    dst = src.copy()\n",
    "    for idx in range(half , zip_rs - half):\n",
    "        for jdx in range(half, zip_cs - half):\n",
    "            start_row_mask = (idx - half ) * zip_y\n",
    "            end_row_mask = (idx + half + 1) * zip_y\n",
    "            start_col_mask = (jdx - half) * zip_x\n",
    "            end_col_mask = (jdx + half + 1) * zip_x\n",
    "            mask_block = src[start_row_mask : end_row_mask, start_col_mask : end_col_mask]\n",
    "            block_img = dst[idx * zip_y : (idx + 1) * zip_y, jdx * zip_x : (jdx + 1) * zip_x]\n",
    "            num_pixel = np.sum(mask_block > 0)\n",
    "            if num_pixel >= mask_size * mask_size * zip_x * zip_y * ratio:\n",
    "                block_img[:,:] = 1\n",
    "    return dst"
   ]
  },
  {
   "cell_type": "code",
   "execution_count": 30,
   "id": "4286bc16",
   "metadata": {
    "execution": {
     "iopub.execute_input": "2022-05-17T16:10:55.082789Z",
     "iopub.status.busy": "2022-05-17T16:10:55.078920Z",
     "iopub.status.idle": "2022-05-17T16:10:55.085965Z",
     "shell.execute_reply": "2022-05-17T16:10:55.085338Z",
     "shell.execute_reply.started": "2022-05-17T14:45:53.550254Z"
    },
    "papermill": {
     "duration": 0.061269,
     "end_time": "2022-05-17T16:10:55.086103",
     "exception": false,
     "start_time": "2022-05-17T16:10:55.024834",
     "status": "completed"
    },
    "tags": []
   },
   "outputs": [],
   "source": [
    "def fd_histogram(image):\n",
    "    bins = 8\n",
    "    # convert the image to HSV color-space\n",
    "    image = cv.cvtColor(image, cv.COLOR_BGR2HSV)\n",
    "\n",
    "    # compute the color histogram\n",
    "    hist  = cv.calcHist([image], [0, 1, 2], None, [bins, bins, bins], [0, 255, 0, 255, 0, 255])\n",
    "\n",
    "    # normalize the histogram\n",
    "    cv.normalize(hist, hist)\n",
    "\n",
    "    # return the histogram\n",
    "    return hist.flatten()\n",
    "\n",
    "def fd_hu_moments(image):\n",
    "    image = cv.cvtColor(image, cv.COLOR_BGR2GRAY)\n",
    "    feature = cv.HuMoments(cv.moments(image)).flatten()\n",
    "    return feature\n",
    "\n",
    "\n",
    "def getFigureForImage(path):\n",
    "    img = cv.imread(path)\n",
    "\n",
    "    gray = cv.cvtColor(img, cv.COLOR_BGR2GRAY)\n",
    "    gray = cv.GaussianBlur(gray, (3, 3), 0)\n",
    "\n",
    "    mask_img = applyCannyThreshold(gray, 12)\n",
    "    mask_img = zipImage(mask_img, 8, 8, 0.12)\n",
    "    mask_img = zipImage(mask_img, 16, 16, 0.2)\n",
    "    mask_img = joinNeiboorPixel(mask_img, 8, 8, 3, 0.15)\n",
    "    mask_img = joinNeiboorPixel(mask_img, 16, 16, 3, 1 / 3)\n",
    "\n",
    "    for chanel in range(3):\n",
    "        img[:,:,chanel] = img[:,:,chanel] * mask_img\n",
    "\n",
    "    hist_figure = fd_histogram(img).astype(np.float64)\n",
    "    hu_monents = fd_hu_moments(img)\n",
    "                               \n",
    "    fig = np.concatenate((hist_figure, hu_monents))\n",
    "    return fig"
   ]
  },
  {
   "cell_type": "code",
   "execution_count": 31,
   "id": "67e9025c",
   "metadata": {
    "execution": {
     "iopub.execute_input": "2022-05-17T16:10:55.182229Z",
     "iopub.status.busy": "2022-05-17T16:10:55.181617Z",
     "iopub.status.idle": "2022-05-17T16:10:55.192089Z",
     "shell.execute_reply": "2022-05-17T16:10:55.191507Z",
     "shell.execute_reply.started": "2022-05-17T14:38:23.366004Z"
    },
    "papermill": {
     "duration": 0.060179,
     "end_time": "2022-05-17T16:10:55.192225",
     "exception": false,
     "start_time": "2022-05-17T16:10:55.132046",
     "status": "completed"
    },
    "tags": []
   },
   "outputs": [],
   "source": [
    "# with open('../input/fgvc7featextract/train_data.csv') as f:\n",
    "#     ncols = len(f.readline().split(','))\n",
    "\n",
    "# X_train = np.loadtxt('../input/fgvc7featextract/train_data.csv',delimiter=',', skiprows=1, usecols=range(ncols-1))\n",
    "# X_test = np.loadtxt('../input/fgvc7featextract/test_data.csv',delimiter=',', skiprows=1, usecols=range(ncols-1))\n",
    "y_train = np.load('../input/fgvc7featextract/train_label.npy')"
   ]
  },
  {
   "cell_type": "code",
   "execution_count": 32,
   "id": "12b94c02",
   "metadata": {
    "execution": {
     "iopub.execute_input": "2022-05-17T16:10:55.288713Z",
     "iopub.status.busy": "2022-05-17T16:10:55.286694Z",
     "iopub.status.idle": "2022-05-17T16:10:55.291859Z",
     "shell.execute_reply": "2022-05-17T16:10:55.291319Z"
    },
    "papermill": {
     "duration": 0.053427,
     "end_time": "2022-05-17T16:10:55.291993",
     "exception": false,
     "start_time": "2022-05-17T16:10:55.238566",
     "status": "completed"
    },
    "tags": []
   },
   "outputs": [],
   "source": [
    "def get_sort_key(s):\n",
    "    start = s.rfind('_') + 1\n",
    "    end = s.rfind('.')\n",
    "    return int(s[start:end])"
   ]
  },
  {
   "cell_type": "code",
   "execution_count": 33,
   "id": "f550bd8e",
   "metadata": {
    "execution": {
     "iopub.execute_input": "2022-05-17T16:10:55.386247Z",
     "iopub.status.busy": "2022-05-17T16:10:55.385618Z",
     "iopub.status.idle": "2022-05-17T16:15:52.726025Z",
     "shell.execute_reply": "2022-05-17T16:15:52.726724Z",
     "shell.execute_reply.started": "2022-05-17T14:48:20.228336Z"
    },
    "papermill": {
     "duration": 297.389362,
     "end_time": "2022-05-17T16:15:52.726936",
     "exception": false,
     "start_time": "2022-05-17T16:10:55.337574",
     "status": "completed"
    },
    "tags": []
   },
   "outputs": [
    {
     "data": {
      "text/plain": [
       "(1821, 519)"
      ]
     },
     "execution_count": 33,
     "metadata": {},
     "output_type": "execute_result"
    }
   ],
   "source": [
    "train_ls = glob('../input/plant-pathology-2020-fgvc7/images/Train_*')\n",
    "train_ls = sorted(train_ls, key=get_sort_key)\n",
    "\n",
    "image_features = [getFigureForImage(path) for path in train_ls]\n",
    "\n",
    "X_train = np.vstack(image_features)\n",
    "np.save('X_train', X_train, False)\n",
    "X_train.shape"
   ]
  },
  {
   "cell_type": "code",
   "execution_count": 34,
   "id": "f8271a96",
   "metadata": {
    "execution": {
     "iopub.execute_input": "2022-05-17T16:15:52.837128Z",
     "iopub.status.busy": "2022-05-17T16:15:52.836325Z",
     "iopub.status.idle": "2022-05-17T16:16:08.447465Z",
     "shell.execute_reply": "2022-05-17T16:16:08.448137Z"
    },
    "papermill": {
     "duration": 15.669273,
     "end_time": "2022-05-17T16:16:08.448334",
     "exception": false,
     "start_time": "2022-05-17T16:15:52.779061",
     "status": "completed"
    },
    "tags": []
   },
   "outputs": [
    {
     "name": "stdout",
     "output_type": "stream",
     "text": [
      "[16:15:53] WARNING: ../src/learner.cc:1115: Starting in XGBoost 1.3.0, the default evaluation metric used with the objective 'multi:softprob' was changed from 'merror' to 'mlogloss'. Explicitly set eval_metric if you'd like to restore the old behavior.\n"
     ]
    }
   ],
   "source": [
    "xgb = XGBClassifier(objective='multi:softmax', num_class=4, n_estimators=75, learning_rate=0.2,\n",
    "                   use_label_encoder=False)\n",
    "xgb = xgb.fit(X_train, y_train)"
   ]
  },
  {
   "cell_type": "code",
   "execution_count": 35,
   "id": "53d900ba",
   "metadata": {
    "execution": {
     "iopub.execute_input": "2022-05-17T16:16:08.548772Z",
     "iopub.status.busy": "2022-05-17T16:16:08.548068Z",
     "iopub.status.idle": "2022-05-17T16:21:04.238069Z",
     "shell.execute_reply": "2022-05-17T16:21:04.238598Z",
     "shell.execute_reply.started": "2022-05-17T14:48:20.228336Z"
    },
    "papermill": {
     "duration": 295.742968,
     "end_time": "2022-05-17T16:21:04.238793",
     "exception": false,
     "start_time": "2022-05-17T16:16:08.495825",
     "status": "completed"
    },
    "tags": []
   },
   "outputs": [
    {
     "data": {
      "text/plain": [
       "(1821, 519)"
      ]
     },
     "execution_count": 35,
     "metadata": {},
     "output_type": "execute_result"
    }
   ],
   "source": [
    "test_ls = glob('../input/plant-pathology-2020-fgvc7/images/Test_*')\n",
    "test_ls = sorted(test_ls, key=get_sort_key)\n",
    "\n",
    "image_features = [getFigureForImage(path) for path in test_ls]\n",
    "\n",
    "X_test = np.vstack(image_features)\n",
    "np.save('X_test', X_test, False)\n",
    "X_test.shape"
   ]
  },
  {
   "cell_type": "code",
   "execution_count": 36,
   "id": "880100b4",
   "metadata": {
    "execution": {
     "iopub.execute_input": "2022-05-17T16:21:04.338585Z",
     "iopub.status.busy": "2022-05-17T16:21:04.337876Z",
     "iopub.status.idle": "2022-05-17T16:21:04.364280Z",
     "shell.execute_reply": "2022-05-17T16:21:04.363660Z"
    },
    "papermill": {
     "duration": 0.078567,
     "end_time": "2022-05-17T16:21:04.364456",
     "exception": false,
     "start_time": "2022-05-17T16:21:04.285889",
     "status": "completed"
    },
    "tags": []
   },
   "outputs": [
    {
     "data": {
      "text/plain": [
       "array([[1.4948586e-04, 1.3523972e-04, 9.9952698e-01, 1.8836418e-04],\n",
       "       [1.2716278e-02, 5.3265216e-03, 9.4640368e-01, 3.5553504e-02],\n",
       "       [2.5366908e-03, 4.7171128e-04, 1.4235178e-04, 9.9684924e-01],\n",
       "       ...,\n",
       "       [5.8830768e-01, 2.4206876e-03, 4.0042067e-01, 8.8509750e-03],\n",
       "       [8.5313112e-01, 2.7456027e-03, 4.3886704e-03, 1.3973455e-01],\n",
       "       [3.2998118e-01, 1.4062706e-01, 1.0247231e-01, 4.2691943e-01]],\n",
       "      dtype=float32)"
      ]
     },
     "execution_count": 36,
     "metadata": {},
     "output_type": "execute_result"
    }
   ],
   "source": [
    "y_pred = xgb.predict_proba(X_test)\n",
    "y_pred"
   ]
  },
  {
   "cell_type": "code",
   "execution_count": 37,
   "id": "51c23559",
   "metadata": {
    "execution": {
     "iopub.execute_input": "2022-05-17T16:21:04.468589Z",
     "iopub.status.busy": "2022-05-17T16:21:04.466581Z",
     "iopub.status.idle": "2022-05-17T16:21:04.479663Z",
     "shell.execute_reply": "2022-05-17T16:21:04.479100Z"
    },
    "papermill": {
     "duration": 0.064091,
     "end_time": "2022-05-17T16:21:04.479821",
     "exception": false,
     "start_time": "2022-05-17T16:21:04.415730",
     "status": "completed"
    },
    "tags": []
   },
   "outputs": [],
   "source": [
    "np.savetxt('xgblib_prob.csv', y_pred, fmt='%f', delimiter=',')\n",
    "# import pandas as pd\n",
    "# pred = pd.read_csv('../input/plant-pathology-2020-fgvc7/test.csv')"
   ]
  },
  {
   "cell_type": "code",
   "execution_count": 38,
   "id": "88d9895f",
   "metadata": {
    "execution": {
     "iopub.execute_input": "2022-05-17T16:21:04.581646Z",
     "iopub.status.busy": "2022-05-17T16:21:04.580515Z",
     "iopub.status.idle": "2022-05-17T16:21:04.687414Z",
     "shell.execute_reply": "2022-05-17T16:21:04.686528Z"
    },
    "papermill": {
     "duration": 0.159931,
     "end_time": "2022-05-17T16:21:04.687570",
     "exception": false,
     "start_time": "2022-05-17T16:21:04.527639",
     "status": "completed"
    },
    "tags": []
   },
   "outputs": [],
   "source": [
    "xgb.get_booster().dump_model('xgb_tree.json', dump_format='json')\n",
    "xgb.save_model('xgb_hyperparams.json')"
   ]
  },
  {
   "cell_type": "markdown",
   "id": "641c2465",
   "metadata": {
    "papermill": {
     "duration": 0.047806,
     "end_time": "2022-05-17T16:21:04.783521",
     "exception": false,
     "start_time": "2022-05-17T16:21:04.735715",
     "status": "completed"
    },
    "tags": []
   },
   "source": [
    "# Kiểm tra việc đọc mô hình đã huấn luyện"
   ]
  },
  {
   "cell_type": "code",
   "execution_count": 39,
   "id": "c20f111e",
   "metadata": {
    "execution": {
     "iopub.execute_input": "2022-05-17T16:21:04.883888Z",
     "iopub.status.busy": "2022-05-17T16:21:04.882984Z",
     "iopub.status.idle": "2022-05-17T16:21:04.886029Z",
     "shell.execute_reply": "2022-05-17T16:21:04.885433Z",
     "shell.execute_reply.started": "2022-05-08T14:50:32.744358Z"
    },
    "papermill": {
     "duration": 0.054736,
     "end_time": "2022-05-17T16:21:04.886160",
     "exception": false,
     "start_time": "2022-05-17T16:21:04.831424",
     "status": "completed"
    },
    "tags": []
   },
   "outputs": [],
   "source": [
    "# !python ../input/xgbfromscratchsrc/test.py ../input/fgvc7featextract/test_data.csv \\\n",
    "# ../input/xgbfromscratchsrc/xgb_hyperparams.json ../input/xgbfromscratchsrc/xgb_tree.json"
   ]
  },
  {
   "cell_type": "markdown",
   "id": "efda4c51",
   "metadata": {
    "papermill": {
     "duration": 0.060721,
     "end_time": "2022-05-17T16:21:04.995672",
     "exception": false,
     "start_time": "2022-05-17T16:21:04.934951",
     "status": "completed"
    },
    "tags": []
   },
   "source": [
    "# Tài liệu tham khảo\n",
    "- https://towardsdatascience.com/using-nmf-to-classify-companies-a77e176f276f\n",
    "- https://github.com/jonasrothfuss/fishervector\n",
    "- https://hal.inria.fr/hal-00779493/file/RR-8209.pdf\n",
    "- https://viblo.asia/p/sift-scale-invariant-feature-transform-huan-luyen-mo-hinh-cho-cac-bai-toan-phan-loai-924lJqJaZPM\n",
    "- https://xgboost.readthedocs.io/en/stable/\n",
    "- https://towardsdatascience.com/xgboost-fine-tune-and-optimize-your-model-23d996fab663\n",
    "- https://medium.com/analytics-vidhya/what-makes-xgboost-so-extreme-e1544a4433bb\n",
    "- https://www.tensorflow.org/tutorials/load_data/images#using_tfdata_for_finer_control\n",
    "- https://www.smartdraw.com/flowchart/flowchart-symbols.htm"
   ]
  }
 ],
 "metadata": {
  "kernelspec": {
   "display_name": "Python 3",
   "language": "python",
   "name": "python3"
  },
  "language_info": {
   "codemirror_mode": {
    "name": "ipython",
    "version": 3
   },
   "file_extension": ".py",
   "mimetype": "text/x-python",
   "name": "python",
   "nbconvert_exporter": "python",
   "pygments_lexer": "ipython3",
   "version": "3.7.12"
  },
  "papermill": {
   "default_parameters": {},
   "duration": 626.929744,
   "end_time": "2022-05-17T16:21:05.969304",
   "environment_variables": {},
   "exception": null,
   "input_path": "__notebook__.ipynb",
   "output_path": "__notebook__.ipynb",
   "parameters": {},
   "start_time": "2022-05-17T16:10:39.039560",
   "version": "2.3.3"
  }
 },
 "nbformat": 4,
 "nbformat_minor": 5
}
