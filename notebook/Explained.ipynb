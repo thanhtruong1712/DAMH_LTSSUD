{
  "cells": [
    {
      "attachments": {},
      "cell_type": "markdown",
      "metadata": {
        "id": "3F7vkUiTbEU5"
      },
      "source": [
        "Thư viện OpenCV là thư viện xử lý đồ họa trên máy tính được viết bằng C/C++ và làm tăng tốc độ thực thi các hàm và giảm thời gian chạy. \n",
        "OpenCV được viết bằng code tuần tự. OpenCV có tính năng tăng tốc GPU trong các hoạt động thời gian thực.\n",
        "\n",
        "Thư viện XGBoost là thư viện học máy được viết bằng C++ và giống với OpenCV, việc viết bằng C++ giúp giảm thời gian chạy, có được hiệu suất tốt nhất. XGBoost được viết bằng code tuần tự."
      ]
    },
    {
      "attachments": {},
      "cell_type": "markdown",
      "metadata": {
        "id": "LiATRbpLbEpq"
      },
      "source": [
        "Cài đặt tuần tự chậm hơn thư viện vì cài đặt tuần tự được viết bằng Python và OpenCV được viết bằng C++ nên tốc độ thực thi hàm của 2 ngôn ngữ có sự khác biệt lớn. C++ là ngôn ngữ biên dịch, gần với mã máy nên tốc độ thực thi nhanh hơn; Python là ngôn ngữ thông dịch, phải dịch ra ngôn ngữ biên dịch với trình biên dịch ảo nên tốc độ thực thi chậm hơn."
      ]
    }
  ],
  "metadata": {
    "colab": {
      "collapsed_sections": [],
      "name": "Explained.ipynb",
      "provenance": []
    },
    "kernelspec": {
      "display_name": "Python 3",
      "name": "python3"
    },
    "language_info": {
      "name": "python"
    }
  },
  "nbformat": 4,
  "nbformat_minor": 0
}
